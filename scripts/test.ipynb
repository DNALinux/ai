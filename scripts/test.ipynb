{
 "cells": [
  {
   "cell_type": "code",
   "execution_count": 1,
   "metadata": {},
   "outputs": [],
   "source": [
    "import sys\n",
    "sys.path.append('.')\n",
    "import RAG as rag\n",
    "import VectorDB as vdb\n",
    "import RAG as rag"
   ]
  },
  {
   "cell_type": "code",
   "execution_count": 2,
   "metadata": {},
   "outputs": [],
   "source": [
    "input_dir = \"/home/tagore/repos/ai/data/exampe_debug_folder\"\n",
    "output_dir =  \"/home/tagore/repos/ai/data/exampe_debug_folder\"\n",
    "urls_path = \"/home/tagore/repos/ai/data/exampe_debug_folder/urls.txt\"\n",
    "chroma_db_dir = \"/home/tagore/repos/ai/data/example_db\"\n",
    "chroma_db_name = 'test'\n",
    "model = \"mxbai-embed-large\""
   ]
  },
  {
   "cell_type": "code",
   "execution_count": 3,
   "metadata": {},
   "outputs": [],
   "source": [
    "test_vector_db = vdb.VectorDB(chroma_db_dir, chroma_db_name)"
   ]
  },
  {
   "cell_type": "code",
   "execution_count": 4,
   "metadata": {},
   "outputs": [],
   "source": [
    "test_vector_db.load_data(input_dir=input_dir)"
   ]
  },
  {
   "cell_type": "code",
   "execution_count": 18,
   "metadata": {},
   "outputs": [],
   "source": [
    "test_vector_db.load_data(urls_path=urls_path)"
   ]
  },
  {
   "cell_type": "code",
   "execution_count": 4,
   "metadata": {},
   "outputs": [],
   "source": [
    "test_RAG = rag.RAG(chroma_db_dir, chroma_db_name)"
   ]
  }
 ],
 "metadata": {
  "kernelspec": {
   "display_name": "ml",
   "language": "python",
   "name": "python3"
  },
  "language_info": {
   "codemirror_mode": {
    "name": "ipython",
    "version": 3
   },
   "file_extension": ".py",
   "mimetype": "text/x-python",
   "name": "python",
   "nbconvert_exporter": "python",
   "pygments_lexer": "ipython3",
   "version": "3.10.12"
  }
 },
 "nbformat": 4,
 "nbformat_minor": 2
}

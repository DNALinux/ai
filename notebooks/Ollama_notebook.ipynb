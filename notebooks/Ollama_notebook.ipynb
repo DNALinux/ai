{
  "cells": [
    {
      "cell_type": "markdown",
      "metadata": {
        "id": "7LMOJVtT-FhJ"
      },
      "source": [
        "# Run an LLM with Ollama server in a Colab Notebook\n",
        "\n",
        "This Colab notebook demonstrates how to easily run an LLM using Ollama.  We’ll set up an Ollama server within Colab, allowing you to interact with powerful language models directly from your browser.\n",
        "\n",
        "To efficiently run large language models (LLMs), this setup combines Ollama's computational capabilities with Colab’s accessible cloud environment, allowing users to execute advanced AI tasks directly from their browsers without needing local resources.\n",
        "\n",
        "Let’s get started!\n",
        "\n",
        "By: Sebastian Bassi [DNALinux.com](https://dnalinux.com)\n",
        "\n",
        "<br>\n",
        "<br>\n",
        "<br>\n",
        "\n",
        "**Note**: If you are seeing this notebook in GitHub or in a non-colab server, press the following button to run it in Colab [![Open In Colab](https://colab.research.google.com/assets/colab-badge.svg)](https://colab.research.google.com/github/DNALinux/ai/blob/main/notebooks/Ollama_notebook.ipynb)"
      ]
    },
    {
      "cell_type": "markdown",
      "metadata": {
        "id": "3_sLrQaKCxX-"
      },
      "source": [
        "# Preparation work (install dependencies)"
      ]
    },
    {
      "cell_type": "code",
      "execution_count": null,
      "metadata": {
        "collapsed": true,
        "id": "-DetMeD6YhZZ"
      },
      "outputs": [],
      "source": [
        "!apt install pciutils lshw\n",
        "!curl -fsSL https://ollama.com/install.sh | sh\n"
      ]
    },
    {
      "cell_type": "markdown",
      "metadata": {
        "id": "cxMPaXdNC_FG"
      },
      "source": [
        "# Start the LLM server (Ollama)"
      ]
    },
    {
      "cell_type": "code",
      "execution_count": 2,
      "metadata": {
        "id": "5CX-b_9gZDfC"
      },
      "outputs": [],
      "source": [
        "import os\n",
        "import threading\n",
        "import subprocess\n",
        "import requests\n",
        "import json\n",
        "\n",
        "def ollama():\n",
        "    os.environ['OLLAMA_HOST'] = '0.0.0.0:11434'\n",
        "    os.environ['OLLAMA_ORIGINS'] = '*'\n",
        "    subprocess.Popen([\"ollama\", \"serve\"])\n",
        "\n",
        "\n",
        "ollama_thread = threading.Thread(target=ollama)\n",
        "ollama_thread.start()"
      ]
    },
    {
      "cell_type": "markdown",
      "metadata": {
        "id": "9OBwT7bAHxt9"
      },
      "source": [
        "# Download an LLM model\n",
        "\n",
        "\n",
        "Your choice of LLM model depends on your GPU's capabilities and your tolerance for wait times.\n",
        "\n",
        "## Key Considerations\n",
        "\n",
        "Larger models (e.g., **Llama4** or **Llama3.3:70B**) require significant GPU RAM (over 50 GB). On platforms like Google Colab, this is only feasible with an A100 GPU. Don't use T4 GPUs for these models, as they are incompatible.\n",
        "\n",
        "Speed vs. Quality: Larger models deliver higher-quality outputs but respond slower. Smaller models are faster but produce less accurate results.\n",
        "\n",
        "Balance: For a middle ground between speed, resource usage, and output quality, consider **Gemma:12B** or **Llama3.1:8B**.\n",
        "\n",
        "T4 Compatibility: **Phi4** offers strong performance and, despite its size, is compatible with T4 GPUs.\n",
        "\n",
        "Don't use V2 TPU on Google Colab since it is slow for most tasks from the notebook."
      ]
    },
    {
      "cell_type": "code",
      "execution_count": 3,
      "metadata": {
        "cellView": "form",
        "collapsed": true,
        "id": "WLxm5xViZEnc",
        "colab": {
          "base_uri": "https://localhost:8080/"
        },
        "outputId": "48b25f78-3991-49be-9525-4ac4402801d8"
      },
      "outputs": [
        {
          "output_type": "stream",
          "name": "stdout",
          "text": [
            "\u001b[?2026h\u001b[?25l\u001b[1G\u001b[?25h\u001b[?2026l\u001b[?2026h\u001b[?25l\u001b[1G\u001b[?25h\u001b[?2026l\u001b[?2026h\u001b[?25l\u001b[1G\u001b[?25h\u001b[?2026l\u001b[?2026h\u001b[?25l\u001b[1G\u001b[?25h\u001b[?2026l\u001b[?2026h\u001b[?25l\u001b[1G\u001b[?25h\u001b[?2026l\u001b[?2026h\u001b[?25l\u001b[1G\u001b[?25h\u001b[?2026l\u001b[?2026h\u001b[?25l\u001b[1G\u001b[?25h\u001b[?2026l\u001b[?2026h\u001b[?25l\u001b[1G\u001b[?25h\u001b[?2026l\u001b[?2026h\u001b[?25l\u001b[1G\u001b[?25h\u001b[?2026l\u001b[?2026h\u001b[?25l\u001b[1G\u001b[?25h\u001b[?2026l\u001b[?2026h\u001b[?25l\u001b[1G\u001b[?25h\u001b[?2026l\u001b[?2026h\u001b[?25l\u001b[1G\u001b[?25h\u001b[?2026l\u001b[?2026h\u001b[?25l\u001b[A\u001b[1G\u001b[?25h\u001b[?2026l\u001b[?2026h\u001b[?25l\u001b[A\u001b[1G\u001b[?25h\u001b[?2026l\u001b[?2026h\u001b[?25l\u001b[A\u001b[1G\u001b[?25h\u001b[?2026l\u001b[?2026h\u001b[?25l\u001b[A\u001b[1G\u001b[?25h\u001b[?2026l\u001b[?2026h\u001b[?25l\u001b[A\u001b[1G\u001b[?25h\u001b[?2026l\u001b[?2026h\u001b[?25l\u001b[A\u001b[1G\u001b[?25h\u001b[?2026l\u001b[?2026h\u001b[?25l\u001b[A\u001b[1G\u001b[?25h\u001b[?2026l\u001b[?2026h\u001b[?25l\u001b[A\u001b[1G\u001b[?25h\u001b[?2026l\u001b[?2026h\u001b[?25l\u001b[A\u001b[1G\u001b[?25h\u001b[?2026l\u001b[?2026h\u001b[?25l\u001b[A\u001b[1G\u001b[?25h\u001b[?2026l\u001b[?2026h\u001b[?25l\u001b[A\u001b[1G\u001b[?25h\u001b[?2026l\u001b[?2026h\u001b[?25l\u001b[A\u001b[1G\u001b[?25h\u001b[?2026l\u001b[?2026h\u001b[?25l\u001b[A\u001b[1G\u001b[?25h\u001b[?2026l\u001b[?2026h\u001b[?25l\u001b[A\u001b[1G\u001b[?25h\u001b[?2026l\u001b[?2026h\u001b[?25l\u001b[A\u001b[1G\u001b[?25h\u001b[?2026l\u001b[?2026h\u001b[?25l\u001b[A\u001b[1G\u001b[?25h\u001b[?2026l\u001b[?2026h\u001b[?25l\u001b[A\u001b[1G\u001b[?25h\u001b[?2026l\u001b[?2026h\u001b[?25l\u001b[A\u001b[1G\u001b[?25h\u001b[?2026l\u001b[?2026h\u001b[?25l\u001b[A\u001b[1G\u001b[?25h\u001b[?2026l\u001b[?2026h\u001b[?25l\u001b[A\u001b[1G\u001b[?25h\u001b[?2026l\u001b[?2026h\u001b[?25l\u001b[A\u001b[1G\u001b[?25h\u001b[?2026l\u001b[?2026h\u001b[?25l\u001b[A\u001b[1G\u001b[?25h\u001b[?2026l\u001b[?2026h\u001b[?25l\u001b[A\u001b[1G\u001b[?25h\u001b[?2026l\u001b[?2026h\u001b[?25l\u001b[A\u001b[1G\u001b[?25h\u001b[?2026l\u001b[?2026h\u001b[?25l\u001b[A\u001b[1G\u001b[?25h\u001b[?2026l\u001b[?2026h\u001b[?25l\u001b[A\u001b[1G\u001b[?25h\u001b[?2026l\u001b[?2026h\u001b[?25l\u001b[A\u001b[1G\u001b[?25h\u001b[?2026l\u001b[?2026h\u001b[?25l\u001b[A\u001b[1G\u001b[?25h\u001b[?2026l\u001b[?2026h\u001b[?25l\u001b[A\u001b[1G\u001b[?25h\u001b[?2026l\u001b[?2026h\u001b[?25l\u001b[A\u001b[1G\u001b[?25h\u001b[?2026l\u001b[?2026h\u001b[?25l\u001b[A\u001b[1G\u001b[?25h\u001b[?2026l\u001b[?2026h\u001b[?25l\u001b[A\u001b[1G\u001b[?25h\u001b[?2026l\u001b[?2026h\u001b[?25l\u001b[A\u001b[1G\u001b[?25h\u001b[?2026l\u001b[?2026h\u001b[?25l\u001b[A\u001b[1G\u001b[?25h\u001b[?2026l\u001b[?2026h\u001b[?25l\u001b[A\u001b[1G\u001b[?25h\u001b[?2026l\u001b[?2026h\u001b[?25l\u001b[A\u001b[1G\u001b[?25h\u001b[?2026l\u001b[?2026h\u001b[?25l\u001b[A\u001b[1G\u001b[?25h\u001b[?2026l\u001b[?2026h\u001b[?25l\u001b[A\u001b[1G\u001b[?25h\u001b[?2026l\u001b[?2026h\u001b[?25l\u001b[A\u001b[1G\u001b[?25h\u001b[?2026l\u001b[?2026h\u001b[?25l\u001b[A\u001b[1G\u001b[?25h\u001b[?2026l\u001b[?2026h\u001b[?25l\u001b[A\u001b[1G\u001b[?25h\u001b[?2026l\u001b[?2026h\u001b[?25l\u001b[A\u001b[1G\u001b[?25h\u001b[?2026l\u001b[?2026h\u001b[?25l\u001b[A\u001b[1G\u001b[?25h\u001b[?2026l\u001b[?2026h\u001b[?25l\u001b[A\u001b[1G\u001b[?25h\u001b[?2026l\u001b[?2026h\u001b[?25l\u001b[A\u001b[1G\u001b[?25h\u001b[?2026l\u001b[?2026h\u001b[?25l\u001b[A\u001b[1G\u001b[?25h\u001b[?2026l\u001b[?2026h\u001b[?25l\u001b[A\u001b[1G\u001b[?25h\u001b[?2026l\u001b[?2026h\u001b[?25l\u001b[A\u001b[1G\u001b[?25h\u001b[?2026l\u001b[?2026h\u001b[?25l\u001b[A\u001b[1G\u001b[?25h\u001b[?2026l\u001b[?2026h\u001b[?25l\u001b[A\u001b[1G\u001b[?25h\u001b[?2026l\u001b[?2026h\u001b[?25l\u001b[A\u001b[1G\u001b[?25h\u001b[?2026l\u001b[?2026h\u001b[?25l\u001b[A\u001b[1G\u001b[?25h\u001b[?2026l\u001b[?2026h\u001b[?25l\u001b[A\u001b[1G\u001b[?25h\u001b[?2026l\u001b[?2026h\u001b[?25l\u001b[A\u001b[1G\u001b[?25h\u001b[?2026l\u001b[?2026h\u001b[?25l\u001b[A\u001b[1G\u001b[?25h\u001b[?2026l\u001b[?2026h\u001b[?25l\u001b[A\u001b[1G\u001b[?25h\u001b[?2026l\u001b[?2026h\u001b[?25l\u001b[A\u001b[1G\u001b[?25h\u001b[?2026l\u001b[?2026h\u001b[?25l\u001b[A\u001b[1G\u001b[?25h\u001b[?2026l\u001b[?2026h\u001b[?25l\u001b[A\u001b[1G\u001b[?25h\u001b[?2026l\u001b[?2026h\u001b[?25l\u001b[A\u001b[1G\u001b[?25h\u001b[?2026l\u001b[?2026h\u001b[?25l\u001b[A\u001b[1G\u001b[?25h\u001b[?2026l\u001b[?2026h\u001b[?25l\u001b[A\u001b[1G\u001b[?25h\u001b[?2026l\u001b[?2026h\u001b[?25l\u001b[A\u001b[1G\u001b[?25h\u001b[?2026l\u001b[?2026h\u001b[?25l\u001b[A\u001b[1G\u001b[?25h\u001b[?2026l\u001b[?2026h\u001b[?25l\u001b[A\u001b[1G\u001b[?25h\u001b[?2026l\u001b[?2026h\u001b[?25l\u001b[A\u001b[1G\u001b[?25h\u001b[?2026l\u001b[?2026h\u001b[?25l\u001b[A\u001b[1G\u001b[?25h\u001b[?2026l\u001b[?2026h\u001b[?25l\u001b[A\u001b[1G\u001b[?25h\u001b[?2026l\u001b[?2026h\u001b[?25l\u001b[A\u001b[1G\u001b[?25h\u001b[?2026l\u001b[?2026h\u001b[?25l\u001b[A\u001b[1G\u001b[?25h\u001b[?2026l\u001b[?2026h\u001b[?25l\u001b[A\u001b[1G\u001b[?25h\u001b[?2026l\u001b[?2026h\u001b[?25l\u001b[A\u001b[1G\u001b[?25h\u001b[?2026l\u001b[?2026h\u001b[?25l\u001b[A\u001b[1G\u001b[?25h\u001b[?2026l\u001b[?2026h\u001b[?25l\u001b[A\u001b[1G\u001b[?25h\u001b[?2026l\u001b[?2026h\u001b[?25l\u001b[A\u001b[1G\u001b[?25h\u001b[?2026l\u001b[?2026h\u001b[?25l\u001b[A\u001b[1G\u001b[?25h\u001b[?2026l\u001b[?2026h\u001b[?25l\u001b[A\u001b[1G\u001b[?25h\u001b[?2026l\u001b[?2026h\u001b[?25l\u001b[A\u001b[1G\u001b[?25h\u001b[?2026l\u001b[?2026h\u001b[?25l\u001b[A\u001b[1G\u001b[?25h\u001b[?2026l\u001b[?2026h\u001b[?25l\u001b[A\u001b[1G\u001b[?25h\u001b[?2026l\u001b[?2026h\u001b[?25l\u001b[A\u001b[1G\u001b[?25h\u001b[?2026l\u001b[?2026h\u001b[?25l\u001b[A\u001b[1G\u001b[?25h\u001b[?2026l\u001b[?2026h\u001b[?25l\u001b[A\u001b[1G\u001b[?25h\u001b[?2026l\u001b[?2026h\u001b[?25l\u001b[A\u001b[1G\u001b[?25h\u001b[?2026l\u001b[?2026h\u001b[?25l\u001b[A\u001b[1G\u001b[?25h\u001b[?2026l\u001b[?2026h\u001b[?25l\u001b[A\u001b[1G\u001b[?25h\u001b[?2026l\u001b[?2026h\u001b[?25l\u001b[A\u001b[1G\u001b[?25h\u001b[?2026l\u001b[?2026h\u001b[?25l\u001b[A\u001b[1G\u001b[?25h\u001b[?2026l\u001b[?2026h\u001b[?25l\u001b[A\u001b[1G\u001b[?25h\u001b[?2026l\u001b[?2026h\u001b[?25l\u001b[A\u001b[1G\u001b[?25h\u001b[?2026l\u001b[?2026h\u001b[?25l\u001b[A\u001b[1G\u001b[?25h\u001b[?2026l\u001b[?2026h\u001b[?25l\u001b[A\u001b[1G\u001b[?25h\u001b[?2026l\u001b[?2026h\u001b[?25l\u001b[A\u001b[1G\u001b[?25h\u001b[?2026l\u001b[?2026h\u001b[?25l\u001b[A\u001b[1G\u001b[?25h\u001b[?2026l\u001b[?2026h\u001b[?25l\u001b[A\u001b[1G\u001b[?25h\u001b[?2026l\u001b[?2026h\u001b[?25l\u001b[A\u001b[1G\u001b[?25h\u001b[?2026l\u001b[?2026h\u001b[?25l\u001b[A\u001b[1G\u001b[?25h\u001b[?2026l\u001b[?2026h\u001b[?25l\u001b[A\u001b[1G\u001b[?25h\u001b[?2026l\u001b[?2026h\u001b[?25l\u001b[A\u001b[1G\u001b[?25h\u001b[?2026l\u001b[?2026h\u001b[?25l\u001b[A\u001b[1G\u001b[?25h\u001b[?2026l\u001b[?2026h\u001b[?25l\u001b[A\u001b[1G\u001b[?25h\u001b[?2026l\u001b[?2026h\u001b[?25l\u001b[A\u001b[1G\u001b[?25h\u001b[?2026l\u001b[?2026h\u001b[?25l\u001b[A\u001b[1G\u001b[?25h\u001b[?2026l\u001b[?2026h\u001b[?25l\u001b[A\u001b[1G\u001b[?25h\u001b[?2026l\u001b[?2026h\u001b[?25l\u001b[A\u001b[1G\u001b[?25h\u001b[?2026l\u001b[?2026h\u001b[?25l\u001b[A\u001b[1G\u001b[?25h\u001b[?2026l\u001b[?2026h\u001b[?25l\u001b[A\u001b[1G\u001b[?25h\u001b[?2026l\u001b[?2026h\u001b[?25l\u001b[A\u001b[1G\u001b[?25h\u001b[?2026l\u001b[?2026h\u001b[?25l\u001b[A\u001b[1G\u001b[?25h\u001b[?2026l\u001b[?2026h\u001b[?25l\u001b[A\u001b[1G\u001b[?25h\u001b[?2026l\u001b[?2026h\u001b[?25l\u001b[A\u001b[1G\u001b[?25h\u001b[?2026l\u001b[?2026h\u001b[?25l\u001b[A\u001b[1G\u001b[?25h\u001b[?2026l\u001b[?2026h\u001b[?25l\u001b[A\u001b[1G\u001b[?25h\u001b[?2026l\u001b[?2026h\u001b[?25l\u001b[A\u001b[1G\u001b[?25h\u001b[?2026l\u001b[?2026h\u001b[?25l\u001b[A\u001b[1G\u001b[?25h\u001b[?2026l\u001b[?2026h\u001b[?25l\u001b[A\u001b[1G\u001b[?25h\u001b[?2026l\u001b[?2026h\u001b[?25l\u001b[A\u001b[1G\u001b[?25h\u001b[?2026l\u001b[?2026h\u001b[?25l\u001b[A\u001b[1G\u001b[?25h\u001b[?2026l\u001b[?2026h\u001b[?25l\u001b[A\u001b[1G\u001b[?25h\u001b[?2026l\u001b[?2026h\u001b[?25l\u001b[A\u001b[1G\u001b[?25h\u001b[?2026l\u001b[?2026h\u001b[?25l\u001b[A\u001b[1G\u001b[?25h\u001b[?2026l\u001b[?2026h\u001b[?25l\u001b[A\u001b[1G\u001b[?25h\u001b[?2026l\u001b[?2026h\u001b[?25l\u001b[A\u001b[1G\u001b[?25h\u001b[?2026l\u001b[?2026h\u001b[?25l\u001b[A\u001b[1G\u001b[?25h\u001b[?2026l\u001b[?2026h\u001b[?25l\u001b[A\u001b[1G\u001b[?25h\u001b[?2026l\u001b[?2026h\u001b[?25l\u001b[A\u001b[1G\u001b[?25h\u001b[?2026l\u001b[?2026h\u001b[?25l\u001b[A\u001b[1G\u001b[?25h\u001b[?2026l\u001b[?2026h\u001b[?25l\u001b[A\u001b[1G\u001b[?25h\u001b[?2026l\u001b[?2026h\u001b[?25l\u001b[A\u001b[1G\u001b[?25h\u001b[?2026l\u001b[?2026h\u001b[?25l\u001b[A\u001b[1G\u001b[?25h\u001b[?2026l\u001b[?2026h\u001b[?25l\u001b[A\u001b[1G\u001b[?25h\u001b[?2026l\u001b[?2026h\u001b[?25l\u001b[A\u001b[1G\u001b[?25h\u001b[?2026l\u001b[?2026h\u001b[?25l\u001b[A\u001b[1G\u001b[?25h\u001b[?2026l\u001b[?2026h\u001b[?25l\u001b[A\u001b[1G\u001b[?25h\u001b[?2026l\u001b[?2026h\u001b[?25l\u001b[A\u001b[1G\u001b[?25h\u001b[?2026l\u001b[?2026h\u001b[?25l\u001b[A\u001b[1G\u001b[?25h\u001b[?2026l\u001b[?2026h\u001b[?25l\u001b[A\u001b[1G\u001b[?25h\u001b[?2026l\u001b[?2026h\u001b[?25l\u001b[A\u001b[1G\u001b[?25h\u001b[?2026l\u001b[?2026h\u001b[?25l\u001b[A\u001b[1G\u001b[?25h\u001b[?2026l\u001b[?2026h\u001b[?25l\u001b[A\u001b[1G\u001b[?25h\u001b[?2026l\u001b[?2026h\u001b[?25l\u001b[A\u001b[1G\u001b[?25h\u001b[?2026l\u001b[?2026h\u001b[?25l\u001b[A\u001b[1G\u001b[?25h\u001b[?2026l\u001b[?2026h\u001b[?25l\u001b[A\u001b[1G\u001b[?25h\u001b[?2026l\u001b[?2026h\u001b[?25l\u001b[A\u001b[1G\u001b[?25h\u001b[?2026l\u001b[?2026h\u001b[?25l\u001b[A\u001b[1G\u001b[?25h\u001b[?2026l\u001b[?2026h\u001b[?25l\u001b[A\u001b[1G\u001b[?25h\u001b[?2026l\u001b[?2026h\u001b[?25l\u001b[A\u001b[1G\u001b[?25h\u001b[?2026l\u001b[?2026h\u001b[?25l\u001b[A\u001b[1G\u001b[?25h\u001b[?2026l\u001b[?2026h\u001b[?25l\u001b[A\u001b[1G\u001b[?25h\u001b[?2026l\u001b[?2026h\u001b[?25l\u001b[A\u001b[1G\u001b[?25h\u001b[?2026l\u001b[?2026h\u001b[?25l\u001b[A\u001b[1G\u001b[?25h\u001b[?2026l\u001b[?2026h\u001b[?25l\u001b[A\u001b[1G\u001b[?25h\u001b[?2026l\u001b[?2026h\u001b[?25l\u001b[A\u001b[1G\u001b[?25h\u001b[?2026l\u001b[?2026h\u001b[?25l\u001b[A\u001b[1G\u001b[?25h\u001b[?2026l\u001b[?2026h\u001b[?25l\u001b[A\u001b[1G\u001b[?25h\u001b[?2026l\u001b[?2026h\u001b[?25l\u001b[A\u001b[1G\u001b[?25h\u001b[?2026l\u001b[?2026h\u001b[?25l\u001b[A\u001b[1G\u001b[?25h\u001b[?2026l\u001b[?2026h\u001b[?25l\u001b[A\u001b[1G\u001b[?25h\u001b[?2026l\u001b[?2026h\u001b[?25l\u001b[A\u001b[1G\u001b[?25h\u001b[?2026l\u001b[?2026h\u001b[?25l\u001b[A\u001b[1G\u001b[?25h\u001b[?2026l\u001b[?2026h\u001b[?25l\u001b[A\u001b[1G\u001b[?25h\u001b[?2026l\u001b[?2026h\u001b[?25l\u001b[A\u001b[1G\u001b[?25h\u001b[?2026l\u001b[?2026h\u001b[?25l\u001b[A\u001b[1G\u001b[?25h\u001b[?2026l\u001b[?2026h\u001b[?25l\u001b[A\u001b[1G\u001b[?25h\u001b[?2026l\u001b[?2026h\u001b[?25l\u001b[A\u001b[1G\u001b[?25h\u001b[?2026l\u001b[?2026h\u001b[?25l\u001b[A\u001b[1G\u001b[?25h\u001b[?2026l\u001b[?2026h\u001b[?25l\u001b[A\u001b[1G\u001b[?25h\u001b[?2026l\u001b[?2026h\u001b[?25l\u001b[A\u001b[1G\u001b[?25h\u001b[?2026l\u001b[?2026h\u001b[?25l\u001b[A\u001b[1G\u001b[?25h\u001b[?2026l\u001b[?2026h\u001b[?25l\u001b[A\u001b[1G\u001b[?25h\u001b[?2026l\u001b[?2026h\u001b[?25l\u001b[A\u001b[1G\u001b[?25h\u001b[?2026l\u001b[?2026h\u001b[?25l\u001b[A\u001b[1G\u001b[?25h\u001b[?2026l\u001b[?2026h\u001b[?25l\u001b[A\u001b[1G\u001b[?25h\u001b[?2026l\u001b[?2026h\u001b[?25l\u001b[A\u001b[1G\u001b[?25h\u001b[?2026l\u001b[?2026h\u001b[?25l\u001b[A\u001b[1G\u001b[?25h\u001b[?2026l\u001b[?2026h\u001b[?25l\u001b[A\u001b[1G\u001b[?25h\u001b[?2026l\u001b[?2026h\u001b[?25l\u001b[A\u001b[1G\u001b[?25h\u001b[?2026l\u001b[?2026h\u001b[?25l\u001b[A\u001b[1G\u001b[?25h\u001b[?2026l\u001b[?2026h\u001b[?25l\u001b[A\u001b[1G\u001b[?25h\u001b[?2026l\u001b[?2026h\u001b[?25l\u001b[A\u001b[1G\u001b[?25h\u001b[?2026l\u001b[?2026h\u001b[?25l\u001b[A\u001b[1G\u001b[?25h\u001b[?2026l\u001b[?2026h\u001b[?25l\u001b[A\u001b[1G\u001b[?25h\u001b[?2026l\u001b[?2026h\u001b[?25l\u001b[A\u001b[1G\u001b[?25h\u001b[?2026l\u001b[?2026h\u001b[?25l\u001b[A\u001b[1G\u001b[?25h\u001b[?2026l\u001b[?2026h\u001b[?25l\u001b[A\u001b[1G\u001b[?25h\u001b[?2026l\u001b[?2026h\u001b[?25l\u001b[A\u001b[1G\u001b[?25h\u001b[?2026l\u001b[?2026h\u001b[?25l\u001b[A\u001b[1G\u001b[?25h\u001b[?2026l\u001b[?2026h\u001b[?25l\u001b[A\u001b[1G\u001b[?25h\u001b[?2026l\u001b[?2026h\u001b[?25l\u001b[A\u001b[1G\u001b[?25h\u001b[?2026l\u001b[?2026h\u001b[?25l\u001b[A\u001b[1G\u001b[?25h\u001b[?2026l\u001b[?2026h\u001b[?25l\u001b[A\u001b[1G\u001b[?25h\u001b[?2026l\u001b[?2026h\u001b[?25l\u001b[A\u001b[1G\u001b[?25h\u001b[?2026l\u001b[?2026h\u001b[?25l\u001b[A\u001b[1G\u001b[?25h\u001b[?2026l\u001b[?2026h\u001b[?25l\u001b[A\u001b[1G\u001b[?25h\u001b[?2026l\u001b[?2026h\u001b[?25l\u001b[A\u001b[1G\u001b[?25h\u001b[?2026l\u001b[?2026h\u001b[?25l\u001b[A\u001b[1G\u001b[?25h\u001b[?2026l\u001b[?2026h\u001b[?25l\u001b[A\u001b[1G\u001b[?25h\u001b[?2026l\u001b[?2026h\u001b[?25l\u001b[A\u001b[1G\u001b[?25h\u001b[?2026l\u001b[?2026h\u001b[?25l\u001b[A\u001b[1G\u001b[?25h\u001b[?2026l\u001b[?2026h\u001b[?25l\u001b[A\u001b[1G\u001b[?25h\u001b[?2026l\u001b[?2026h\u001b[?25l\u001b[A\u001b[1G\u001b[?25h\u001b[?2026l\u001b[?2026h\u001b[?25l\u001b[A\u001b[1G\u001b[?25h\u001b[?2026l\u001b[?2026h\u001b[?25l\u001b[A\u001b[1G\u001b[?25h\u001b[?2026l\u001b[?2026h\u001b[?25l\u001b[A\u001b[1G\u001b[?25h\u001b[?2026l\u001b[?2026h\u001b[?25l\u001b[A\u001b[1G\u001b[?25h\u001b[?2026l\u001b[?2026h\u001b[?25l\u001b[A\u001b[1G\u001b[?25h\u001b[?2026l\u001b[?2026h\u001b[?25l\u001b[A\u001b[1G\u001b[?25h\u001b[?2026l\u001b[?2026h\u001b[?25l\u001b[A\u001b[1G\u001b[?25h\u001b[?2026l\u001b[?2026h\u001b[?25l\u001b[A\u001b[1G\u001b[?25h\u001b[?2026l\u001b[?2026h\u001b[?25l\u001b[A\u001b[1G\u001b[?25h\u001b[?2026l\u001b[?2026h\u001b[?25l\u001b[A\u001b[1G\u001b[?25h\u001b[?2026l\u001b[?2026h\u001b[?25l\u001b[A\u001b[1G\u001b[?25h\u001b[?2026l\u001b[?2026h\u001b[?25l\u001b[A\u001b[1G\u001b[?25h\u001b[?2026l\u001b[?2026h\u001b[?25l\u001b[A\u001b[1G\u001b[?25h\u001b[?2026l\u001b[?2026h\u001b[?25l\u001b[A\u001b[1G\u001b[?25h\u001b[?2026l\u001b[?2026h\u001b[?25l\u001b[A\u001b[1G\u001b[?25h\u001b[?2026l\u001b[?2026h\u001b[?25l\u001b[A\u001b[1G\u001b[?25h\u001b[?2026l\u001b[?2026h\u001b[?25l\u001b[A\u001b[1G\u001b[?25h\u001b[?2026l\u001b[?2026h\u001b[?25l\u001b[A\u001b[1G\u001b[?25h\u001b[?2026l\u001b[?2026h\u001b[?25l\u001b[A\u001b[1G\u001b[?25h\u001b[?2026l\u001b[?2026h\u001b[?25l\u001b[A\u001b[1G\u001b[?25h\u001b[?2026l\u001b[?2026h\u001b[?25l\u001b[A\u001b[1G\u001b[?25h\u001b[?2026l\u001b[?2026h\u001b[?25l\u001b[A\u001b[1G\u001b[?25h\u001b[?2026l\u001b[?2026h\u001b[?25l\u001b[A\u001b[1G\u001b[?25h\u001b[?2026l\u001b[?2026h\u001b[?25l\u001b[A\u001b[1G\u001b[?25h\u001b[?2026l\u001b[?2026h\u001b[?25l\u001b[A\u001b[1G\u001b[?25h\u001b[?2026l\u001b[?2026h\u001b[?25l\u001b[A\u001b[1G\u001b[?25h\u001b[?2026l\u001b[?2026h\u001b[?25l\u001b[A\u001b[1G\u001b[?25h\u001b[?2026l\u001b[?2026h\u001b[?25l\u001b[A\u001b[1G\u001b[?25h\u001b[?2026l\u001b[?2026h\u001b[?25l\u001b[A\u001b[1G\u001b[?25h\u001b[?2026l\u001b[?2026h\u001b[?25l\u001b[A\u001b[1G\u001b[?25h\u001b[?2026l\u001b[?2026h\u001b[?25l\u001b[A\u001b[1G\u001b[?25h\u001b[?2026l\u001b[?2026h\u001b[?25l\u001b[A\u001b[1G\u001b[?25h\u001b[?2026l\u001b[?2026h\u001b[?25l\u001b[A\u001b[1G\u001b[?25h\u001b[?2026l\u001b[?2026h\u001b[?25l\u001b[A\u001b[1G\u001b[?25h\u001b[?2026l\u001b[?2026h\u001b[?25l\u001b[A\u001b[1G\u001b[?25h\u001b[?2026l\u001b[?2026h\u001b[?25l\u001b[A\u001b[1G\u001b[?25h\u001b[?2026l\u001b[?2026h\u001b[?25l\u001b[A\u001b[1G\u001b[?25h\u001b[?2026l\u001b[?2026h\u001b[?25l\u001b[A\u001b[1G\u001b[?25h\u001b[?2026l\u001b[?2026h\u001b[?25l\u001b[A\u001b[1G\u001b[?25h\u001b[?2026l\u001b[?2026h\u001b[?25l\u001b[A\u001b[1G\u001b[?25h\u001b[?2026l\u001b[?2026h\u001b[?25l\u001b[A\u001b[1G\u001b[?25h\u001b[?2026l\u001b[?2026h\u001b[?25l\u001b[A\u001b[1G\u001b[?25h\u001b[?2026l\u001b[?2026h\u001b[?25l\u001b[A\u001b[1G\u001b[?25h\u001b[?2026l\u001b[?2026h\u001b[?25l\u001b[A\u001b[1G\u001b[?25h\u001b[?2026l\u001b[?2026h\u001b[?25l\u001b[A\u001b[1G\u001b[?25h\u001b[?2026l\u001b[?2026h\u001b[?25l\u001b[A\u001b[1G\u001b[?25h\u001b[?2026l\u001b[?2026h\u001b[?25l\u001b[A\u001b[1G\u001b[?25h\u001b[?2026l\u001b[?2026h\u001b[?25l\u001b[A\u001b[1G\u001b[?25h\u001b[?2026l\u001b[?2026h\u001b[?25l\u001b[A\u001b[1G\u001b[?25h\u001b[?2026l\u001b[?2026h\u001b[?25l\u001b[A\u001b[1G\u001b[?25h\u001b[?2026l\u001b[?2026h\u001b[?25l\u001b[A\u001b[1G\u001b[?25h\u001b[?2026l\u001b[?2026h\u001b[?25l\u001b[A\u001b[1G\u001b[?25h\u001b[?2026l\u001b[?2026h\u001b[?25l\u001b[A\u001b[1G\u001b[?25h\u001b[?2026l\u001b[?2026h\u001b[?25l\u001b[A\u001b[1G\u001b[?25h\u001b[?2026l\u001b[?2026h\u001b[?25l\u001b[A\u001b[1G\u001b[?25h\u001b[?2026l\u001b[?2026h\u001b[?25l\u001b[A\u001b[1G\u001b[?25h\u001b[?2026l\u001b[?2026h\u001b[?25l\u001b[A\u001b[1G\u001b[?25h\u001b[?2026l\u001b[?2026h\u001b[?25l\u001b[A\u001b[1G\u001b[?25h\u001b[?2026l\u001b[?2026h\u001b[?25l\u001b[A\u001b[1G\u001b[?25h\u001b[?2026l\u001b[?2026h\u001b[?25l\u001b[A\u001b[1G\u001b[?25h\u001b[?2026l\u001b[?2026h\u001b[?25l\u001b[A\u001b[1G\u001b[?25h\u001b[?2026l\u001b[?2026h\u001b[?25l\u001b[A\u001b[1G\u001b[?25h\u001b[?2026l\u001b[?2026h\u001b[?25l\u001b[A\u001b[1G\u001b[?25h\u001b[?2026l\u001b[?2026h\u001b[?25l\u001b[A\u001b[1G\u001b[?25h\u001b[?2026l\u001b[?2026h\u001b[?25l\u001b[A\u001b[1G\u001b[?25h\u001b[?2026l\u001b[?2026h\u001b[?25l\u001b[A\u001b[1G\u001b[?25h\u001b[?2026l\u001b[?2026h\u001b[?25l\u001b[A\u001b[1G\u001b[?25h\u001b[?2026l\u001b[?2026h\u001b[?25l\u001b[A\u001b[1G\u001b[?25h\u001b[?2026l\u001b[?2026h\u001b[?25l\u001b[A\u001b[1G\u001b[?25h\u001b[?2026l\u001b[?2026h\u001b[?25l\u001b[A\u001b[1G\u001b[?25h\u001b[?2026l\u001b[?2026h\u001b[?25l\u001b[A\u001b[1G\u001b[?25h\u001b[?2026l\u001b[?2026h\u001b[?25l\u001b[A\u001b[A\u001b[1G\u001b[?25h\u001b[?2026l\u001b[?2026h\u001b[?25l\u001b[A\u001b[A\u001b[1G\u001b[?25h\u001b[?2026l\u001b[?2026h\u001b[?25l\u001b[A\u001b[A\u001b[1G\u001b[?25h\u001b[?2026l\u001b[?2026h\u001b[?25l\u001b[A\u001b[A\u001b[1G\u001b[?25h\u001b[?2026l\u001b[?2026h\u001b[?25l\u001b[A\u001b[A\u001b[1G\u001b[?25h\u001b[?2026l\u001b[?2026h\u001b[?25l\u001b[A\u001b[A\u001b[1G\u001b[?25h\u001b[?2026l\u001b[?2026h\u001b[?25l\u001b[A\u001b[A\u001b[1G\u001b[?25h\u001b[?2026l\u001b[?2026h\u001b[?25l\u001b[A\u001b[A\u001b[1G\u001b[?25h\u001b[?2026l\u001b[?2026h\u001b[?25l\u001b[A\u001b[A\u001b[1G\u001b[?25h\u001b[?2026l\u001b[?2026h\u001b[?25l\u001b[A\u001b[A\u001b[1G\u001b[?25h\u001b[?2026l\u001b[?2026h\u001b[?25l\u001b[A\u001b[A\u001b[1G\u001b[?25h\u001b[?2026l\u001b[?2026h\u001b[?25l\u001b[A\u001b[A\u001b[1G\u001b[?25h\u001b[?2026l\u001b[?2026h\u001b[?25l\u001b[A\u001b[A\u001b[1G\u001b[?25h\u001b[?2026l\u001b[?2026h\u001b[?25l\u001b[A\u001b[A\u001b[1G\u001b[?25h\u001b[?2026l\u001b[?2026h\u001b[?25l\u001b[A\u001b[A\u001b[1G\u001b[?25h\u001b[?2026l\u001b[?2026h\u001b[?25l\u001b[A\u001b[A\u001b[1G\u001b[?25h\u001b[?2026l\u001b[?2026h\u001b[?25l\u001b[A\u001b[A\u001b[A\u001b[1G\u001b[?25h\u001b[?2026l\u001b[?2026h\u001b[?25l\u001b[A\u001b[A\u001b[A\u001b[1G\u001b[?25h\u001b[?2026l\u001b[?2026h\u001b[?25l\u001b[A\u001b[A\u001b[A\u001b[1G\u001b[?25h\u001b[?2026l\u001b[?2026h\u001b[?25l\u001b[A\u001b[A\u001b[A\u001b[1G\u001b[?25h\u001b[?2026l\u001b[?2026h\u001b[?25l\u001b[A\u001b[A\u001b[A\u001b[1G\u001b[?25h\u001b[?2026l\u001b[?2026h\u001b[?25l\u001b[A\u001b[A\u001b[A\u001b[1G\u001b[?25h\u001b[?2026l\u001b[?2026h\u001b[?25l\u001b[A\u001b[A\u001b[A\u001b[1G\u001b[?25h\u001b[?2026l\u001b[?2026h\u001b[?25l\u001b[A\u001b[A\u001b[A\u001b[1G\u001b[?25h\u001b[?2026l\u001b[?2026h\u001b[?25l\u001b[A\u001b[A\u001b[A\u001b[1G\u001b[?25h\u001b[?2026l\u001b[?2026h\u001b[?25l\u001b[A\u001b[A\u001b[A\u001b[1G\u001b[?25h\u001b[?2026l\u001b[?2026h\u001b[?25l\u001b[A\u001b[A\u001b[A\u001b[1G\u001b[?25h\u001b[?2026l\u001b[?2026h\u001b[?25l\u001b[A\u001b[A\u001b[A\u001b[1G\u001b[?25h\u001b[?2026l\u001b[?2026h\u001b[?25l\u001b[A\u001b[A\u001b[A\u001b[1G\u001b[?25h\u001b[?2026l\u001b[?2026h\u001b[?25l\u001b[A\u001b[A\u001b[A\u001b[1G\u001b[?25h\u001b[?2026l\u001b[?2026h\u001b[?25l\u001b[A\u001b[A\u001b[A\u001b[1G\u001b[?25h\u001b[?2026l\u001b[?2026h\u001b[?25l\u001b[A\u001b[A\u001b[A\u001b[1G\u001b[?25h\u001b[?2026l\u001b[?2026h\u001b[?25l\u001b[A\u001b[A\u001b[A\u001b[A\u001b[1G\u001b[?25h\u001b[?2026l\u001b[?2026h\u001b[?25l\u001b[A\u001b[A\u001b[A\u001b[A\u001b[1G\u001b[?25h\u001b[?2026l\u001b[?2026h\u001b[?25l\u001b[A\u001b[A\u001b[A\u001b[A\u001b[1G\u001b[?25h\u001b[?2026l\u001b[?2026h\u001b[?25l\u001b[A\u001b[A\u001b[A\u001b[A\u001b[1G\u001b[?25h\u001b[?2026l\u001b[?2026h\u001b[?25l\u001b[A\u001b[A\u001b[A\u001b[A\u001b[1G\u001b[?25h\u001b[?2026l\u001b[?2026h\u001b[?25l\u001b[A\u001b[A\u001b[A\u001b[A\u001b[1G\u001b[?25h\u001b[?2026l\u001b[?2026h\u001b[?25l\u001b[A\u001b[A\u001b[A\u001b[A\u001b[1G\u001b[?25h\u001b[?2026l\u001b[?2026h\u001b[?25l\u001b[A\u001b[A\u001b[A\u001b[A\u001b[1G\u001b[?25h\u001b[?2026l\u001b[?2026h\u001b[?25l\u001b[A\u001b[A\u001b[A\u001b[A\u001b[1G\u001b[?25h\u001b[?2026l\u001b[?2026h\u001b[?25l\u001b[A\u001b[A\u001b[A\u001b[A\u001b[1G\u001b[?25h\u001b[?2026l\u001b[?2026h\u001b[?25l\u001b[A\u001b[A\u001b[A\u001b[A\u001b[1G\u001b[?25h\u001b[?2026l\u001b[?2026h\u001b[?25l\u001b[A\u001b[A\u001b[A\u001b[A\u001b[1G\u001b[?25h\u001b[?2026l\u001b[?2026h\u001b[?25l\u001b[A\u001b[A\u001b[A\u001b[A\u001b[1G\u001b[?25h\u001b[?2026l\u001b[?2026h\u001b[?25l\u001b[A\u001b[A\u001b[A\u001b[A\u001b[A\u001b[1G\u001b[?25h\u001b[?2026l\u001b[?2026h\u001b[?25l\u001b[A\u001b[A\u001b[A\u001b[A\u001b[A\u001b[1G\u001b[?25h\u001b[?2026l\u001b[?2026h\u001b[?25l\u001b[A\u001b[A\u001b[A\u001b[A\u001b[A\u001b[1G\u001b[?25h\u001b[?2026l\u001b[?2026h\u001b[?25l\u001b[A\u001b[A\u001b[A\u001b[A\u001b[A\u001b[1G\u001b[?25h\u001b[?2026l\u001b[?2026h\u001b[?25l\u001b[A\u001b[A\u001b[A\u001b[A\u001b[A\u001b[1G\u001b[?25h\u001b[?2026l\u001b[?2026h\u001b[?25l\u001b[A\u001b[A\u001b[A\u001b[A\u001b[A\u001b[1G\u001b[?25h\u001b[?2026l\u001b[?2026h\u001b[?25l\u001b[A\u001b[A\u001b[A\u001b[A\u001b[A\u001b[1G\u001b[?25h\u001b[?2026l\u001b[?2026h\u001b[?25l\u001b[A\u001b[A\u001b[A\u001b[A\u001b[A\u001b[1G\u001b[?25h\u001b[?2026l\u001b[?2026h\u001b[?25l\u001b[A\u001b[A\u001b[A\u001b[A\u001b[A\u001b[1G\u001b[?25h\u001b[?2026l\u001b[?2026h\u001b[?25l\u001b[A\u001b[A\u001b[A\u001b[A\u001b[A\u001b[A\u001b[1G\u001b[?25h\u001b[?2026l\u001b[?2026h\u001b[?25l\u001b[A\u001b[A\u001b[A\u001b[A\u001b[A\u001b[A\u001b[1G\u001b[?25h\u001b[?2026l\u001b[?2026h\u001b[?25l\u001b[A\u001b[A\u001b[A\u001b[A\u001b[A\u001b[A\u001b[1G\u001b[?25h\u001b[?2026l\u001b[?2026h\u001b[?25l\u001b[A\u001b[A\u001b[A\u001b[A\u001b[A\u001b[A\u001b[1G\u001b[?25h\u001b[?2026l\u001b[?2026h\u001b[?25l\u001b[A\u001b[A\u001b[A\u001b[A\u001b[A\u001b[A\u001b[1G\u001b[?25h\u001b[?2026l\u001b[?2026h\u001b[?25l\u001b[A\u001b[A\u001b[A\u001b[A\u001b[A\u001b[A\u001b[1G\u001b[?25h\u001b[?2026l\u001b[?2026h\u001b[?25l\u001b[A\u001b[A\u001b[A\u001b[A\u001b[A\u001b[A\u001b[1G\u001b[?25h\u001b[?2026l\u001b[?2026h\u001b[?25l\u001b[A\u001b[A\u001b[A\u001b[A\u001b[A\u001b[A\u001b[1G\u001b[?25h\u001b[?2026l\u001b[?2026h\u001b[?25l\u001b[A\u001b[A\u001b[A\u001b[A\u001b[A\u001b[A\u001b[1G\u001b[?25h\u001b[?2026l\u001b[?2026h\u001b[?25l\u001b[A\u001b[A\u001b[A\u001b[A\u001b[A\u001b[A\u001b[1G\u001b[?25h\u001b[?2026l\u001b[?2026h\u001b[?25l\u001b[A\u001b[A\u001b[A\u001b[A\u001b[A\u001b[A\u001b[1G\u001b[?25h\u001b[?2026l\u001b[?2026h\u001b[?25l\u001b[A\u001b[A\u001b[A\u001b[A\u001b[A\u001b[A\u001b[1G\u001b[?25h\u001b[?2026l\u001b[?2026h\u001b[?25l\u001b[A\u001b[A\u001b[A\u001b[A\u001b[A\u001b[A\u001b[1G\u001b[?25h\u001b[?2026l\u001b[?2026h\u001b[?25l\u001b[A\u001b[A\u001b[A\u001b[A\u001b[A\u001b[A\u001b[1G\u001b[?25h\u001b[?2026l\u001b[?2026h\u001b[?25l\u001b[A\u001b[A\u001b[A\u001b[A\u001b[A\u001b[A\u001b[1G\u001b[?25h\u001b[?2026l\u001b[?2026h\u001b[?25l\u001b[A\u001b[A\u001b[A\u001b[A\u001b[A\u001b[A\u001b[1G\u001b[?25h\u001b[?2026l\u001b[?2026h\u001b[?25l\u001b[A\u001b[A\u001b[A\u001b[A\u001b[A\u001b[A\u001b[1G\u001b[?25h\u001b[?2026l\u001b[?2026h\u001b[?25l\u001b[A\u001b[A\u001b[A\u001b[A\u001b[A\u001b[A\u001b[1G\u001b[?25h\u001b[?2026l\u001b[?2026h\u001b[?25l\u001b[A\u001b[A\u001b[A\u001b[A\u001b[A\u001b[A\u001b[1G\u001b[?25h\u001b[?2026l\u001b[?2026h\u001b[?25l\u001b[A\u001b[A\u001b[A\u001b[A\u001b[A\u001b[A\u001b[1G\u001b[?25h\u001b[?2026l\u001b[?2026h\u001b[?25l\u001b[A\u001b[A\u001b[A\u001b[A\u001b[A\u001b[A\u001b[1G\u001b[?25h\u001b[?2026l\u001b[?2026h\u001b[?25l\u001b[A\u001b[A\u001b[A\u001b[A\u001b[A\u001b[A\u001b[1G\u001b[?25h\u001b[?2026l\u001b[?2026h\u001b[?25l\u001b[A\u001b[A\u001b[A\u001b[A\u001b[A\u001b[A\u001b[1G\u001b[?25h\u001b[?2026l\u001b[?2026h\u001b[?25l\u001b[A\u001b[A\u001b[A\u001b[A\u001b[A\u001b[A\u001b[1G\u001b[?25h\u001b[?2026l\u001b[?2026h\u001b[?25l\u001b[A\u001b[A\u001b[A\u001b[A\u001b[A\u001b[A\u001b[1G\u001b[?25h\u001b[?2026l\u001b[?2026h\u001b[?25l\u001b[A\u001b[A\u001b[A\u001b[A\u001b[A\u001b[A\u001b[1G\u001b[?25h\u001b[?2026l\u001b[?2026h\u001b[?25l\u001b[A\u001b[A\u001b[A\u001b[A\u001b[A\u001b[A\u001b[1G\u001b[?25h\u001b[?2026l\u001b[?2026h\u001b[?25l\u001b[A\u001b[A\u001b[A\u001b[A\u001b[A\u001b[A\u001b[1G\u001b[?25h\u001b[?2026l\u001b[?2026h\u001b[?25l\u001b[A\u001b[A\u001b[A\u001b[A\u001b[A\u001b[A\u001b[1G\u001b[?25h\u001b[?2026l\u001b[?2026h\u001b[?25l\u001b[A\u001b[A\u001b[A\u001b[A\u001b[A\u001b[A\u001b[1G\u001b[?25h\u001b[?2026l\u001b[?2026h\u001b[?25l\u001b[A\u001b[A\u001b[A\u001b[A\u001b[A\u001b[A\u001b[1G\u001b[?25h\u001b[?2026l\u001b[?2026h\u001b[?25l\u001b[A\u001b[A\u001b[A\u001b[A\u001b[A\u001b[A\u001b[1G\u001b[?25h\u001b[?2026l\u001b[?2026h\u001b[?25l\u001b[A\u001b[A\u001b[A\u001b[A\u001b[A\u001b[A\u001b[1G\u001b[?25h\u001b[?2026l\u001b[?2026h\u001b[?25l\u001b[A\u001b[A\u001b[A\u001b[A\u001b[A\u001b[A\u001b[1G\u001b[?25h\u001b[?2026l\u001b[?2026h\u001b[?25l\u001b[A\u001b[A\u001b[A\u001b[A\u001b[A\u001b[A\u001b[1G\u001b[?25h\u001b[?2026l\u001b[?2026h\u001b[?25l\u001b[A\u001b[A\u001b[A\u001b[A\u001b[A\u001b[A\u001b[1G\u001b[?25h\u001b[?2026l\u001b[?2026h\u001b[?25l\u001b[A\u001b[A\u001b[A\u001b[A\u001b[A\u001b[A\u001b[1G\u001b[?25h\u001b[?2026l\u001b[?2026h\u001b[?25l\u001b[A\u001b[A\u001b[A\u001b[A\u001b[A\u001b[A\u001b[1G\u001b[?25h\u001b[?2026l\u001b[?2026h\u001b[?25l\u001b[A\u001b[A\u001b[A\u001b[A\u001b[A\u001b[A\u001b[1G\u001b[?25h\u001b[?2026l\u001b[?2026h\u001b[?25l\u001b[A\u001b[A\u001b[A\u001b[A\u001b[A\u001b[A\u001b[1G\u001b[?25h\u001b[?2026l\u001b[?2026h\u001b[?25l\u001b[A\u001b[A\u001b[A\u001b[A\u001b[A\u001b[A\u001b[1G\u001b[?25h\u001b[?2026l\u001b[?2026h\u001b[?25l\u001b[A\u001b[A\u001b[A\u001b[A\u001b[A\u001b[A\u001b[1G\u001b[?25h\u001b[?2026l\u001b[?2026h\u001b[?25l\u001b[A\u001b[A\u001b[A\u001b[A\u001b[A\u001b[A\u001b[1G\u001b[?25h\u001b[?2026l\u001b[?2026h\u001b[?25l\u001b[A\u001b[A\u001b[A\u001b[A\u001b[A\u001b[A\u001b[1G\u001b[?25h\u001b[?2026l\u001b[?2026h\u001b[?25l\u001b[A\u001b[A\u001b[A\u001b[A\u001b[A\u001b[A\u001b[1G\u001b[?25h\u001b[?2026l\u001b[?2026h\u001b[?25l\u001b[A\u001b[A\u001b[A\u001b[A\u001b[A\u001b[A\u001b[1G\u001b[?25h\u001b[?2026l\u001b[?2026h\u001b[?25l\u001b[A\u001b[A\u001b[A\u001b[A\u001b[A\u001b[A\u001b[1G\u001b[?25h\u001b[?2026l\u001b[?2026h\u001b[?25l\u001b[A\u001b[A\u001b[A\u001b[A\u001b[A\u001b[A\u001b[1G\u001b[?25h\u001b[?2026l\u001b[?2026h\u001b[?25l\u001b[A\u001b[A\u001b[A\u001b[A\u001b[A\u001b[A\u001b[1G\u001b[?25h\u001b[?2026l\u001b[?2026h\u001b[?25l\u001b[A\u001b[A\u001b[A\u001b[A\u001b[A\u001b[A\u001b[1G\u001b[?25h\u001b[?2026l\u001b[?2026h\u001b[?25l\u001b[A\u001b[A\u001b[A\u001b[A\u001b[A\u001b[A\u001b[1G\u001b[?25h\u001b[?2026l\u001b[?2026h\u001b[?25l\u001b[A\u001b[A\u001b[A\u001b[A\u001b[A\u001b[A\u001b[1G\u001b[?25h\u001b[?2026l\u001b[?2026h\u001b[?25l\u001b[A\u001b[A\u001b[A\u001b[A\u001b[A\u001b[A\u001b[1G\u001b[?25h\u001b[?2026l\u001b[?2026h\u001b[?25l\u001b[A\u001b[A\u001b[A\u001b[A\u001b[A\u001b[A\u001b[1G\u001b[?25h\u001b[?2026l\u001b[?2026h\u001b[?25l\u001b[A\u001b[A\u001b[A\u001b[A\u001b[A\u001b[A\u001b[1G\u001b[?25h\u001b[?2026l\u001b[?2026h\u001b[?25l\u001b[A\u001b[A\u001b[A\u001b[A\u001b[A\u001b[A\u001b[1G\u001b[?25h\u001b[?2026l\u001b[?2026h\u001b[?25l\u001b[A\u001b[A\u001b[A\u001b[A\u001b[A\u001b[A\u001b[1G\u001b[?25h\u001b[?2026l\u001b[?2026h\u001b[?25l\u001b[A\u001b[A\u001b[A\u001b[A\u001b[A\u001b[A\u001b[1G\u001b[?25h\u001b[?2026l\u001b[?2026h\u001b[?25l\u001b[A\u001b[A\u001b[A\u001b[A\u001b[A\u001b[A\u001b[1G\u001b[?25h\u001b[?2026l\u001b[?2026h\u001b[?25l\u001b[A\u001b[A\u001b[A\u001b[A\u001b[A\u001b[A\u001b[1G\u001b[?25h\u001b[?2026l\u001b[?2026h\u001b[?25l\u001b[A\u001b[A\u001b[A\u001b[A\u001b[A\u001b[A\u001b[1G\u001b[?25h\u001b[?2026l\u001b[?2026h\u001b[?25l\u001b[A\u001b[A\u001b[A\u001b[A\u001b[A\u001b[A\u001b[1G\u001b[?25h\u001b[?2026l\u001b[?2026h\u001b[?25l\u001b[A\u001b[A\u001b[A\u001b[A\u001b[A\u001b[A\u001b[1G\u001b[?25h\u001b[?2026l\u001b[?2026h\u001b[?25l\u001b[A\u001b[A\u001b[A\u001b[A\u001b[A\u001b[A\u001b[1G\u001b[?25h\u001b[?2026l\u001b[?2026h\u001b[?25l\u001b[A\u001b[A\u001b[A\u001b[A\u001b[A\u001b[A\u001b[1G\u001b[?25h\u001b[?2026l\u001b[?2026h\u001b[?25l\u001b[A\u001b[A\u001b[A\u001b[A\u001b[A\u001b[A\u001b[1G\u001b[?25h\u001b[?2026l\u001b[?2026h\u001b[?25l\u001b[A\u001b[A\u001b[A\u001b[A\u001b[A\u001b[A\u001b[1G\u001b[?25h\u001b[?2026l\u001b[?2026h\u001b[?25l\u001b[A\u001b[A\u001b[A\u001b[A\u001b[A\u001b[A\u001b[1G\u001b[?25h\u001b[?2026l\u001b[?2026h\u001b[?25l\u001b[A\u001b[A\u001b[A\u001b[A\u001b[A\u001b[A\u001b[1G\u001b[?25h\u001b[?2026l\u001b[?2026h\u001b[?25l\u001b[A\u001b[A\u001b[A\u001b[A\u001b[A\u001b[A\u001b[1G\u001b[?25h\u001b[?2026l\u001b[?2026h\u001b[?25l\u001b[A\u001b[A\u001b[A\u001b[A\u001b[A\u001b[A\u001b[1G\u001b[?25h\u001b[?2026l\u001b[?2026h\u001b[?25l\u001b[A\u001b[A\u001b[A\u001b[A\u001b[A\u001b[A\u001b[1G\u001b[?25h\u001b[?2026l\u001b[?2026h\u001b[?25l\u001b[A\u001b[A\u001b[A\u001b[A\u001b[A\u001b[A\u001b[1G\u001b[?25h\u001b[?2026l\u001b[?2026h\u001b[?25l\u001b[A\u001b[A\u001b[A\u001b[A\u001b[A\u001b[A\u001b[1G\u001b[?25h\u001b[?2026l\u001b[?2026h\u001b[?25l\u001b[A\u001b[A\u001b[A\u001b[A\u001b[A\u001b[A\u001b[1G\u001b[?25h\u001b[?2026l\u001b[?2026h\u001b[?25l\u001b[A\u001b[A\u001b[A\u001b[A\u001b[A\u001b[A\u001b[1G\u001b[?25h\u001b[?2026l\u001b[?2026h\u001b[?25l\u001b[A\u001b[A\u001b[A\u001b[A\u001b[A\u001b[A\u001b[1G\u001b[?25h\u001b[?2026l\u001b[?2026h\u001b[?25l\u001b[A\u001b[A\u001b[A\u001b[A\u001b[A\u001b[A\u001b[1G\u001b[?25h\u001b[?2026l\u001b[?2026h\u001b[?25l\u001b[A\u001b[A\u001b[A\u001b[A\u001b[A\u001b[A\u001b[1G\u001b[?25h\u001b[?2026l\u001b[?2026h\u001b[?25l\u001b[A\u001b[A\u001b[A\u001b[A\u001b[A\u001b[A\u001b[1G\u001b[?25h\u001b[?2026l\u001b[?2026h\u001b[?25l\u001b[A\u001b[A\u001b[A\u001b[A\u001b[A\u001b[A\u001b[1G\u001b[?25h\u001b[?2026l\u001b[?2026h\u001b[?25l\u001b[A\u001b[A\u001b[A\u001b[A\u001b[A\u001b[A\u001b[1G\u001b[?25h\u001b[?2026l\u001b[?2026h\u001b[?25l\u001b[A\u001b[A\u001b[A\u001b[A\u001b[A\u001b[A\u001b[1G\u001b[?25h\u001b[?2026l\u001b[?2026h\u001b[?25l\u001b[A\u001b[A\u001b[A\u001b[A\u001b[A\u001b[A\u001b[1G\u001b[?25h\u001b[?2026l\u001b[?2026h\u001b[?25l\u001b[A\u001b[A\u001b[A\u001b[A\u001b[A\u001b[A\u001b[1G\u001b[?25h\u001b[?2026l\u001b[?2026h\u001b[?25l\u001b[A\u001b[A\u001b[A\u001b[A\u001b[A\u001b[A\u001b[1G\u001b[?25h\u001b[?2026l\u001b[?2026h\u001b[?25l\u001b[A\u001b[A\u001b[A\u001b[A\u001b[A\u001b[A\u001b[1G\u001b[?25h\u001b[?2026l\u001b[?2026h\u001b[?25l\u001b[A\u001b[A\u001b[A\u001b[A\u001b[A\u001b[A\u001b[1G\u001b[?25h\u001b[?2026l\u001b[?2026h\u001b[?25l\u001b[A\u001b[A\u001b[A\u001b[A\u001b[A\u001b[A\u001b[1G\u001b[?25h\u001b[?2026l\u001b[?2026h\u001b[?25l\u001b[A\u001b[A\u001b[A\u001b[A\u001b[A\u001b[A\u001b[1G\u001b[?25h\u001b[?2026l\u001b[?2026h\u001b[?25l\u001b[A\u001b[A\u001b[A\u001b[A\u001b[A\u001b[A\u001b[1G\u001b[?25h\u001b[?2026l\u001b[?2026h\u001b[?25l\u001b[A\u001b[A\u001b[A\u001b[A\u001b[A\u001b[A\u001b[1G\u001b[?25h\u001b[?2026l\u001b[?2026h\u001b[?25l\u001b[A\u001b[A\u001b[A\u001b[A\u001b[A\u001b[A\u001b[1G\u001b[?25h\u001b[?2026l\u001b[?2026h\u001b[?25l\u001b[A\u001b[A\u001b[A\u001b[A\u001b[A\u001b[A\u001b[1G\u001b[?25h\u001b[?2026l\u001b[?2026h\u001b[?25l\u001b[A\u001b[A\u001b[A\u001b[A\u001b[A\u001b[A\u001b[1G\u001b[?25h\u001b[?2026l\u001b[?2026h\u001b[?25l\u001b[A\u001b[A\u001b[A\u001b[A\u001b[A\u001b[A\u001b[1G\u001b[?25h\u001b[?2026l\u001b[?2026h\u001b[?25l\u001b[A\u001b[A\u001b[A\u001b[A\u001b[A\u001b[A\u001b[1G\u001b[?25h\u001b[?2026l\u001b[?2026h\u001b[?25l\u001b[A\u001b[A\u001b[A\u001b[A\u001b[A\u001b[A\u001b[1G\u001b[?25h\u001b[?2026l\u001b[?2026h\u001b[?25l\u001b[A\u001b[A\u001b[A\u001b[A\u001b[A\u001b[A\u001b[1G\u001b[?25h\u001b[?2026l\u001b[?2026h\u001b[?25l\u001b[A\u001b[A\u001b[A\u001b[A\u001b[A\u001b[A\u001b[1G\u001b[?25h\u001b[?2026l\u001b[?2026h\u001b[?25l\u001b[A\u001b[A\u001b[A\u001b[A\u001b[A\u001b[A\u001b[1G\u001b[?25h\u001b[?2026l\u001b[?2026h\u001b[?25l\u001b[A\u001b[A\u001b[A\u001b[A\u001b[A\u001b[A\u001b[1G\u001b[?25h\u001b[?2026l\u001b[?2026h\u001b[?25l\u001b[A\u001b[A\u001b[A\u001b[A\u001b[A\u001b[A\u001b[1G\u001b[?25h\u001b[?2026l\u001b[?2026h\u001b[?25l\u001b[A\u001b[A\u001b[A\u001b[A\u001b[A\u001b[A\u001b[1G\u001b[?25h\u001b[?2026l\u001b[?2026h\u001b[?25l\u001b[A\u001b[A\u001b[A\u001b[A\u001b[A\u001b[A\u001b[1G\u001b[?25h\u001b[?2026l\u001b[?2026h\u001b[?25l\u001b[A\u001b[A\u001b[A\u001b[A\u001b[A\u001b[A\u001b[1G\u001b[?25h\u001b[?2026l\u001b[?2026h\u001b[?25l\u001b[A\u001b[A\u001b[A\u001b[A\u001b[A\u001b[A\u001b[1G\u001b[?25h\u001b[?2026l\u001b[?2026h\u001b[?25l\u001b[A\u001b[A\u001b[A\u001b[A\u001b[A\u001b[A\u001b[1G\u001b[?25h\u001b[?2026l\u001b[?2026h\u001b[?25l\u001b[A\u001b[A\u001b[A\u001b[A\u001b[A\u001b[A\u001b[1G\u001b[?25h\u001b[?2026l\u001b[?2026h\u001b[?25l\u001b[A\u001b[A\u001b[A\u001b[A\u001b[A\u001b[A\u001b[1G\u001b[?25h\u001b[?2026l\u001b[?2026h\u001b[?25l\u001b[A\u001b[A\u001b[A\u001b[A\u001b[A\u001b[A\u001b[1G\u001b[?25h\u001b[?2026l\u001b[?2026h\u001b[?25l\u001b[A\u001b[A\u001b[A\u001b[A\u001b[A\u001b[A\u001b[1G\u001b[?25h\u001b[?2026l\u001b[?2026h\u001b[?25l\u001b[A\u001b[A\u001b[A\u001b[A\u001b[A\u001b[A\u001b[1G\u001b[?25h\u001b[?2026l\u001b[?2026h\u001b[?25l\u001b[A\u001b[A\u001b[A\u001b[A\u001b[A\u001b[A\u001b[1G\u001b[?25h\u001b[?2026l\u001b[?2026h\u001b[?25l\u001b[A\u001b[A\u001b[A\u001b[A\u001b[A\u001b[A\u001b[1G\u001b[?25h\u001b[?2026l\u001b[?2026h\u001b[?25l\u001b[A\u001b[A\u001b[A\u001b[A\u001b[A\u001b[A\u001b[1G\u001b[?25h\u001b[?2026l\u001b[?2026h\u001b[?25l\u001b[A\u001b[A\u001b[A\u001b[A\u001b[A\u001b[A\u001b[1G\u001b[?25h\u001b[?2026l\u001b[?2026h\u001b[?25l\u001b[A\u001b[A\u001b[A\u001b[A\u001b[A\u001b[A\u001b[1G\u001b[?25h\u001b[?2026l\u001b[?2026h\u001b[?25l\u001b[A\u001b[A\u001b[A\u001b[A\u001b[A\u001b[A\u001b[1G\u001b[?25h\u001b[?2026l\u001b[?2026h\u001b[?25l\u001b[A\u001b[A\u001b[A\u001b[A\u001b[A\u001b[A\u001b[1G\u001b[?25h\u001b[?2026l\u001b[?2026h\u001b[?25l\u001b[A\u001b[A\u001b[A\u001b[A\u001b[A\u001b[A\u001b[1G\u001b[?25h\u001b[?2026l\u001b[?2026h\u001b[?25l\u001b[A\u001b[A\u001b[A\u001b[A\u001b[A\u001b[A\u001b[1G\u001b[?25h\u001b[?2026l\u001b[?2026h\u001b[?25l\u001b[A\u001b[A\u001b[A\u001b[A\u001b[A\u001b[A\u001b[1G\u001b[?25h\u001b[?2026l\u001b[?2026h\u001b[?25l\u001b[A\u001b[A\u001b[A\u001b[A\u001b[A\u001b[A\u001b[1G\u001b[?25h\u001b[?2026l\u001b[?2026h\u001b[?25l\u001b[A\u001b[A\u001b[A\u001b[A\u001b[A\u001b[A\u001b[1G\u001b[?25h\u001b[?2026l\u001b[?2026h\u001b[?25l\u001b[A\u001b[A\u001b[A\u001b[A\u001b[A\u001b[A\u001b[1G\u001b[?25h\u001b[?2026l\u001b[?2026h\u001b[?25l\u001b[A\u001b[A\u001b[A\u001b[A\u001b[A\u001b[A\u001b[1G\u001b[?25h\u001b[?2026l\u001b[?2026h\u001b[?25l\u001b[A\u001b[A\u001b[A\u001b[A\u001b[A\u001b[A\u001b[1G\u001b[?25h\u001b[?2026l\u001b[?2026h\u001b[?25l\u001b[A\u001b[A\u001b[A\u001b[A\u001b[A\u001b[A\u001b[1G\u001b[?25h\u001b[?2026l\n",
            "NAME         ID              SIZE      MODIFIED               \n",
            "gemma3:4b    a2af6cc3eb7f    3.3 GB    Less than a second ago    \n"
          ]
        }
      ],
      "source": [
        "# @title Select models to download\n",
        "import subprocess\n",
        "# @markdown ---\n",
        "\n",
        "# @markdown Select a LLM model:\n",
        "\n",
        "LLM_model = \"gemma3:4b\" # @param [\"phi4\", \"deepseek-r1:7b\", \"gemma3:4b\", \"gemma3:12b\", \"llama4\", \"llama3.3:70b\", \"llama3.2:3b\", \"llama3.1:8b\"]\n",
        "!ollama pull {LLM_model}\n",
        "# @markdown ---\n",
        "# @markdown ### For more information on available models, check [Ollama](https://ollama.com/search)\n",
        "\n",
        "!ollama list"
      ]
    },
    {
      "cell_type": "markdown",
      "metadata": {
        "id": "AoTZG6ZypgpQ"
      },
      "source": [
        "Next cell reads all the PDF files in the **data_dir** directory, and it is processed into a Vector database named **db_name** and located at **db_dir**"
      ]
    },
    {
      "cell_type": "code",
      "execution_count": 4,
      "metadata": {
        "id": "XsyJfyWsVVWj",
        "cellView": "form",
        "colab": {
          "base_uri": "https://localhost:8080/"
        },
        "outputId": "3f9b5ecd-0eb2-4599-bcfd-26fd832467f0"
      },
      "outputs": [
        {
          "output_type": "stream",
          "name": "stdout",
          "text": [
            "\u001b[?2026h\u001b[?25l\u001b[1G\u001b[?25h\u001b[?2026l\u001b[?2026h\u001b[?25l\u001b[1G\u001b[?25h\u001b[?2026l\u001b[?2026h\u001b[?25l\u001b[1G\u001b[?25h\u001b[?2026l\u001b[?2026h\u001b[?25l\u001b[1G\u001b[?25h\u001b[?2026l\u001b[?2026h\u001b[?25l\u001b[1G\u001b[?25h\u001b[?2026l\u001b[?2026h\u001b[?25l\u001b[1G\u001b[?25h\u001b[?2026l\u001b[?2026h\u001b[?25l\u001b[1G\u001b[?25h\u001b[?2026l\u001b[?2026h\u001b[?25l\u001b[1G\u001b[?25h\u001b[?2026l\u001b[?2026h\u001b[?25l\u001b[1G\u001b[?25h\u001b[?2026l\u001b[?2026h\u001b[?25l\u001b[1G\u001b[?25h\u001b[?2026l\u001b[?2026h\u001b[?25l\u001b[1G\u001b[?25h\u001b[?2026l\u001b[?2026h\u001b[?25l\u001b[1G\u001b[?25h\u001b[?2026l\u001b[?2026h\u001b[?25l\u001b[1G\u001b[?25h\u001b[?2026l\u001b[?2026h\u001b[?25l\u001b[1G\u001b[?25h\u001b[?2026l\u001b[?2026h\u001b[?25l\u001b[1G\u001b[?25h\u001b[?2026l\u001b[?2026h\u001b[?25l\u001b[1G\u001b[?25h\u001b[?2026l\u001b[?2026h\u001b[?25l\u001b[1G\u001b[?25h\u001b[?2026l\u001b[?2026h\u001b[?25l\u001b[1G\u001b[?25h\u001b[?2026l\u001b[?2026h\u001b[?25l\u001b[1G\u001b[?25h\u001b[?2026l\u001b[?2026h\u001b[?25l\u001b[1G\u001b[?25h\u001b[?2026l\u001b[?2026h\u001b[?25l\u001b[1G\u001b[?25h\u001b[?2026l\u001b[?2026h\u001b[?25l\u001b[1G\u001b[?25h\u001b[?2026l\u001b[?2026h\u001b[?25l\u001b[1G\u001b[?25h\u001b[?2026l\u001b[?2026h\u001b[?25l\u001b[1G\u001b[?25h\u001b[?2026l\u001b[?2026h\u001b[?25l\u001b[1G\u001b[?25h\u001b[?2026l\u001b[?2026h\u001b[?25l\u001b[1G\u001b[?25h\u001b[?2026l\u001b[?2026h\u001b[?25l\u001b[1G\u001b[?25h\u001b[?2026l\u001b[?2026h\u001b[?25l\u001b[1G\u001b[?25h\u001b[?2026l\u001b[?2026h\u001b[?25l\u001b[1G\u001b[?25h\u001b[?2026l\u001b[?2026h\u001b[?25l\u001b[1G\u001b[?25h\u001b[?2026l\u001b[?2026h\u001b[?25l\u001b[1G\u001b[?25h\u001b[?2026l\u001b[?2026h\u001b[?25l\u001b[1G\u001b[?25h\u001b[?2026l\u001b[?2026h\u001b[?25l\u001b[1G\u001b[?25h\u001b[?2026l\u001b[?2026h\u001b[?25l\u001b[1G\u001b[?25h\u001b[?2026l\u001b[?2026h\u001b[?25l\u001b[1G\u001b[?25h\u001b[?2026l\u001b[?2026h\u001b[?25l\u001b[1G\u001b[?25h\u001b[?2026l\u001b[?2026h\u001b[?25l\u001b[1G\u001b[?25h\u001b[?2026l\u001b[?2026h\u001b[?25l\u001b[1G\u001b[?25h\u001b[?2026l\u001b[?2026h\u001b[?25l\u001b[1G\u001b[?25h\u001b[?2026l\u001b[?2026h\u001b[?25l\u001b[1G\u001b[?25h\u001b[?2026l\u001b[?2026h\u001b[?25l\u001b[1G\u001b[?25h\u001b[?2026l\u001b[?2026h\u001b[?25l\u001b[1G\u001b[?25h\u001b[?2026l\u001b[?2026h\u001b[?25l\u001b[1G\u001b[?25h\u001b[?2026l\u001b[?2026h\u001b[?25l\u001b[1G\u001b[?25h\u001b[?2026l\u001b[?2026h\u001b[?25l\u001b[1G\u001b[?25h\u001b[?2026l\u001b[?2026h\u001b[?25l\u001b[1G\u001b[?25h\u001b[?2026l\u001b[?2026h\u001b[?25l\u001b[1G\u001b[?25h\u001b[?2026l\u001b[?2026h\u001b[?25l\u001b[1G\u001b[?25h\u001b[?2026l\u001b[?2026h\u001b[?25l\u001b[1G\u001b[?25h\u001b[?2026l\u001b[?2026h\u001b[?25l\u001b[1G\u001b[?25h\u001b[?2026l\u001b[?2026h\u001b[?25l\u001b[1G\u001b[?25h\u001b[?2026l\u001b[?25l\u001b[?2026h\u001b[?25l\u001b[1G\u001b[?25h\u001b[?2026l\u001b[2K\u001b[1G\u001b[?25hLet\u001b[?25l\u001b[?25h $\u001b[?25l\u001b[?25hd\u001b[?25l\u001b[?25h_\u001b[?25l\u001b[?25h1\u001b[?25l\u001b[?25h$\u001b[?25l\u001b[?25h be\u001b[?25l\u001b[?25h the\u001b[?25l\u001b[?25h distance\u001b[?25l\u001b[?25h traveled\u001b[?25l\u001b[?25h at\u001b[?25l\u001b[?25h \u001b[?25l\u001b[?25h6\u001b[?25l\u001b[?25h0\u001b[?25l\u001b[?25h mph\u001b[?25l\u001b[?25h for\u001b[?25l\u001b[?25h \u001b[?25l\u001b[?25h2\u001b[?25l\u001b[?25h hours\u001b[?25l\u001b[?25h.\u001b[?25l\u001b[?25h We\u001b[?25l\u001b[?25h have\u001b[?25l\u001b[?25h\n",
            "\u001b[?25l\u001b[?25h$\u001b[?25l\u001b[?25hd\u001b[?25l\u001b[?25h_\u001b[?25l\u001b[?25h1\u001b[?25l\u001b[?25h =\u001b[?25l\u001b[?25h \\\u001b[?25l\u001b[?25htext\u001b[?25l\u001b[?25h{\u001b[?25l\u001b[?25hspeed\u001b[?25l\u001b[?25h}\u001b[?25l\u001b[?25h \\\u001b[?25l\u001b[?25htimes\u001b[?25l\u001b[?25h \\\u001b[?25l\u001b[?25htext\u001b[?25l\u001b[?25h{\u001b[?25l\u001b[?25htime\u001b[?25l\u001b[?25h}\u001b[?25l\u001b[?25h =\u001b[?25l\u001b[?25h \u001b[?25l\u001b[?25h6\u001b[?25l\u001b[?25h0\u001b[?25l\u001b[?25h \\\u001b[?25l\u001b[?25htext\u001b[?25l\u001b[?25h{\u001b[?25l\u001b[?25h mph\u001b[?25l\u001b[?25h}\u001b[?25l\u001b[?25h \\\u001b[?25l\u001b[?25htimes\u001b[?25l\u001b[?25h \u001b[?25l\u001b[?25h2\u001b[?25l\u001b[?25h \\\u001b[?25l\u001b[?25htext\u001b[?25l\u001b[?25h{\u001b[?25l\u001b[?25h hours\u001b[?25l\u001b[?25h}\u001b[?25l\u001b[?25h =\u001b[?25l\u001b[?25h \u001b[?25l\u001b[?25h1\u001b[?25l\u001b[?25h2\u001b[?25l\u001b[?25h0\u001b[?25l\u001b[?25h \\\u001b[?25l\u001b[?25htext\u001b[?25l\u001b[?25h{\u001b[?25l\u001b[?25h miles\u001b[?25l\u001b[?25h}$.\u001b[?25l\u001b[?25h\n",
            "\n",
            "\u001b[?25l\u001b[?25hLet\u001b[?25l\u001b[?25h $\u001b[?25l\u001b[?25hd\u001b[?25l\u001b[?25h_\u001b[?25l\u001b[?25h2\u001b[?25l\u001b[?25h$\u001b[?25l\u001b[?25h be\u001b[?25l\u001b[?25h the\u001b[?25l\u001b[?25h distance\u001b[?25l\u001b[?25h traveled\u001b[?25l\u001b[?25h at\u001b[?25l\u001b[?25h \u001b[?25l\u001b[?25h4\u001b[?25l\u001b[?25h0\u001b[?25l\u001b[?25h mph\u001b[?25l\u001b[?25h for\u001b[?25l\u001b[?25h \u001b[?25l\u001b[?25h3\u001b[?25l\u001b[?25h hours\u001b[?25l\u001b[?25h.\u001b[?25l\u001b[?25h We\u001b[?25l\u001b[?25h have\u001b[?25l\u001b[?25h\n",
            "\u001b[?25l\u001b[?25h$\u001b[?25l\u001b[?25hd\u001b[?25l\u001b[?25h_\u001b[?25l\u001b[?25h2\u001b[?25l\u001b[?25h =\u001b[?25l\u001b[?25h \\\u001b[?25l\u001b[?25htext\u001b[?25l\u001b[?25h{\u001b[?25l\u001b[?25hspeed\u001b[?25l\u001b[?25h}\u001b[?25l\u001b[?25h \\\u001b[?25l\u001b[?25htimes\u001b[?25l\u001b[?25h \\\u001b[?25l\u001b[?25htext\u001b[?25l\u001b[?25h{\u001b[?25l\u001b[?25htime\u001b[?25l\u001b[?25h}\u001b[?25l\u001b[?25h =\u001b[?25l\u001b[?25h \u001b[?25l\u001b[?25h4\u001b[?25l\u001b[?25h0\u001b[?25l\u001b[?25h \\\u001b[?25l\u001b[?25htext\u001b[?25l\u001b[?25h{\u001b[?25l\u001b[?25h mph\u001b[?25l\u001b[?25h}\u001b[?25l\u001b[?25h \\\u001b[?25l\u001b[?25htimes\u001b[?25l\u001b[?25h \u001b[?25l\u001b[?25h3\u001b[?25l\u001b[?25h \\\u001b[?25l\u001b[?25htext\u001b[?25l\u001b[?25h{\u001b[?25l\u001b[?25h hours\u001b[?25l\u001b[?25h}\u001b[?25l\u001b[?25h =\u001b[?25l\u001b[?25h \u001b[?25l\u001b[?25h1\u001b[?25l\u001b[?25h2\u001b[?25l\u001b[?25h0\u001b[?25l\u001b[?25h \\\u001b[?25l\u001b[?25htext\u001b[?25l\u001b[?25h{\u001b[?25l\u001b[?25h miles\u001b[?25l\u001b[?25h}$.\u001b[?25l\u001b[?25h\n",
            "\n",
            "\u001b[?25l\u001b[?25hThe\u001b[?25l\u001b[?25h total\u001b[?25l\u001b[?25h distance\u001b[?25l\u001b[?25h traveled\u001b[?25l\u001b[?25h is\u001b[?25l\u001b[?25h $\u001b[?25l\u001b[?25hd\u001b[?25l\u001b[?25h_\u001b[?25l\u001b[?25h1\u001b[?25l\u001b[?25h +\u001b[?25l\u001b[?25h d\u001b[?25l\u001b[?25h_\u001b[?25l\u001b[?25h2\u001b[?25l\u001b[?25h =\u001b[?25l\u001b[?25h \u001b[?25l\u001b[?25h1\u001b[?25l\u001b[?25h2\u001b[?25l\u001b[?25h0\u001b[?25l\u001b[?25h \\\u001b[?25l\u001b[?25htext\u001b[?25l\u001b[?25h{\u001b[?25l\u001b[?25h miles\u001b[?25l\u001b[?25h}\u001b[?25l\u001b[?25h +\u001b[?25l\u001b[?25h \u001b[?25l\u001b[?25h1\u001b[?25l\u001b[?25h2\u001b[?25l\u001b[?25h0\u001b[?25l\u001b[?25h \\\u001b[?25l\u001b[?25htext\u001b[?25l\u001b[?25h{\u001b[?25l\u001b[?25h miles\u001b[?25l\u001b[?25h}\u001b[?25l\u001b[?25h =\u001b[?25l\u001b[?25h \u001b[?25l\u001b[?25h2\u001b[?25l\u001b[?25h4\u001b[?25l\u001b[?25h0\u001b[?25l\u001b[?25h \\\u001b[?25l\u001b[?25htext\u001b[?25l\u001b[?25h{\u001b[?25l\u001b[?25h miles\u001b[?25l\u001b[?25h}$.\u001b[?25l\u001b[?25h\n",
            "\n",
            "\u001b[?25l\u001b[?25hFinal\u001b[?25l\u001b[?25h Answer\u001b[?25l\u001b[?25h:\u001b[?25l\u001b[?25h The\u001b[?25l\u001b[?25h final\u001b[?25l\u001b[?25h answer\u001b[?25l\u001b[?25h is\u001b[?25l\u001b[?25h $\\\u001b[?25l\u001b[?25hboxed\u001b[?25l\u001b[?25h{\u001b[?25l\u001b[?25h2\u001b[?25l\u001b[?25h4\u001b[?25l\u001b[?25h0\u001b[?25l\u001b[?25h}$\u001b[?25l\u001b[?25h\n",
            "\n",
            "\u001b[?25l\u001b[?25h"
          ]
        }
      ],
      "source": [
        "# @title Run a query against the LLM\n",
        "# @markdown Select the model and enter the prompt\n",
        "\n",
        "# @markdown ---\n",
        "# @markdown ### Select a model:\n",
        "LLM_model = \"gemma3:4b\" # @param [\"phi4\", \"gemma3:4b\", \"gemma3:12b\", \"llama4\", \"llama3.3:70b\", \"llama3.2:3b\", \"llama3.1:8b\"]\n",
        "# @markdown ### Enter a prompt:\n",
        "query = \"If a train travels at 60 mph for 2 hours and then 40 mph for 3 hours, what is the total distance traveled?\" # @param {type:\"string\"}\n",
        "escaped_input = query.replace(\"'\", \"\\\\'\")\n",
        "# @markdown ---\n",
        "\n",
        "!ollama run {LLM_model} {escaped_input}\n"
      ]
    },
    {
      "cell_type": "code",
      "source": [],
      "metadata": {
        "id": "0LaFobH2s5N1"
      },
      "execution_count": null,
      "outputs": []
    },
    {
      "cell_type": "code",
      "execution_count": 5,
      "metadata": {
        "cellView": "form",
        "colab": {
          "base_uri": "https://localhost:8080/"
        },
        "outputId": "61d45d1b-9ae1-4376-cced-f0e92936fcf7",
        "id": "Y4sSPr6Ps7kp"
      },
      "outputs": [
        {
          "output_type": "stream",
          "name": "stdout",
          "text": [
            "\u001b[?2026h\u001b[?25l\u001b[1G\u001b[?25h\u001b[?2026l\u001b[?25l\u001b[?2026h\u001b[?25l\u001b[1G\u001b[?25h\u001b[?2026l\u001b[2K\u001b[1G\u001b[?25hCode\u001b[?25l\u001b[?25h learns\u001b[?25l\u001b[?25h and\u001b[?25l\u001b[?25h evolves\u001b[?25l\u001b[?25h,\u001b[?25l\u001b[?25h\n",
            "\u001b[?25l\u001b[?25hMim\u001b[?25l\u001b[?25hicking\u001b[?25l\u001b[?25h a\u001b[?25l\u001b[?25h human\u001b[?25l\u001b[?25h mind\u001b[?25l\u001b[?25h,\u001b[?25l\u001b[?25h\n",
            "\u001b[?25l\u001b[?25hFuture\u001b[?25l\u001b[?25h'\u001b[?25l\u001b[?25hs\u001b[?25l\u001b[?25h logic\u001b[?25l\u001b[?25h blooms\u001b[?25l\u001b[?25h.\u001b[?25l\u001b[?25h\n",
            "\n",
            "\u001b[?25l\u001b[?25h"
          ]
        }
      ],
      "source": [
        "# @title Run a query against the LLM\n",
        "# @markdown Select the model and enter the prompt\n",
        "\n",
        "# @markdown ---\n",
        "# @markdown ### Select a model:\n",
        "LLM_model = \"gemma3:4b\" # @param [\"phi4\", \"gemma3:4b\", \"gemma3:12b\", \"llama4\", \"llama3.3:70b\", \"llama3.2:3b\", \"llama3.1:8b\"]\n",
        "# @markdown ### Enter a prompt:\n",
        "query = \"Generate a haiku about artificial intelligence\" # @param {type:\"string\"}\n",
        "escaped_input = query.replace(\"'\", \"\\\\'\")\n",
        "# @markdown ---\n",
        "\n",
        "!ollama run {LLM_model} {escaped_input}\n"
      ]
    },
    {
      "cell_type": "code",
      "execution_count": 6,
      "metadata": {
        "cellView": "form",
        "colab": {
          "base_uri": "https://localhost:8080/"
        },
        "outputId": "e81574cb-5856-495e-a096-895430c6bd3c",
        "id": "K6R28Cs8s9GD"
      },
      "outputs": [
        {
          "output_type": "stream",
          "name": "stdout",
          "text": [
            "\u001b[?2026h\u001b[?25l\u001b[1G\u001b[?25h\u001b[?2026l\u001b[?25l\u001b[?2026h\u001b[?25l\u001b[1G\u001b[?25h\u001b[?2026l\u001b[2K\u001b[1G\u001b[?25hOkay\u001b[?25l\u001b[?25h,\u001b[?25l\u001b[?25h let\u001b[?25l\u001b[?25h'\u001b[?25l\u001b[?25hs\u001b[?25l\u001b[?25h break\u001b[?25l\u001b[?25h down\u001b[?25l\u001b[?25h the\u001b[?25l\u001b[?25h differences\u001b[?25l\u001b[?25h between\u001b[?25l\u001b[?25h mitosis\u001b[?25l\u001b[?25h and\u001b[?25l\u001b[?25h meiosis\u001b[?25l\u001b[?25h –\u001b[?25l\u001b[?25h they\u001b[?25l\u001b[?25h'\u001b[?25l\u001b[?25hre\u001b[?25l\u001b[?25h both\u001b[?25l\u001b[?25h processes\u001b[?25l\u001b[?25h of\u001b[?25l\u001b[?25h cell\u001b[?25l\u001b[?25h division\u001b[?25l\u001b[?25h,\u001b[?25l\u001b[?25h but\u001b[?25l\u001b[?25h they\u001b[?25l\u001b[?25h serve\u001b[?25l\u001b[?25h dramatically\u001b[?25l\u001b[?25h different\u001b[?25l\u001b[?25h purposes\u001b[?25l\u001b[?25h.\u001b[?25l\u001b[?25h Here\u001b[?25l\u001b[?25h'\u001b[?25l\u001b[?25hs\u001b[?25l\u001b[?25h a\u001b[?25l\u001b[?25h detailed\u001b[?25l\u001b[?25h comparison\u001b[?25l\u001b[?25h:\u001b[?25l\u001b[?25h\n",
            "\n",
            "\u001b[?25l\u001b[?25h**\u001b[?25l\u001b[?25h1\u001b[?25l\u001b[?25h.\u001b[?25l\u001b[?25h Mit\u001b[?25l\u001b[?25hosis\u001b[?25l\u001b[?25h:\u001b[?25l\u001b[?25h Cell\u001b[?25l\u001b[?25h Division\u001b[?25l\u001b[?25h for\u001b[?25l\u001b[?25h Growth\u001b[?25l\u001b[?25h &\u001b[?25l\u001b[?25h Repair\u001b[?25l\u001b[?25h**\u001b[?25l\u001b[?25h\n",
            "\n",
            "\u001b[?25l\u001b[?25h*\u001b[?25l\u001b[?25h **\u001b[?25l\u001b[?25hPurpose\u001b[?25l\u001b[?25h:**\u001b[?25l\u001b[?25h Mit\u001b[?25l\u001b[?25hosis\u001b[?25l\u001b[?25h is\u001b[?25l\u001b[?25h used\u001b[?25l\u001b[?25h for\u001b[?25l\u001b[?25h growth\u001b[?25l\u001b[?25h,\u001b[?25l\u001b[?25h repair\u001b[?25l\u001b[?25h,\u001b[?25l\u001b[?25h and\u001b[?25l\u001b[?25h asexual\u001b[?25l\u001b[?25h reproduction\u001b[?25l\u001b[?25h in\u001b[?25l\u001b[?25h organisms\u001b[?25l\u001b[?25h.\u001b[?25l\u001b[?25h It\u001b[?25l\u001b[?25h creates\u001b[?25l\u001b[?25h *\u001b[?25l\u001b[?25hidentical\u001b[?25l\u001b[?25h*\u001b[?25l\u001b[?25h copies\u001b[?25l\u001b[?25h of\u001b[?25l\u001b[?25h cells\u001b[?25l\u001b[?25h.\u001b[?25l\u001b[?25h\n",
            "\u001b[?25l\u001b[?25h*\u001b[?25l\u001b[?25h **\u001b[?25l\u001b[?25hProcess\u001b[?25l\u001b[?25h:**\u001b[?25l\u001b[?25h\n",
            "\u001b[?25l\u001b[?25h    \u001b[?25l\u001b[?25h*\u001b[?25l\u001b[?25h **\u001b[?25l\u001b[?25hOne\u001b[?25l\u001b[?25h Division\u001b[?25l\u001b[?25h:**\u001b[?25l\u001b[?25h  \u001b[?25l\u001b[?25hA\u001b[?25l\u001b[?25h single\u001b[?25l\u001b[?25h round\u001b[?25l\u001b[?25h of\u001b[?25l\u001b[?25h cell\u001b[?25l\u001b[?25h division\u001b[?25l\u001b[?25h.\u001b[?25l\u001b[?25h\n",
            "\u001b[?25l\u001b[?25h    \u001b[?25l\u001b[?25h*\u001b[?25l\u001b[?25h **\u001b[?25l\u001b[?25hChromosome\u001b[?25l\u001b[?25h Number\u001b[?25l\u001b[?25h:**\u001b[?25l\u001b[?25h  \u001b[?25l\u001b[?25hMain\u001b[?25l\u001b[?25htains\u001b[?25l\u001b[?25h the\u001b[?25l\u001b[?25h same\u001b[?25l\u001b[?25h chromosome\u001b[?25l\u001b[?25h number\u001b[?25l\u001b[?25h as\u001b[?25l\u001b[?25h the\u001b[?25l\u001b[?25h parent\u001b[?25l\u001b[?25h cell\u001b[?25l\u001b[?25h.\u001b[?25l\u001b[?25h If\u001b[?25l\u001b[?25h a\u001b[?25l\u001b[?25h parent\u001b[?25l\u001b[?25h cell\u001b[?25l\u001b[?25h has\u001b[?25l\u001b[?25h \u001b[?25l\u001b[?25h4\u001b[?25l\u001b[?25h6\u001b[?25l\u001b[?25h chromosomes\u001b[?25l\u001b[?25h (\u001b[?25l\u001b[?25hin\u001b[?25l\u001b[?25h humans\u001b[?25l\u001b[?25h),\u001b[?25l\u001b[?25h the\u001b[?25l\u001b[?25h daughter\u001b[?25l\u001b[?25h cells\u001b[?25l\u001b[?25h will\u001b[?25l\u001b[?25h also\u001b[?25l\u001b[?25h have\u001b[?25l\u001b[?25h \u001b[?25l\u001b[?25h4\u001b[?25l\u001b[?25h6\u001b[?25l\u001b[?25h chromosomes\u001b[?25l\u001b[?25h.\u001b[?25l\u001b[?25h\n",
            "\u001b[?25l\u001b[?25h    \u001b[?25l\u001b[?25h*\u001b[?25l\u001b[?25h **\u001b[?25l\u001b[?25hResult\u001b[?25l\u001b[?25h:**\u001b[?25l\u001b[?25h Two\u001b[?25l\u001b[?25h daughter\u001b[?25l\u001b[?25h cells\u001b[?25l\u001b[?25h are\u001b[?25l\u001b[?25h produced\u001b[?25l\u001b[?25h.\u001b[?25l\u001b[?25h These\u001b[?25l\u001b[?25h daughter\u001b[?25l\u001b[?25h cells\u001b[?25l\u001b[?25h are\u001b[?25l\u001b[?25h genetically\u001b[?25l\u001b[?25h identical\u001b[?25l\u001b[?25h to\u001b[?25l\u001b[?25h the\u001b[?25l\u001b[?25h original\u001b[?25l\u001b[?25h parent\u001b[?25l\u001b[?25h cell\u001b[?25l\u001b[?25h.\u001b[?25l\u001b[?25h\n",
            "\u001b[?25l\u001b[?25h    \u001b[?25l\u001b[?25h*\u001b[?25l\u001b[?25h **\u001b[?25l\u001b[?25hGenetic\u001b[?25l\u001b[?25h Variation\u001b[?25l\u001b[?25h:**\u001b[?25l\u001b[?25h  \u001b[?25l\u001b[?25hNo\u001b[?25l\u001b[?25h genetic\u001b[?25l\u001b[?25h variation\u001b[?25l\u001b[?25h is\u001b[?25l\u001b[?25h introduced\u001b[?25l\u001b[?25h during\u001b[?25l\u001b[?25h mitosis\u001b[?25l\u001b[?25h.\u001b[?25l\u001b[?25h\n",
            "\u001b[?25l\u001b[?25h*\u001b[?25l\u001b[?25h **\u001b[?25l\u001b[?25hWhere\u001b[?25l\u001b[?25h it\u001b[?25l\u001b[?25h happens\u001b[?25l\u001b[?25h:**\u001b[?25l\u001b[?25h  \u001b[?25l\u001b[?25hIn\u001b[?25l\u001b[?25h somatic\u001b[?25l\u001b[?25h cells\u001b[?25l\u001b[?25h (\u001b[?25l\u001b[?25hall\u001b[?25l\u001b[?25h cells\u001b[?25l\u001b[?25h in\u001b[?25l\u001b[?25h the\u001b[?25l\u001b[?25h body\u001b[?25l\u001b[?25h *\u001b[?25l\u001b[?25hexcept\u001b[?25l\u001b[?25h*\u001b[?25l\u001b[?25h sex\u001b[?25l\u001b[?25h cells\u001b[?25l\u001b[?25h).\u001b[?25l\u001b[?25h\n",
            "\u001b[?25l\u001b[?25h*\u001b[?25l\u001b[?25h **\u001b[?25l\u001b[?25hAnal\u001b[?25l\u001b[?25hogy\u001b[?25l\u001b[?25h:**\u001b[?25l\u001b[?25h Think\u001b[?25l\u001b[?25h of\u001b[?25l\u001b[?25h it\u001b[?25l\u001b[?25h like\u001b[?25l\u001b[?25h making\u001b[?25l\u001b[?25h a\u001b[?25l\u001b[?25h perfect\u001b[?25l\u001b[?25h photocopy\u001b[?25l\u001b[?25h of\u001b[?25l\u001b[?25h a\u001b[?25l\u001b[?25h document\u001b[?25l\u001b[?25h.\u001b[?25l\u001b[?25h\n",
            "\n",
            "\n",
            "\u001b[?25l\u001b[?25h**\u001b[?25l\u001b[?25h2\u001b[?25l\u001b[?25h.\u001b[?25l\u001b[?25h Me\u001b[?25l\u001b[?25hiosis\u001b[?25l\u001b[?25h:\u001b[?25l\u001b[?25h Cell\u001b[?25l\u001b[?25h Division\u001b[?25l\u001b[?25h for\u001b[?25l\u001b[?25h Sexual\u001b[?25l\u001b[?25h Reproduction\u001b[?25l\u001b[?25h**\u001b[?25l\u001b[?25h\n",
            "\n",
            "\u001b[?25l\u001b[?25h*\u001b[?25l\u001b[?25h **\u001b[?25l\u001b[?25hPurpose\u001b[?25l\u001b[?25h:**\u001b[?25l\u001b[?25h Me\u001b[?25l\u001b[?25hiosis\u001b[?25l\u001b[?25h is\u001b[?25l\u001b[?25h used\u001b[?25l\u001b[?25h for\u001b[?25l\u001b[?25h sexual\u001b[?25l\u001b[?25h reproduction\u001b[?25l\u001b[?25h.\u001b[?25l\u001b[?25h It\u001b[?25l\u001b[?25h produces\u001b[?25l\u001b[?25h *\u001b[?25l\u001b[?25hgen\u001b[?25l\u001b[?25hetically\u001b[?25l\u001b[?25h diverse\u001b[?25l\u001b[?25h*\u001b[?25l\u001b[?25h sex\u001b[?25l\u001b[?25h cells\u001b[?25l\u001b[?25h (\u001b[?25l\u001b[?25hgam\u001b[?25l\u001b[?25hetes\u001b[?25l\u001b[?25h –\u001b[?25l\u001b[?25h sperm\u001b[?25l\u001b[?25h and\u001b[?25l\u001b[?25h egg\u001b[?25l\u001b[?25h cells\u001b[?25l\u001b[?25h).\u001b[?25l\u001b[?25h\n",
            "\u001b[?25l\u001b[?25h*\u001b[?25l\u001b[?25h **\u001b[?25l\u001b[?25hProcess\u001b[?25l\u001b[?25h:**\u001b[?25l\u001b[?25h\n",
            "\u001b[?25l\u001b[?25h    \u001b[?25l\u001b[?25h*\u001b[?25l\u001b[?25h **\u001b[?25l\u001b[?25hTwo\u001b[?25l\u001b[?25h Divisions\u001b[?25l\u001b[?25h:**\u001b[?25l\u001b[?25h  \u001b[?25l\u001b[?25hIn\u001b[?25l\u001b[?25hvol\u001b[?25l\u001b[?25hves\u001b[?25l\u001b[?25h *\u001b[?25l\u001b[?25htwo\u001b[?25l\u001b[?25h*\u001b[?25l\u001b[?25h rounds\u001b[?25l\u001b[?25h of\u001b[?25l\u001b[?25h cell\u001b[?25l\u001b[?25h division\u001b[?25l\u001b[?25h.\u001b[?25l\u001b[?25h\n",
            "\u001b[?25l\u001b[?25h    \u001b[?25l\u001b[?25h*\u001b[?25l\u001b[?25h **\u001b[?25l\u001b[?25hChromosome\u001b[?25l\u001b[?25h Number\u001b[?25l\u001b[?25h:**\u001b[?25l\u001b[?25h  \u001b[?25l\u001b[?25hRed\u001b[?25l\u001b[?25huces\u001b[?25l\u001b[?25h the\u001b[?25l\u001b[?25h chromosome\u001b[?25l\u001b[?25h number\u001b[?25l\u001b[?25h by\u001b[?25l\u001b[?25h *\u001b[?25l\u001b[?25hhalf\u001b[?25l\u001b[?25h*.\u001b[?25l\u001b[?25h If\u001b[?25l\u001b[?25h a\u001b[?25l\u001b[?25h parent\u001b[?25l\u001b[?25h cell\u001b[?25l\u001b[?25h has\u001b[?25l\u001b[?25h \u001b[?25l\u001b[?25h4\u001b[?25l\u001b[?25h6\u001b[?25l\u001b[?25h chromosomes\u001b[?25l\u001b[?25h,\u001b[?25l\u001b[?25h the\u001b[?25l\u001b[?25h daughter\u001b[?25l\u001b[?25h cells\u001b[?25l\u001b[?25h (\u001b[?25l\u001b[?25hgam\u001b[?25l\u001b[?25hetes\u001b[?25l\u001b[?25h)\u001b[?25l\u001b[?25h will\u001b[?25l\u001b[?25h have\u001b[?25l\u001b[?25h \u001b[?25l\u001b[?25h2\u001b[?25l\u001b[?25h3\u001b[?25l\u001b[?25h chromosomes\u001b[?25l\u001b[?25h.\u001b[?25l\u001b[?25h This\u001b[?25l\u001b[?25h is\u001b[?25l\u001b[?25h crucial\u001b[?25l\u001b[?25h because\u001b[?25l\u001b[?25h when\u001b[?25l\u001b[?25h sperm\u001b[?25l\u001b[?25h and\u001b[?25l\u001b[?25h egg\u001b[?25l\u001b[?25h fuse\u001b[?25l\u001b[?25h during\u001b[?25l\u001b[?25h fertilization\u001b[?25l\u001b[?25h,\u001b[?25l\u001b[?25h the\u001b[?25l\u001b[?25h resulting\u001b[?25l\u001b[?25h zyg\u001b[?25l\u001b[?25hote\u001b[?25l\u001b[?25h will\u001b[?25l\u001b[?25h have\u001b[?25l\u001b[?25h the\u001b[?25l\u001b[?25h correct\u001b[?25l\u001b[?25h number\u001b[?25l\u001b[?25h of\u001b[?25l\u001b[?25h chromosomes\u001b[?25l\u001b[?25h (\u001b[?25l\u001b[?25h4\u001b[?25l\u001b[?25h6\u001b[?25l\u001b[?25h in\u001b[?25l\u001b[?25h humans\u001b[?25l\u001b[?25h).\u001b[?25l\u001b[?25h\n",
            "\u001b[?25l\u001b[?25h    \u001b[?25l\u001b[?25h*\u001b[?25l\u001b[?25h **\u001b[?25l\u001b[?25hResult\u001b[?25l\u001b[?25h:**\u001b[?25l\u001b[?25h Four\u001b[?25l\u001b[?25h daughter\u001b[?25l\u001b[?25h cells\u001b[?25l\u001b[?25h are\u001b[?25l\u001b[?25h produced\u001b[?25l\u001b[?25h.\u001b[?25l\u001b[?25h These\u001b[?25l\u001b[?25h daughter\u001b[?25l\u001b[?25h cells\u001b[?25l\u001b[?25h are\u001b[?25l\u001b[?25h *\u001b[?25l\u001b[?25hgen\u001b[?25l\u001b[?25hetically\u001b[?25l\u001b[?25h different\u001b[?25l\u001b[?25h*\u001b[?25l\u001b[?25h from\u001b[?25l\u001b[?25h each\u001b[?25l\u001b[?25h other\u001b[?25l\u001b[?25h and\u001b[?25l\u001b[?25h from\u001b[?25l\u001b[?25h the\u001b[?25l\u001b[?25h parent\u001b[?25l\u001b[?25h cell\u001b[?25l\u001b[?25h.\u001b[?25l\u001b[?25h\n",
            "\u001b[?25l\u001b[?25h    \u001b[?25l\u001b[?25h*\u001b[?25l\u001b[?25h **\u001b[?25l\u001b[?25hGenetic\u001b[?25l\u001b[?25h Variation\u001b[?25l\u001b[?25h:**\u001b[?25l\u001b[?25h Introdu\u001b[?25l\u001b[?25hces\u001b[?25l\u001b[?25h genetic\u001b[?25l\u001b[?25h variation\u001b[?25l\u001b[?25h through\u001b[?25l\u001b[?25h two\u001b[?25l\u001b[?25h key\u001b[?25l\u001b[?25h processes\u001b[?25l\u001b[?25h:\u001b[?25l\u001b[?25h\n",
            "\u001b[?25l\u001b[?25h        \u001b[?25l\u001b[?25h*\u001b[?25l\u001b[?25h **\u001b[?25l\u001b[?25hCrossing\u001b[?25l\u001b[?25h Over\u001b[?25l\u001b[?25h:**\u001b[?25l\u001b[?25h  \u001b[?25l\u001b[?25hDuring\u001b[?25l\u001b[?25h the\u001b[?25l\u001b[?25h first\u001b[?25l\u001b[?25h division\u001b[?25l\u001b[?25h,\u001b[?25l\u001b[?25h homologous\u001b[?25l\u001b[?25h chromosomes\u001b[?25l\u001b[?25h (\u001b[?25l\u001b[?25hpairs\u001b[?25l\u001b[?25h of\u001b[?25l\u001b[?25h chromosomes\u001b[?25l\u001b[?25h with\u001b[?25l\u001b[?25h the\u001b[?25l\u001b[?25h same\u001b[?25l\u001b[?25h genes\u001b[?25l\u001b[?25h)\u001b[?25l\u001b[?25h exchange\u001b[?25l\u001b[?25h genetic\u001b[?25l\u001b[?25h material\u001b[?25l\u001b[?25h.\u001b[?25l\u001b[?25h\n",
            "\u001b[?25l\u001b[?25h        \u001b[?25l\u001b[?25h*\u001b[?25l\u001b[?25h **\u001b[?25l\u001b[?25hIndependent\u001b[?25l\u001b[?25h Ass\u001b[?25l\u001b[?25hort\u001b[?25l\u001b[?25hment\u001b[?25l\u001b[?25h:**\u001b[?25l\u001b[?25h  \u001b[?25l\u001b[?25hThe\u001b[?25l\u001b[?25h random\u001b[?25l\u001b[?25h arrangement\u001b[?25l\u001b[?25h of\u001b[?25l\u001b[?25h homologous\u001b[?25l\u001b[?25h chromosome\u001b[?25l\u001b[?25h pairs\u001b[?25l\u001b[?25h during\u001b[?25l\u001b[?25h cell\u001b[?25l\u001b[?25h division\u001b[?25l\u001b[?25h.\u001b[?25l\u001b[?25h\n",
            "\u001b[?25l\u001b[?25h*\u001b[?25l\u001b[?25h **\u001b[?25l\u001b[?25hWhere\u001b[?25l\u001b[?25h it\u001b[?25l\u001b[?25h happens\u001b[?25l\u001b[?25h:**\u001b[?25l\u001b[?25h  \u001b[?25l\u001b[?25hOnly\u001b[?25l\u001b[?25h in\u001b[?25l\u001b[?25h germ\u001b[?25l\u001b[?25hline\u001b[?25l\u001b[?25h cells\u001b[?25l\u001b[?25h (\u001b[?25l\u001b[?25hcells\u001b[?25l\u001b[?25h that\u001b[?25l\u001b[?25h give\u001b[?25l\u001b[?25h rise\u001b[?25l\u001b[?25h to\u001b[?25l\u001b[?25h gam\u001b[?25l\u001b[?25hetes\u001b[?25l\u001b[?25h –\u001b[?25l\u001b[?25h in\u001b[?25l\u001b[?25h the\u001b[?25l\u001b[?25h ovaries\u001b[?25l\u001b[?25h and\u001b[?25l\u001b[?25h testes\u001b[?25l\u001b[?25h).\u001b[?25l\u001b[?25h\n",
            "\u001b[?25l\u001b[?25h*\u001b[?25l\u001b[?25h **\u001b[?25l\u001b[?25hAnal\u001b[?25l\u001b[?25hogy\u001b[?25l\u001b[?25h:**\u001b[?25l\u001b[?25h Think\u001b[?25l\u001b[?25h of\u001b[?25l\u001b[?25h it\u001b[?25l\u001b[?25h like\u001b[?25l\u001b[?25h shuffling\u001b[?25l\u001b[?25h a\u001b[?25l\u001b[?25h deck\u001b[?25l\u001b[?25h of\u001b[?25l\u001b[?25h cards\u001b[?25l\u001b[?25h and\u001b[?25l\u001b[?25h then\u001b[?25l\u001b[?25h dealing\u001b[?25l\u001b[?25h out\u001b[?25l\u001b[?25h a\u001b[?25l\u001b[?25h smaller\u001b[?25l\u001b[?25h hand\u001b[?25l\u001b[?25h –\u001b[?25l\u001b[?25h the\u001b[?25l\u001b[?25h new\u001b[?25l\u001b[?25h hand\u001b[?25l\u001b[?25h is\u001b[?25l\u001b[?25h different\u001b[?25l\u001b[?25h from\u001b[?25l\u001b[?25h the\u001b[?25l\u001b[?25h original\u001b[?25l\u001b[?25h deck\u001b[?25l\u001b[?25h.\u001b[?25l\u001b[?25h\n",
            "\n",
            "\n",
            "\n",
            "\u001b[?25l\u001b[?25h**\u001b[?25l\u001b[?25hHere\u001b[?25l\u001b[?25h'\u001b[?25l\u001b[?25hs\u001b[?25l\u001b[?25h a\u001b[?25l\u001b[?25h table\u001b[?25l\u001b[?25h summarizing\u001b[?25l\u001b[?25h the\u001b[?25l\u001b[?25h key\u001b[?25l\u001b[?25h differences\u001b[?25l\u001b[?25h:**\u001b[?25l\u001b[?25h\n",
            "\n",
            "\u001b[?25l\u001b[?25h|\u001b[?25l\u001b[?25h Feature\u001b[?25l\u001b[?25h           \u001b[?25l\u001b[?25h|\u001b[?25l\u001b[?25h Mit\u001b[?25l\u001b[?25hosis\u001b[?25l\u001b[?25h                       \u001b[?25l\u001b[?25h|\u001b[?25l\u001b[?25h Me\u001b[?25l\u001b[?25hiosis\u001b[?25l\u001b[?25h                       \u001b[?25l\u001b[?25h|\u001b[?25l\u001b[?25h\n",
            "\u001b[?25l\u001b[?25h|\u001b[?25l\u001b[?25h----------------\u001b[?25l\u001b[?25h----\u001b[?25l\u001b[?25h|\u001b[?25l\u001b[?25h----------------\u001b[?25l\u001b[?25h---------------\u001b[?25l\u001b[?25h|\u001b[?25l\u001b[?25h----------------\u001b[?25l\u001b[?25h---------------\u001b[?25l\u001b[?25h|\u001b[?25l\u001b[?25h\n",
            "\u001b[?25l\u001b[?25h|\u001b[?25l\u001b[?25h **\u001b[?25l\u001b[?25hPurpose\u001b[?25l\u001b[?25h**\u001b[?25l\u001b[?25h        \u001b[?25l\u001b[?25h|\u001b[?25l\u001b[?25h Growth\u001b[?25l\u001b[?25h,\u001b[?25l\u001b[?25h repair\u001b[?25l\u001b[?25h,\u001b[?25l\u001b[?25h asexual\u001b[?25l\u001b[?25h reproduction\u001b[?25l\u001b[?25h |\u001b[?25l\u001b[?25h Sexual\u001b[?25l\u001b[?25h reproduction\u001b[?25l\u001b[?25h          \u001b[?25l\u001b[?25h|\u001b[?25l\u001b[?25h\n",
            "\u001b[?25l\u001b[?25h|\u001b[?25l\u001b[?25h **\u001b[?25l\u001b[?25hNumber\u001b[?25l\u001b[?25h of\u001b[?25l\u001b[?25h Divisions\u001b[?25l\u001b[?25h**\u001b[?25l\u001b[?25h|\u001b[?25l\u001b[?25h One\u001b[?25l\u001b[?25h                         \u001b[?25l\u001b[?25h|\u001b[?25l\u001b[?25h Two\u001b[?25l\u001b[?25h                          \u001b[?25l\u001b[?25h|\u001b[?25l\u001b[?25h\n",
            "\u001b[?25l\u001b[?25h|\u001b[?25l\u001b[?25h **\u001b[?25l\u001b[?25hChromosome\u001b[?25l\u001b[?25h Number\u001b[?25l\u001b[?25h**\u001b[?25l\u001b[?25h|\u001b[?25l\u001b[?25h Remains\u001b[?25l\u001b[?25h the\u001b[?25l\u001b[?25h same\u001b[?25l\u001b[?25h             \u001b[?25l\u001b[?25h|\u001b[?25l\u001b[?25h Hal\u001b[?25l\u001b[?25hved\u001b[?25l\u001b[?25h                       \u001b[?25l\u001b[?25h|\u001b[?25l\u001b[?25h\n",
            "\u001b[?25l\u001b[?25h|\u001b[?25l\u001b[?25h **\u001b[?25l\u001b[?25hD\u001b[?25l\u001b[?25haughter\u001b[?25l\u001b[?25h Cells\u001b[?25l\u001b[?25h**\u001b[?25l\u001b[?25h  \u001b[?25l\u001b[?25h|\u001b[?25l\u001b[?25h \u001b[?25l\u001b[?25h2\u001b[?25l\u001b[?25h identical\u001b[?25l\u001b[?25h cells\u001b[?25l\u001b[?25h             \u001b[?25l\u001b[?25h|\u001b[?25l\u001b[?25h \u001b[?25l\u001b[?25h4\u001b[?25l\u001b[?25h genetically\u001b[?25l\u001b[?25h different\u001b[?25l\u001b[?25h cells\u001b[?25l\u001b[?25h |\u001b[?25l\u001b[?25h\n",
            "\u001b[?25l\u001b[?25h|\u001b[?25l\u001b[?25h **\u001b[?25l\u001b[?25hGenetic\u001b[?25l\u001b[?25h Variation\u001b[?25l\u001b[?25h**\u001b[?25l\u001b[?25h|\u001b[?25l\u001b[?25h None\u001b[?25l\u001b[?25h                         \u001b[?25l\u001b[?25h|\u001b[?25l\u001b[?25h Yes\u001b[?25l\u001b[?25h (\u001b[?25l\u001b[?25hcrossing\u001b[?25l\u001b[?25h over\u001b[?25l\u001b[?25h &\u001b[?25l\u001b[?25h independent\u001b[?25l\u001b[?25h assortment\u001b[?25l\u001b[?25h)|\u001b[?25l\u001b[?25h\n",
            "\u001b[?25l\u001b[?25h|\u001b[?25l\u001b[?25h **\u001b[?25l\u001b[?25hCell\u001b[?25l\u001b[?25h Type\u001b[?25l\u001b[?25h**\u001b[?25l\u001b[?25h       \u001b[?25l\u001b[?25h|\u001b[?25l\u001b[?25h Som\u001b[?25l\u001b[?25hatic\u001b[?25l\u001b[?25h cells\u001b[?25l\u001b[?25h                \u001b[?25l\u001b[?25h|\u001b[?25l\u001b[?25h Germ\u001b[?25l\u001b[?25hline\u001b[?25l\u001b[?25h cells\u001b[?25l\u001b[?25h (\u001b[?25l\u001b[?25hproducing\u001b[?25l\u001b[?25h gam\u001b[?25l\u001b[?25hetes\u001b[?25l\u001b[?25h)|\u001b[?25l\u001b[?25h\n",
            "\n",
            "\n",
            "\n",
            "\u001b[?25l\u001b[?25h**\u001b[?25l\u001b[?25hResources\u001b[?25l\u001b[?25h for\u001b[?25l\u001b[?25h Further\u001b[?25l\u001b[?25h Learning\u001b[?25l\u001b[?25h:**\u001b[?25l\u001b[?25h\n",
            "\n",
            "\u001b[?25l\u001b[?25h*\u001b[?25l\u001b[?25h **\u001b[?25l\u001b[?25hKhan\u001b[?25l\u001b[?25h Academy\u001b[?25l\u001b[?25h -\u001b[?25l\u001b[?25h Mit\u001b[?25l\u001b[?25hosis\u001b[?25l\u001b[?25h &\u001b[?25l\u001b[?25h Me\u001b[?25l\u001b[?25hiosis\u001b[?25l\u001b[?25h:**\u001b[?25l\u001b[?25h [\u001b[?25l\u001b[?25hhttps\u001b[?25l\u001b[?25h://\u001b[?25l\u001b[?25hwww\u001b[?25l\u001b[?25h.\u001b[?25l\u001b[?25hkhan\u001b[?25l\u001b[?25hacademy\u001b[?25l\u001b[?25h.\u001b[?25l\u001b[?25horg\u001b[?25l\u001b[?25h/\u001b[?25l\u001b[?25hscience\u001b[?25l\u001b[?25h/\u001b[?25l\u001b[?25hbiology\u001b[?25l\u001b[?25h/\u001b[?25l\u001b[?25hcell\u001b[?25l\u001b[?25h-\u001b[?25l\u001b[?25hbiology\u001b[?25l\u001b[?25h/\u001b[?25l\u001b[?25hme\u001b[?25l\u001b[?25hiosis\u001b[?25l\u001b[?25h-\u001b[?25l\u001b[?25hand\u001b[?25l\u001b[?25h-\u001b[?25l\u001b[?25hmit\u001b[?25l\u001b[?25hosis\u001b[?25l\u001b[?25h/\u001b[?25l\u001b[?25hv\u001b[?25l\u001b[?25h/\u001b[?25l\u001b[?25hmit\u001b[?25l\u001b[?25hosis\u001b[?25l\u001b[?25h](\u001b[?25l\u001b[?25hhttps\u001b[?25l\u001b[?25h://\u001b[?25l\u001b[?25hwww\u001b[?25l\u001b[?25h.\u001b[?25l\u001b[?25hkhan\u001b[?25l\u001b[?25hacademy\u001b[?25l\u001b[?25h.\u001b[?25l\u001b[?25horg\u001b[?25l\u001b[?25h/\u001b[?25l\u001b[?25hscience\u001b[?25l\u001b[?25h/\u001b[?25l\u001b[?25hbiology\u001b[?25l\u001b[?25h/\u001b[?25l\u001b[?25hcell\u001b[?25l\u001b[?25h-\u001b[?25l\u001b[?25hbiology\u001b[?25l\u001b[?25h/\u001b[?25l\u001b[?25hme\u001b[?25l\u001b[?25hiosis\u001b[?25l\u001b[?25h-\u001b[?25l\u001b[?25hand\u001b[?25l\u001b[?25h-\u001b[?25l\u001b[?25hmit\u001b[?25l\u001b[?25hosis\u001b[?25l\u001b[?25h/\u001b[?25l\u001b[?25hv\u001b[?25l\u001b[?25h/\u001b[?25l\u001b[?25hmit\u001b[?25l\u001b[?25hosis\u001b[?25l\u001b[?25h)\u001b[?25l\u001b[?25h\n",
            "\u001b[?25l\u001b[?25h*\u001b[?25l\u001b[?25h **\u001b[?25l\u001b[?25hBio\u001b[?25l\u001b[?25hNinja\u001b[?25l\u001b[?25h -\u001b[?25l\u001b[?25h Mit\u001b[?25l\u001b[?25hosis\u001b[?25l\u001b[?25h &\u001b[?25l\u001b[?25h Me\u001b[?25l\u001b[?25hiosis\u001b[?25l\u001b[?25h:**\u001b[?25l\u001b[?25h [\u001b[?25l\u001b[?25hhttps\u001b[?25l\u001b[?25h://\u001b[?25l\u001b[?25hbio\u001b[?25l\u001b[?25h.\u001b[?25l\u001b[?25hnic\u001b[?25l\u001b[?25her\u001b[?25l\u001b[?25hprojects\u001b[?25l\u001b[?25h.\u001b[?25l\u001b[?25hcom\u001b[?25l\u001b[?25h/\u001b[?25l\u001b[?25hmit\u001b[?25l\u001b[?25hosis\u001b[?25l\u001b[?25h-\u001b[?25l\u001b[?25hand\u001b[?25l\u001b[?25h-\u001b[?25l\u001b[?25hme\u001b[?25l\u001b[?25hiosis\u001b[?25l\u001b[?25h/\u001b[?25l\u001b[?25h](\u001b[?25l\u001b[?25hhttps\u001b[?25l\u001b[?25h://\u001b[?25l\u001b[?25hwww\u001b[?25l\u001b[?25h.\u001b[?25l\u001b[?25hbio\u001b[?25l\u001b[?25h.\u001b[?25l\u001b[?25hnic\u001b[?25l\u001b[?25her\u001b[?25l\u001b[?25hprojects\u001b[?25l\u001b[?25h.\u001b[?25l\u001b[?25hcom\u001b[?25l\u001b[?25h/\u001b[?25l\u001b[?25hmit\u001b[?25l\u001b[?25hosis\u001b[?25l\u001b[?25h-\u001b[?25l\u001b[?25hand\u001b[?25l\u001b[?25h-\u001b[?25l\u001b[?25hme\u001b[?25l\u001b[?25hiosis\u001b[?25l\u001b[?25h/)\u001b[?25l\u001b[?25h\n",
            "\n",
            "\n",
            "\u001b[?25l\u001b[?25hDo\u001b[?25l\u001b[?25h you\u001b[?25l\u001b[?25h want\u001b[?25l\u001b[?25h me\u001b[?25l\u001b[?25h to\u001b[?25l\u001b[?25h delve\u001b[?25l\u001b[?25h deeper\u001b[?25l\u001b[?25h into\u001b[?25l\u001b[?25h a\u001b[?25l\u001b[?25h specific\u001b[?25l\u001b[?25h aspect\u001b[?25l\u001b[?25h of\u001b[?25l\u001b[?25h mitosis\u001b[?25l\u001b[?25h or\u001b[?25l\u001b[?25h meiosis\u001b[?25l\u001b[?25h,\u001b[?25l\u001b[?25h such\u001b[?25l\u001b[?25h as\u001b[?25l\u001b[?25h:\u001b[?25l\u001b[?25h\n",
            "\n",
            "\u001b[?25l\u001b[?25h*\u001b[?25l\u001b[?25h   \u001b[?25l\u001b[?25hThe\u001b[?25l\u001b[?25h stages\u001b[?25l\u001b[?25h of\u001b[?25l\u001b[?25h each\u001b[?25l\u001b[?25h process\u001b[?25l\u001b[?25h in\u001b[?25l\u001b[?25h more\u001b[?25l\u001b[?25h detail\u001b[?25l\u001b[?25h?\u001b[?25l\u001b[?25h\n",
            "\u001b[?25l\u001b[?25h*\u001b[?25l\u001b[?25h   \u001b[?25l\u001b[?25hCrossing\u001b[?25l\u001b[?25h over\u001b[?25l\u001b[?25h and\u001b[?25l\u001b[?25h independent\u001b[?25l\u001b[?25h assortment\u001b[?25l\u001b[?25h?\u001b[?25l\u001b[?25h\n",
            "\u001b[?25l\u001b[?25h*\u001b[?25l\u001b[?25h   \u001b[?25l\u001b[?25hThe\u001b[?25l\u001b[?25h role\u001b[?25l\u001b[?25h of\u001b[?25l\u001b[?25h meiosis\u001b[?25l\u001b[?25h in\u001b[?25l\u001b[?25h genetic\u001b[?25l\u001b[?25h diversity\u001b[?25l\u001b[?25h?\u001b[?25l\u001b[?25h\n",
            "\n",
            "\u001b[?25l\u001b[?25h"
          ]
        }
      ],
      "source": [
        "# @title Run a query against the LLM\n",
        "# @markdown Select the model and enter the prompt\n",
        "\n",
        "# @markdown ---\n",
        "# @markdown ### Select a model:\n",
        "LLM_model = \"gemma3:4b\" # @param [\"phi4\", \"gemma3:4b\", \"gemma3:12b\", \"llama4\", \"llama3.3:70b\", \"llama3.2:3b\", \"llama3.1:8b\"]\n",
        "# @markdown ### Enter a prompt:\n",
        "query = \"What is the difference between mitosis and meiosis in cell biology?\" # @param {type:\"string\"}\n",
        "escaped_input = query.replace(\"'\", \"\\\\'\")\n",
        "# @markdown ---\n",
        "\n",
        "!ollama run {LLM_model} {escaped_input}\n"
      ]
    },
    {
      "cell_type": "markdown",
      "metadata": {
        "id": "ke0eC4FJb-x0"
      },
      "source": [
        "# Advanced options"
      ]
    },
    {
      "cell_type": "code",
      "execution_count": null,
      "metadata": {
        "cellView": "form",
        "id": "qKuESu-2cOcT"
      },
      "outputs": [],
      "source": [
        "import tempfile\n",
        "\n",
        "\n",
        "# @title Adjust model parameters\n",
        "# @markdown To adjust model parameter in Ollama, you need to create a derived model. This cell will generate a derived model.\n",
        "\n",
        "# @markdown **Warning**: Not all model support all parameter. Using wrong parameters may generate a degraded model.\n",
        "\n",
        "# @markdown ---\n",
        "# @markdown Select a model to change (input model):\n",
        "LLM_model = \"gemma3:4b\" # @param [\"phi4\", \"gemma3:4b\", \"gemma3:12b\", \"llama4\", \"llama3.3:70b\", \"llama3.2:3b\", \"llama3.1:8b\"]\n",
        "# @markdown Enter new model name:\n",
        "new_model = \"genma3T07\" # @param {type:\"string\"}\n",
        "# @markdown Enter new template file name (if blank will use a random name):\n",
        "tpl_fn = \"\" # @param {type:\"string\",\"placeholder\":\"Modelfile\"}\n",
        "\n",
        "if tpl_fn == \"\":\n",
        "    # make a random filename\n",
        "    tpl_fn = tempfile.mktemp(suffix='.txt')\n",
        "\n",
        "# @markdown Temperature:  Increasing the temperature will make the model answer more creatively.\n",
        "temp = 0.7 # @param {\"type\":\"slider\",\"min\":0,\"max\":1,\"step\":0.05}\n",
        "# @markdown num_ctx: Sets the size of the context window used to generate the next token\n",
        "num_ctx = 4018 # @param {\"type\":\"slider\",\"min\":1024,\"max\":18000,\"step\":1}\n",
        "# @markdown seed: Sets the size of the context window used to generate the next token\n",
        "seed = 4482 # @param {\"type\":\"slider\",\"min\":0,\"max\":10000,\"step\":1}\n",
        "# @markdown Maximum number of tokens to predict when generating text. (Default: -1, infinite generation)\n",
        "num_predict = 4790 # @param {\"type\":\"slider\",\"min\":-1,\"max\":10000,\"step\":1}\n",
        "# @markdown Top K: Reduces the probability of generating nonsense. A higher value will give more diverse answers, while a lower value will be more conservative.\n",
        "top_k = 20 # @param {\"type\":\"slider\",\"min\":1,\"max\":100,\"step\":1}\n",
        "# @markdown Top P: Works together with top-k. A higher value will lead to more diverse text, while a lower value will generate more focused and conservative text.\n",
        "top_p = 0.47 # @param {\"type\":\"slider\",\"min\":0,\"max\":1,\"step\":0.01}\n",
        "# @markdown Min P: Alternative to the top_p, and aims to ensure a balance of quality and variety. The parameter p represents the minimum probability for a token to be considered, relative to the probability of the most likely token. For example, with p=0.05 and the most likely token having a probability of 0.9, logits with a value less than 0.045 are filtered out.\n",
        "min_p = 0 # @param {\"type\":\"slider\",\"min\":0,\"max\":1,\"step\":0.01}\n",
        "\n",
        "\n",
        "# @markdown ---\n",
        "\n",
        "# @markdown [More about model parameters](https://github.com/ollama/ollama/blob/main/docs/modelfile.md#valid-parameters-and-values)\n",
        "\n",
        "# @markdown ---\n",
        "model_file = f\"\"\"FROM {LLM_model}\n",
        "PARAMETER temperature {temp}\n",
        "PARAMETER num_ctx {num_ctx}\n",
        "PARAMETER seed {seed}\n",
        "PARAMETER num_predict {num_predict}\n",
        "PARAMETER top_k {top_k}\n",
        "PARAMETER top_p {top_p}\n",
        "PARAMETER min_p {min_p}\n",
        "\"\"\"\n",
        "\n",
        "#mdir = \"/content/miniforge3/envs/ml/lib/python3.10/site-packages/ollama/models/\"\n",
        "\n",
        "with open(f\"{tpl_fn}\", \"w\") as f:\n",
        "    f.write(model_file)\n",
        "\n",
        "\n",
        "!ollama create {new_model} -f {tpl_fn}\n",
        "\n"
      ]
    }
  ],
  "metadata": {
    "accelerator": "GPU",
    "colab": {
      "collapsed_sections": [
        "3_sLrQaKCxX-",
        "cxMPaXdNC_FG"
      ],
      "gpuType": "T4",
      "provenance": []
    },
    "kernelspec": {
      "display_name": "Python 3",
      "name": "python3"
    },
    "language_info": {
      "name": "python"
    }
  },
  "nbformat": 4,
  "nbformat_minor": 0
}
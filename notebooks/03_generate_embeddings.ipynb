{
 "cells": [
  {
   "cell_type": "code",
   "execution_count": 17,
   "metadata": {},
   "outputs": [],
   "source": [
    "import sys\n",
    "sys.path.append(\"/home/tagore/repos/ai/scripts\")\n",
    "import os\n",
    "import time\n",
    "import ollama\n",
    "import chromadb\n",
    "import generate_embeddings as ge\n",
    "os.environ['ALLOW_RESET'] = 'TRUE'"
   ]
  },
  {
   "cell_type": "code",
   "execution_count": 19,
   "metadata": {},
   "outputs": [
    {
     "ename": "ValueError",
     "evalue": "An instance of Chroma already exists for /home/tagore/repos/ai/data/processed/embeddings/chrome_db with different settings",
     "output_type": "error",
     "traceback": [
      "\u001b[0;31m---------------------------------------------------------------------------\u001b[0m",
      "\u001b[0;31mValueError\u001b[0m                                Traceback (most recent call last)",
      "Cell \u001b[0;32mIn[19], line 5\u001b[0m\n\u001b[1;32m      3\u001b[0m collection_name \u001b[38;5;241m=\u001b[39m \u001b[38;5;124m\"\u001b[39m\u001b[38;5;124mblast_db\u001b[39m\u001b[38;5;124m\"\u001b[39m\n\u001b[1;32m      4\u001b[0m database_file \u001b[38;5;241m=\u001b[39m \u001b[38;5;124m'\u001b[39m\u001b[38;5;124m/home/tagore/repos/ai/data/processed/embeddings/chrome_db\u001b[39m\u001b[38;5;124m'\u001b[39m\n\u001b[0;32m----> 5\u001b[0m collection \u001b[38;5;241m=\u001b[39m \u001b[43mge\u001b[49m\u001b[38;5;241;43m.\u001b[39;49m\u001b[43mcreate_embeddings_and_store_in_chroma\u001b[49m\u001b[43m(\u001b[49m\u001b[43mdocuments_directory\u001b[49m\u001b[43m,\u001b[49m\u001b[43m \u001b[49m\u001b[43mcollection_name\u001b[49m\u001b[43m,\u001b[49m\u001b[43m \u001b[49m\u001b[43mdatabase_path\u001b[49m\u001b[38;5;241;43m=\u001b[39;49m\u001b[43mdatabase_file\u001b[49m\u001b[43m)\u001b[49m\n",
      "File \u001b[0;32m~/repos/ai/scripts/generate_embeddings.py:24\u001b[0m, in \u001b[0;36mcreate_embeddings_and_store_in_chroma\u001b[0;34m(documents_dir, collection_name, model, database_path)\u001b[0m\n\u001b[1;32m     10\u001b[0m \u001b[38;5;250m\u001b[39m\u001b[38;5;124;03m\"\"\"\u001b[39;00m\n\u001b[1;32m     11\u001b[0m \u001b[38;5;124;03mEmbeds documents from the specified directory using the Ollama embedding model\u001b[39;00m\n\u001b[1;32m     12\u001b[0m \u001b[38;5;124;03mand stores them in a local Chroma database file.\u001b[39;00m\n\u001b[0;32m   (...)\u001b[0m\n\u001b[1;32m     21\u001b[0m \u001b[38;5;124;03m- chromadb.Collection: Chroma database collection object.\u001b[39;00m\n\u001b[1;32m     22\u001b[0m \u001b[38;5;124;03m\"\"\"\u001b[39;00m\n\u001b[1;32m     23\u001b[0m \u001b[38;5;66;03m# Initialize Chroma database client with local database path\u001b[39;00m\n\u001b[0;32m---> 24\u001b[0m client \u001b[38;5;241m=\u001b[39m \u001b[43mchromadb\u001b[49m\u001b[38;5;241;43m.\u001b[39;49m\u001b[43mPersistentClient\u001b[49m\u001b[43m(\u001b[49m\u001b[43mpath\u001b[49m\u001b[38;5;241;43m=\u001b[39;49m\u001b[43mdatabase_path\u001b[49m\u001b[43m)\u001b[49m\n\u001b[1;32m     25\u001b[0m collection \u001b[38;5;241m=\u001b[39m client\u001b[38;5;241m.\u001b[39mcreate_collection(name\u001b[38;5;241m=\u001b[39mcollection_name)\n\u001b[1;32m     27\u001b[0m \u001b[38;5;66;03m# Get total number of documents\u001b[39;00m\n",
      "File \u001b[0;32m~/miniconda3/envs/ml/lib/python3.10/site-packages/chromadb/__init__.py:153\u001b[0m, in \u001b[0;36mPersistentClient\u001b[0;34m(path, settings, tenant, database)\u001b[0m\n\u001b[1;32m    150\u001b[0m tenant \u001b[38;5;241m=\u001b[39m \u001b[38;5;28mstr\u001b[39m(tenant)\n\u001b[1;32m    151\u001b[0m database \u001b[38;5;241m=\u001b[39m \u001b[38;5;28mstr\u001b[39m(database)\n\u001b[0;32m--> 153\u001b[0m \u001b[38;5;28;01mreturn\u001b[39;00m \u001b[43mClientCreator\u001b[49m\u001b[43m(\u001b[49m\u001b[43mtenant\u001b[49m\u001b[38;5;241;43m=\u001b[39;49m\u001b[43mtenant\u001b[49m\u001b[43m,\u001b[49m\u001b[43m \u001b[49m\u001b[43mdatabase\u001b[49m\u001b[38;5;241;43m=\u001b[39;49m\u001b[43mdatabase\u001b[49m\u001b[43m,\u001b[49m\u001b[43m \u001b[49m\u001b[43msettings\u001b[49m\u001b[38;5;241;43m=\u001b[39;49m\u001b[43msettings\u001b[49m\u001b[43m)\u001b[49m\n",
      "File \u001b[0;32m~/miniconda3/envs/ml/lib/python3.10/site-packages/chromadb/api/client.py:55\u001b[0m, in \u001b[0;36mClient.__init__\u001b[0;34m(self, tenant, database, settings)\u001b[0m\n\u001b[1;32m     49\u001b[0m \u001b[38;5;28;01mdef\u001b[39;00m \u001b[38;5;21m__init__\u001b[39m(\n\u001b[1;32m     50\u001b[0m     \u001b[38;5;28mself\u001b[39m,\n\u001b[1;32m     51\u001b[0m     tenant: \u001b[38;5;28mstr\u001b[39m \u001b[38;5;241m=\u001b[39m DEFAULT_TENANT,\n\u001b[1;32m     52\u001b[0m     database: \u001b[38;5;28mstr\u001b[39m \u001b[38;5;241m=\u001b[39m DEFAULT_DATABASE,\n\u001b[1;32m     53\u001b[0m     settings: Settings \u001b[38;5;241m=\u001b[39m Settings(),\n\u001b[1;32m     54\u001b[0m ) \u001b[38;5;241m-\u001b[39m\u001b[38;5;241m>\u001b[39m \u001b[38;5;28;01mNone\u001b[39;00m:\n\u001b[0;32m---> 55\u001b[0m     \u001b[38;5;28;43msuper\u001b[39;49m\u001b[43m(\u001b[49m\u001b[43m)\u001b[49m\u001b[38;5;241;43m.\u001b[39;49m\u001b[38;5;21;43m__init__\u001b[39;49m\u001b[43m(\u001b[49m\u001b[43msettings\u001b[49m\u001b[38;5;241;43m=\u001b[39;49m\u001b[43msettings\u001b[49m\u001b[43m)\u001b[49m\n\u001b[1;32m     56\u001b[0m     \u001b[38;5;28mself\u001b[39m\u001b[38;5;241m.\u001b[39mtenant \u001b[38;5;241m=\u001b[39m tenant\n\u001b[1;32m     57\u001b[0m     \u001b[38;5;28mself\u001b[39m\u001b[38;5;241m.\u001b[39mdatabase \u001b[38;5;241m=\u001b[39m database\n",
      "File \u001b[0;32m~/miniconda3/envs/ml/lib/python3.10/site-packages/chromadb/api/shared_system_client.py:19\u001b[0m, in \u001b[0;36mSharedSystemClient.__init__\u001b[0;34m(self, settings)\u001b[0m\n\u001b[1;32m     14\u001b[0m \u001b[38;5;28;01mdef\u001b[39;00m \u001b[38;5;21m__init__\u001b[39m(\n\u001b[1;32m     15\u001b[0m     \u001b[38;5;28mself\u001b[39m,\n\u001b[1;32m     16\u001b[0m     settings: Settings \u001b[38;5;241m=\u001b[39m Settings(),\n\u001b[1;32m     17\u001b[0m ) \u001b[38;5;241m-\u001b[39m\u001b[38;5;241m>\u001b[39m \u001b[38;5;28;01mNone\u001b[39;00m:\n\u001b[1;32m     18\u001b[0m     \u001b[38;5;28mself\u001b[39m\u001b[38;5;241m.\u001b[39m_identifier \u001b[38;5;241m=\u001b[39m SharedSystemClient\u001b[38;5;241m.\u001b[39m_get_identifier_from_settings(settings)\n\u001b[0;32m---> 19\u001b[0m     \u001b[43mSharedSystemClient\u001b[49m\u001b[38;5;241;43m.\u001b[39;49m\u001b[43m_create_system_if_not_exists\u001b[49m\u001b[43m(\u001b[49m\u001b[38;5;28;43mself\u001b[39;49m\u001b[38;5;241;43m.\u001b[39;49m\u001b[43m_identifier\u001b[49m\u001b[43m,\u001b[49m\u001b[43m \u001b[49m\u001b[43msettings\u001b[49m\u001b[43m)\u001b[49m\n",
      "File \u001b[0;32m~/miniconda3/envs/ml/lib/python3.10/site-packages/chromadb/api/shared_system_client.py:38\u001b[0m, in \u001b[0;36mSharedSystemClient._create_system_if_not_exists\u001b[0;34m(cls, identifier, settings)\u001b[0m\n\u001b[1;32m     36\u001b[0m     \u001b[38;5;66;03m# For now, the settings must match\u001b[39;00m\n\u001b[1;32m     37\u001b[0m     \u001b[38;5;28;01mif\u001b[39;00m previous_system\u001b[38;5;241m.\u001b[39msettings \u001b[38;5;241m!=\u001b[39m settings:\n\u001b[0;32m---> 38\u001b[0m         \u001b[38;5;28;01mraise\u001b[39;00m \u001b[38;5;167;01mValueError\u001b[39;00m(\n\u001b[1;32m     39\u001b[0m             \u001b[38;5;124mf\u001b[39m\u001b[38;5;124m\"\u001b[39m\u001b[38;5;124mAn instance of Chroma already exists for \u001b[39m\u001b[38;5;132;01m{\u001b[39;00midentifier\u001b[38;5;132;01m}\u001b[39;00m\u001b[38;5;124m with different settings\u001b[39m\u001b[38;5;124m\"\u001b[39m\n\u001b[1;32m     40\u001b[0m         )\n\u001b[1;32m     42\u001b[0m \u001b[38;5;28;01mreturn\u001b[39;00m \u001b[38;5;28mcls\u001b[39m\u001b[38;5;241m.\u001b[39m_identifier_to_system[identifier]\n",
      "\u001b[0;31mValueError\u001b[0m: An instance of Chroma already exists for /home/tagore/repos/ai/data/processed/embeddings/chrome_db with different settings"
     ]
    }
   ],
   "source": [
    "# Example usage\n",
    "documents_directory = '/home/tagore/repos/ai/data/processed/processed_texts/Bookshelf_NBK279690.txt'\n",
    "collection_name = \"blast_db\"\n",
    "database_file = '/home/tagore/repos/ai/data/processed/embeddings/chrome_db'\n",
    "collection = ge.create_embeddings_and_store_in_chroma(documents_directory, collection_name, database_path=database_file)"
   ]
  },
  {
   "cell_type": "code",
   "execution_count": 20,
   "metadata": {},
   "outputs": [
    {
     "ename": "ValueError",
     "evalue": "An instance of Chroma already exists for /home/tagore/repos/ai/data/processed/embeddings/chrome_db_unprocessed with different settings",
     "output_type": "error",
     "traceback": [
      "\u001b[0;31m---------------------------------------------------------------------------\u001b[0m",
      "\u001b[0;31mValueError\u001b[0m                                Traceback (most recent call last)",
      "Cell \u001b[0;32mIn[20], line 4\u001b[0m\n\u001b[1;32m      2\u001b[0m collection_name2 \u001b[38;5;241m=\u001b[39m \u001b[38;5;124m\"\u001b[39m\u001b[38;5;124mblast_db_unprocessed\u001b[39m\u001b[38;5;124m\"\u001b[39m\n\u001b[1;32m      3\u001b[0m database_file2 \u001b[38;5;241m=\u001b[39m \u001b[38;5;124m'\u001b[39m\u001b[38;5;124m/home/tagore/repos/ai/data/processed/embeddings/chrome_db_unprocessed\u001b[39m\u001b[38;5;124m'\u001b[39m\n\u001b[0;32m----> 4\u001b[0m collection \u001b[38;5;241m=\u001b[39m \u001b[43mge\u001b[49m\u001b[38;5;241;43m.\u001b[39;49m\u001b[43mcreate_embeddings_and_store_in_chroma\u001b[49m\u001b[43m(\u001b[49m\u001b[43mdocuments_directory2\u001b[49m\u001b[43m,\u001b[49m\u001b[43m \u001b[49m\u001b[43mcollection_name2\u001b[49m\u001b[43m,\u001b[49m\u001b[43m \u001b[49m\u001b[43mdatabase_path\u001b[49m\u001b[38;5;241;43m=\u001b[39;49m\u001b[43mdatabase_file2\u001b[49m\u001b[43m)\u001b[49m\n",
      "File \u001b[0;32m~/repos/ai/scripts/generate_embeddings.py:24\u001b[0m, in \u001b[0;36mcreate_embeddings_and_store_in_chroma\u001b[0;34m(documents_dir, collection_name, model, database_path)\u001b[0m\n\u001b[1;32m     10\u001b[0m \u001b[38;5;250m\u001b[39m\u001b[38;5;124;03m\"\"\"\u001b[39;00m\n\u001b[1;32m     11\u001b[0m \u001b[38;5;124;03mEmbeds documents from the specified directory using the Ollama embedding model\u001b[39;00m\n\u001b[1;32m     12\u001b[0m \u001b[38;5;124;03mand stores them in a local Chroma database file.\u001b[39;00m\n\u001b[0;32m   (...)\u001b[0m\n\u001b[1;32m     21\u001b[0m \u001b[38;5;124;03m- chromadb.Collection: Chroma database collection object.\u001b[39;00m\n\u001b[1;32m     22\u001b[0m \u001b[38;5;124;03m\"\"\"\u001b[39;00m\n\u001b[1;32m     23\u001b[0m \u001b[38;5;66;03m# Initialize Chroma database client with local database path\u001b[39;00m\n\u001b[0;32m---> 24\u001b[0m client \u001b[38;5;241m=\u001b[39m \u001b[43mchromadb\u001b[49m\u001b[38;5;241;43m.\u001b[39;49m\u001b[43mPersistentClient\u001b[49m\u001b[43m(\u001b[49m\u001b[43mpath\u001b[49m\u001b[38;5;241;43m=\u001b[39;49m\u001b[43mdatabase_path\u001b[49m\u001b[43m)\u001b[49m\n\u001b[1;32m     25\u001b[0m collection \u001b[38;5;241m=\u001b[39m client\u001b[38;5;241m.\u001b[39mcreate_collection(name\u001b[38;5;241m=\u001b[39mcollection_name)\n\u001b[1;32m     27\u001b[0m \u001b[38;5;66;03m# Get total number of documents\u001b[39;00m\n",
      "File \u001b[0;32m~/miniconda3/envs/ml/lib/python3.10/site-packages/chromadb/__init__.py:153\u001b[0m, in \u001b[0;36mPersistentClient\u001b[0;34m(path, settings, tenant, database)\u001b[0m\n\u001b[1;32m    150\u001b[0m tenant \u001b[38;5;241m=\u001b[39m \u001b[38;5;28mstr\u001b[39m(tenant)\n\u001b[1;32m    151\u001b[0m database \u001b[38;5;241m=\u001b[39m \u001b[38;5;28mstr\u001b[39m(database)\n\u001b[0;32m--> 153\u001b[0m \u001b[38;5;28;01mreturn\u001b[39;00m \u001b[43mClientCreator\u001b[49m\u001b[43m(\u001b[49m\u001b[43mtenant\u001b[49m\u001b[38;5;241;43m=\u001b[39;49m\u001b[43mtenant\u001b[49m\u001b[43m,\u001b[49m\u001b[43m \u001b[49m\u001b[43mdatabase\u001b[49m\u001b[38;5;241;43m=\u001b[39;49m\u001b[43mdatabase\u001b[49m\u001b[43m,\u001b[49m\u001b[43m \u001b[49m\u001b[43msettings\u001b[49m\u001b[38;5;241;43m=\u001b[39;49m\u001b[43msettings\u001b[49m\u001b[43m)\u001b[49m\n",
      "File \u001b[0;32m~/miniconda3/envs/ml/lib/python3.10/site-packages/chromadb/api/client.py:55\u001b[0m, in \u001b[0;36mClient.__init__\u001b[0;34m(self, tenant, database, settings)\u001b[0m\n\u001b[1;32m     49\u001b[0m \u001b[38;5;28;01mdef\u001b[39;00m \u001b[38;5;21m__init__\u001b[39m(\n\u001b[1;32m     50\u001b[0m     \u001b[38;5;28mself\u001b[39m,\n\u001b[1;32m     51\u001b[0m     tenant: \u001b[38;5;28mstr\u001b[39m \u001b[38;5;241m=\u001b[39m DEFAULT_TENANT,\n\u001b[1;32m     52\u001b[0m     database: \u001b[38;5;28mstr\u001b[39m \u001b[38;5;241m=\u001b[39m DEFAULT_DATABASE,\n\u001b[1;32m     53\u001b[0m     settings: Settings \u001b[38;5;241m=\u001b[39m Settings(),\n\u001b[1;32m     54\u001b[0m ) \u001b[38;5;241m-\u001b[39m\u001b[38;5;241m>\u001b[39m \u001b[38;5;28;01mNone\u001b[39;00m:\n\u001b[0;32m---> 55\u001b[0m     \u001b[38;5;28;43msuper\u001b[39;49m\u001b[43m(\u001b[49m\u001b[43m)\u001b[49m\u001b[38;5;241;43m.\u001b[39;49m\u001b[38;5;21;43m__init__\u001b[39;49m\u001b[43m(\u001b[49m\u001b[43msettings\u001b[49m\u001b[38;5;241;43m=\u001b[39;49m\u001b[43msettings\u001b[49m\u001b[43m)\u001b[49m\n\u001b[1;32m     56\u001b[0m     \u001b[38;5;28mself\u001b[39m\u001b[38;5;241m.\u001b[39mtenant \u001b[38;5;241m=\u001b[39m tenant\n\u001b[1;32m     57\u001b[0m     \u001b[38;5;28mself\u001b[39m\u001b[38;5;241m.\u001b[39mdatabase \u001b[38;5;241m=\u001b[39m database\n",
      "File \u001b[0;32m~/miniconda3/envs/ml/lib/python3.10/site-packages/chromadb/api/shared_system_client.py:19\u001b[0m, in \u001b[0;36mSharedSystemClient.__init__\u001b[0;34m(self, settings)\u001b[0m\n\u001b[1;32m     14\u001b[0m \u001b[38;5;28;01mdef\u001b[39;00m \u001b[38;5;21m__init__\u001b[39m(\n\u001b[1;32m     15\u001b[0m     \u001b[38;5;28mself\u001b[39m,\n\u001b[1;32m     16\u001b[0m     settings: Settings \u001b[38;5;241m=\u001b[39m Settings(),\n\u001b[1;32m     17\u001b[0m ) \u001b[38;5;241m-\u001b[39m\u001b[38;5;241m>\u001b[39m \u001b[38;5;28;01mNone\u001b[39;00m:\n\u001b[1;32m     18\u001b[0m     \u001b[38;5;28mself\u001b[39m\u001b[38;5;241m.\u001b[39m_identifier \u001b[38;5;241m=\u001b[39m SharedSystemClient\u001b[38;5;241m.\u001b[39m_get_identifier_from_settings(settings)\n\u001b[0;32m---> 19\u001b[0m     \u001b[43mSharedSystemClient\u001b[49m\u001b[38;5;241;43m.\u001b[39;49m\u001b[43m_create_system_if_not_exists\u001b[49m\u001b[43m(\u001b[49m\u001b[38;5;28;43mself\u001b[39;49m\u001b[38;5;241;43m.\u001b[39;49m\u001b[43m_identifier\u001b[49m\u001b[43m,\u001b[49m\u001b[43m \u001b[49m\u001b[43msettings\u001b[49m\u001b[43m)\u001b[49m\n",
      "File \u001b[0;32m~/miniconda3/envs/ml/lib/python3.10/site-packages/chromadb/api/shared_system_client.py:38\u001b[0m, in \u001b[0;36mSharedSystemClient._create_system_if_not_exists\u001b[0;34m(cls, identifier, settings)\u001b[0m\n\u001b[1;32m     36\u001b[0m     \u001b[38;5;66;03m# For now, the settings must match\u001b[39;00m\n\u001b[1;32m     37\u001b[0m     \u001b[38;5;28;01mif\u001b[39;00m previous_system\u001b[38;5;241m.\u001b[39msettings \u001b[38;5;241m!=\u001b[39m settings:\n\u001b[0;32m---> 38\u001b[0m         \u001b[38;5;28;01mraise\u001b[39;00m \u001b[38;5;167;01mValueError\u001b[39;00m(\n\u001b[1;32m     39\u001b[0m             \u001b[38;5;124mf\u001b[39m\u001b[38;5;124m\"\u001b[39m\u001b[38;5;124mAn instance of Chroma already exists for \u001b[39m\u001b[38;5;132;01m{\u001b[39;00midentifier\u001b[38;5;132;01m}\u001b[39;00m\u001b[38;5;124m with different settings\u001b[39m\u001b[38;5;124m\"\u001b[39m\n\u001b[1;32m     40\u001b[0m         )\n\u001b[1;32m     42\u001b[0m \u001b[38;5;28;01mreturn\u001b[39;00m \u001b[38;5;28mcls\u001b[39m\u001b[38;5;241m.\u001b[39m_identifier_to_system[identifier]\n",
      "\u001b[0;31mValueError\u001b[0m: An instance of Chroma already exists for /home/tagore/repos/ai/data/processed/embeddings/chrome_db_unprocessed with different settings"
     ]
    }
   ],
   "source": [
    "documents_directory2 = '/home/tagore/repos/ai/data/processed/texts/Bookshelf_NBK279690.pdf'\n",
    "collection_name2 = \"blast_db_unprocessed\"\n",
    "database_file2 = '/home/tagore/repos/ai/data/processed/embeddings/chrome_db_unprocessed'\n",
    "collection = ge.create_embeddings_and_store_in_chroma(documents_directory2, collection_name2, database_path=database_file2)"
   ]
  },
  {
   "cell_type": "code",
   "execution_count": 21,
   "metadata": {},
   "outputs": [],
   "source": [
    "documents_directory = '/home/tagore/repos/ai/data/processed/processed_texts/Bookshelf_NBK279690.txt'\n",
    "collection_name = \"blast_db\"\n",
    "database_file = '/home/tagore/repos/ai/data/processed/embeddings/chrome_db'\n",
    "documents_directory2 = '/home/tagore/repos/ai/data/processed/texts/Bookshelf_NBK279690.pdf'\n",
    "collection_name2 = \"blast_db_unprocessed\"\n",
    "database_file2 = '/home/tagore/repos/ai/data/processed/embeddings/chrome_db_unprocessed'\n",
    "collection_name3 = \"BioBERT\"\n",
    "database_path3 = '/home/tagore/repos/ai/data/processed/embeddings/chroma_db_withBioBERT'"
   ]
  },
  {
   "cell_type": "code",
   "execution_count": 23,
   "metadata": {},
   "outputs": [
    {
     "ename": "ValueError",
     "evalue": "An instance of Chroma already exists for /home/tagore/repos/ai/data/processed/embeddings/chrome_db with different settings",
     "output_type": "error",
     "traceback": [
      "\u001b[0;31m---------------------------------------------------------------------------\u001b[0m",
      "\u001b[0;31mValueError\u001b[0m                                Traceback (most recent call last)",
      "Cell \u001b[0;32mIn[23], line 1\u001b[0m\n\u001b[0;32m----> 1\u001b[0m client \u001b[38;5;241m=\u001b[39m \u001b[43mchromadb\u001b[49m\u001b[38;5;241;43m.\u001b[39;49m\u001b[43mPersistentClient\u001b[49m\u001b[43m(\u001b[49m\u001b[43mpath\u001b[49m\u001b[38;5;241;43m=\u001b[39;49m\u001b[43mdatabase_file\u001b[49m\u001b[43m)\u001b[49m\n\u001b[1;32m      2\u001b[0m collection \u001b[38;5;241m=\u001b[39m client\u001b[38;5;241m.\u001b[39mget_collection(name\u001b[38;5;241m=\u001b[39mcollection_name)\n\u001b[1;32m      3\u001b[0m client2 \u001b[38;5;241m=\u001b[39m chromadb\u001b[38;5;241m.\u001b[39mPersistentClient(path\u001b[38;5;241m=\u001b[39mdatabase_file2)\n",
      "File \u001b[0;32m~/miniconda3/envs/ml/lib/python3.10/site-packages/chromadb/__init__.py:153\u001b[0m, in \u001b[0;36mPersistentClient\u001b[0;34m(path, settings, tenant, database)\u001b[0m\n\u001b[1;32m    150\u001b[0m tenant \u001b[38;5;241m=\u001b[39m \u001b[38;5;28mstr\u001b[39m(tenant)\n\u001b[1;32m    151\u001b[0m database \u001b[38;5;241m=\u001b[39m \u001b[38;5;28mstr\u001b[39m(database)\n\u001b[0;32m--> 153\u001b[0m \u001b[38;5;28;01mreturn\u001b[39;00m \u001b[43mClientCreator\u001b[49m\u001b[43m(\u001b[49m\u001b[43mtenant\u001b[49m\u001b[38;5;241;43m=\u001b[39;49m\u001b[43mtenant\u001b[49m\u001b[43m,\u001b[49m\u001b[43m \u001b[49m\u001b[43mdatabase\u001b[49m\u001b[38;5;241;43m=\u001b[39;49m\u001b[43mdatabase\u001b[49m\u001b[43m,\u001b[49m\u001b[43m \u001b[49m\u001b[43msettings\u001b[49m\u001b[38;5;241;43m=\u001b[39;49m\u001b[43msettings\u001b[49m\u001b[43m)\u001b[49m\n",
      "File \u001b[0;32m~/miniconda3/envs/ml/lib/python3.10/site-packages/chromadb/api/client.py:55\u001b[0m, in \u001b[0;36mClient.__init__\u001b[0;34m(self, tenant, database, settings)\u001b[0m\n\u001b[1;32m     49\u001b[0m \u001b[38;5;28;01mdef\u001b[39;00m \u001b[38;5;21m__init__\u001b[39m(\n\u001b[1;32m     50\u001b[0m     \u001b[38;5;28mself\u001b[39m,\n\u001b[1;32m     51\u001b[0m     tenant: \u001b[38;5;28mstr\u001b[39m \u001b[38;5;241m=\u001b[39m DEFAULT_TENANT,\n\u001b[1;32m     52\u001b[0m     database: \u001b[38;5;28mstr\u001b[39m \u001b[38;5;241m=\u001b[39m DEFAULT_DATABASE,\n\u001b[1;32m     53\u001b[0m     settings: Settings \u001b[38;5;241m=\u001b[39m Settings(),\n\u001b[1;32m     54\u001b[0m ) \u001b[38;5;241m-\u001b[39m\u001b[38;5;241m>\u001b[39m \u001b[38;5;28;01mNone\u001b[39;00m:\n\u001b[0;32m---> 55\u001b[0m     \u001b[38;5;28;43msuper\u001b[39;49m\u001b[43m(\u001b[49m\u001b[43m)\u001b[49m\u001b[38;5;241;43m.\u001b[39;49m\u001b[38;5;21;43m__init__\u001b[39;49m\u001b[43m(\u001b[49m\u001b[43msettings\u001b[49m\u001b[38;5;241;43m=\u001b[39;49m\u001b[43msettings\u001b[49m\u001b[43m)\u001b[49m\n\u001b[1;32m     56\u001b[0m     \u001b[38;5;28mself\u001b[39m\u001b[38;5;241m.\u001b[39mtenant \u001b[38;5;241m=\u001b[39m tenant\n\u001b[1;32m     57\u001b[0m     \u001b[38;5;28mself\u001b[39m\u001b[38;5;241m.\u001b[39mdatabase \u001b[38;5;241m=\u001b[39m database\n",
      "File \u001b[0;32m~/miniconda3/envs/ml/lib/python3.10/site-packages/chromadb/api/shared_system_client.py:19\u001b[0m, in \u001b[0;36mSharedSystemClient.__init__\u001b[0;34m(self, settings)\u001b[0m\n\u001b[1;32m     14\u001b[0m \u001b[38;5;28;01mdef\u001b[39;00m \u001b[38;5;21m__init__\u001b[39m(\n\u001b[1;32m     15\u001b[0m     \u001b[38;5;28mself\u001b[39m,\n\u001b[1;32m     16\u001b[0m     settings: Settings \u001b[38;5;241m=\u001b[39m Settings(),\n\u001b[1;32m     17\u001b[0m ) \u001b[38;5;241m-\u001b[39m\u001b[38;5;241m>\u001b[39m \u001b[38;5;28;01mNone\u001b[39;00m:\n\u001b[1;32m     18\u001b[0m     \u001b[38;5;28mself\u001b[39m\u001b[38;5;241m.\u001b[39m_identifier \u001b[38;5;241m=\u001b[39m SharedSystemClient\u001b[38;5;241m.\u001b[39m_get_identifier_from_settings(settings)\n\u001b[0;32m---> 19\u001b[0m     \u001b[43mSharedSystemClient\u001b[49m\u001b[38;5;241;43m.\u001b[39;49m\u001b[43m_create_system_if_not_exists\u001b[49m\u001b[43m(\u001b[49m\u001b[38;5;28;43mself\u001b[39;49m\u001b[38;5;241;43m.\u001b[39;49m\u001b[43m_identifier\u001b[49m\u001b[43m,\u001b[49m\u001b[43m \u001b[49m\u001b[43msettings\u001b[49m\u001b[43m)\u001b[49m\n",
      "File \u001b[0;32m~/miniconda3/envs/ml/lib/python3.10/site-packages/chromadb/api/shared_system_client.py:38\u001b[0m, in \u001b[0;36mSharedSystemClient._create_system_if_not_exists\u001b[0;34m(cls, identifier, settings)\u001b[0m\n\u001b[1;32m     36\u001b[0m     \u001b[38;5;66;03m# For now, the settings must match\u001b[39;00m\n\u001b[1;32m     37\u001b[0m     \u001b[38;5;28;01mif\u001b[39;00m previous_system\u001b[38;5;241m.\u001b[39msettings \u001b[38;5;241m!=\u001b[39m settings:\n\u001b[0;32m---> 38\u001b[0m         \u001b[38;5;28;01mraise\u001b[39;00m \u001b[38;5;167;01mValueError\u001b[39;00m(\n\u001b[1;32m     39\u001b[0m             \u001b[38;5;124mf\u001b[39m\u001b[38;5;124m\"\u001b[39m\u001b[38;5;124mAn instance of Chroma already exists for \u001b[39m\u001b[38;5;132;01m{\u001b[39;00midentifier\u001b[38;5;132;01m}\u001b[39;00m\u001b[38;5;124m with different settings\u001b[39m\u001b[38;5;124m\"\u001b[39m\n\u001b[1;32m     40\u001b[0m         )\n\u001b[1;32m     42\u001b[0m \u001b[38;5;28;01mreturn\u001b[39;00m \u001b[38;5;28mcls\u001b[39m\u001b[38;5;241m.\u001b[39m_identifier_to_system[identifier]\n",
      "\u001b[0;31mValueError\u001b[0m: An instance of Chroma already exists for /home/tagore/repos/ai/data/processed/embeddings/chrome_db with different settings"
     ]
    }
   ],
   "source": [
    "client = chromadb.PersistentClient(path=database_file)\n",
    "collection = client.get_collection(name=collection_name)\n",
    "client2 = chromadb.PersistentClient(path=database_file2)\n",
    "collection2 = client2.get_collection(name=collection_name2)"
   ]
  },
  {
   "cell_type": "code",
   "execution_count": null,
   "metadata": {},
   "outputs": [],
   "source": [
    "blast_dna_questions = [\n",
    "    \"Which BLAST database (e.g., nt, nr, refseq_genomic) is most suitable for my DNA sequence search?\",\n",
    "    \"What is the difference between nucleotide (nt) and protein (nr) databases in BLAST, and when should I use each?\",\n",
    "    \"How often are the BLAST databases updated, and how can I access the latest versions?\",\n",
    "    \"What parameters should I consider when setting up a BLAST search for DNA sequences?\",\n",
    "    \"How do I optimize BLAST parameters (e.g., word size, gap penalties) for DNA sequence searches?\",\n",
    "    \"What are the implications of choosing different BLAST algorithms (e.g., BLASTn, BLASTx) for DNA sequence queries?\",\n",
    "    \"How do I interpret the BLAST results to understand the significance of matches?\",\n",
    "    \"What are E-values, bit scores, and identity percentages in BLAST results, and how do they influence my interpretation?\",\n",
    "    \"How can I filter and prioritize BLAST results to focus on the most relevant matches?\",\n",
    "    \"How can I download specific subsets of BLAST databases for local searches?\",\n",
    "    \"What tools or resources are available for managing and updating local copies of BLAST databases?\",\n",
    "    \"How do I troubleshoot issues related to database compatibility or updates?\",\n",
    "    \"How can I perform batch or high-throughput searches using BLAST databases?\",\n",
    "    \"Are there specialized databases or tools within NCBI for specific types of DNA sequence searches (e.g., metagenomic databases)?\",\n",
    "    \"What are the best practices for integrating BLAST search results into downstream analyses or workflows?\",\n",
    "    \"What developments or updates are planned for NCBI BLAST databases and tools that may impact my research?\",\n",
    "    \"How can I leverage cloud-based or distributed computing resources for large-scale DNA sequence searches using BLAST?\"\n",
    "]"
   ]
  },
  {
   "cell_type": "code",
   "execution_count": null,
   "metadata": {},
   "outputs": [],
   "source": [
    "# an example prompt\n",
    "prompt = blast_dna_questions[0]\n",
    "\n",
    "# generate an embedding for the prompt and retrieve the most relevant doc\n",
    "response = ollama.embeddings(\n",
    "  prompt=prompt,\n",
    "  model=\"mxbai-embed-large\"\n",
    ")\n",
    "results = collection.query(\n",
    "  query_embeddings=[response[\"embedding\"]],\n",
    "  n_results=3\n",
    ")\n",
    "data = results['documents'][0][0]"
   ]
  },
  {
   "cell_type": "code",
   "execution_count": null,
   "metadata": {},
   "outputs": [
    {
     "name": "stdout",
     "output_type": "stream",
     "text": [
      "A great question about filtering and prioritizing BLAST results!\n",
      "\n",
      "When dealing with large numbers of BLAST hits, it's essential to focus on the most relevant matches that are likely to be biologically meaningful. Here are some strategies to help you filter and prioritize your BLAST results:\n",
      "\n",
      "**1. Use E-value threshold**: E-values represent the probability of observing a match by chance. Set a reasonable E-value threshold (e.g., 1e-5 or lower) to filter out low-scoring matches that are unlikely to be significant.\n",
      "\n",
      "**2. Adjust the Expectation value (E) and Maximum Number of Targets to Report (Max Target)**: In the BLAST parameters, you can set the maximum number of targets to report (`Max Target`) and the expectation value (`E`). For example, set `E` to 1e-5 and `Max Target` to 10 or 20. This will give you a more manageable list of hits.\n",
      "\n",
      "**3. Filter by Sequence Identity**: Use the `seqid` filter (available in some BLAST tools) to retain only matches with a certain percentage sequence identity (e.g., ≥30% or ≥50%). This can help eliminate low-scoring, distantly related hits.\n",
      "\n",
      "**4. Prioritize hits based on Bit Score**: Sort your results by bit score (descending order). Hits with higher bit scores are more likely to be biologically meaningful and should be prioritized.\n",
      "\n",
      "**5. Use Domain-Specific Tools or Filters**: If you have specific domains or functional regions of interest, use domain-specific tools like Pfam, SMART, or InterProScan to filter out hits that don't contain those domains.\n",
      "\n",
      "**6. Visualize your results**: Use tools like Circos, Genomica, or BLAST visualization software (like Blast Explorer) to visualize your results and identify patterns, trends, or clusters of hits that may indicate functional relationships.\n",
      "\n",
      "**7. Manually curate your list**: Review each hit carefully and remove any matches that don't meet your criteria for biological relevance or interest.\n",
      "\n",
      "To implement these strategies, you can use various tools and interfaces, such as:\n",
      "\n",
      "1. The NCBI BLAST+ command-line tool\n",
      "2. Web-based BLAST interfaces like NCBI's BLAST (blast.ncbi.nlm.nih.gov)\n",
      "3. Third-party BLAST software like Blast Explorer (www.blastexplorer.org) or Genomica (www.genomica.com)\n",
      "\n",
      "Remember to carefully evaluate your results and prioritize matches based on their biological relevance, functional significance, and other criteria that align with your research goals.\n",
      "\n",
      "I hope this helps you focus on the most relevant BLAST matches!\n"
     ]
    }
   ],
   "source": [
    "# generate a response combining the prompt and data we retrieved in step 2\n",
    "output = ollama.generate(\n",
    "  model=\"llama3\",\n",
    "  prompt=f\"Using this data: {data}. Respond to this prompt: {prompt}\"\n",
    ")\n",
    "\n",
    "print(output['response'])"
   ]
  },
  {
   "cell_type": "code",
   "execution_count": 18,
   "metadata": {},
   "outputs": [],
   "source": [
    "documents_dir = '/home/tagore/repos/ai/data/processed/processed_texts/Bookshelf_NBK279690.txt'\n",
    "collection_name = \"BioBERT\"\n",
    "database_path = '/home/tagore/repos/ai/data/processed/embeddings/BioBERT'"
   ]
  },
  {
   "cell_type": "code",
   "execution_count": 19,
   "metadata": {},
   "outputs": [
    {
     "name": "stdout",
     "output_type": "stream",
     "text": [
      "Processed document 1/105. Elapsed Time: 0.97 seconds. Estimated Time Left: 100.57 seconds.\n",
      "Processed document 2/105. Elapsed Time: 0.31 seconds. Estimated Time Left: 31.46 seconds.\n",
      "Processed document 3/105. Elapsed Time: 0.06 seconds. Estimated Time Left: 5.76 seconds.\n",
      "Processed document 4/105. Elapsed Time: 0.04 seconds. Estimated Time Left: 4.10 seconds.\n",
      "Processed document 5/105. Elapsed Time: 0.05 seconds. Estimated Time Left: 4.81 seconds.\n",
      "Processed document 6/105. Elapsed Time: 0.27 seconds. Estimated Time Left: 26.34 seconds.\n",
      "Processed document 7/105. Elapsed Time: 0.38 seconds. Estimated Time Left: 36.75 seconds.\n",
      "Processed document 8/105. Elapsed Time: 0.13 seconds. Estimated Time Left: 12.48 seconds.\n",
      "Processed document 9/105. Elapsed Time: 0.16 seconds. Estimated Time Left: 15.35 seconds.\n",
      "Processed document 10/105. Elapsed Time: 0.05 seconds. Estimated Time Left: 4.37 seconds.\n",
      "Processed document 11/105. Elapsed Time: 0.28 seconds. Estimated Time Left: 25.96 seconds.\n",
      "Processed document 12/105. Elapsed Time: 0.23 seconds. Estimated Time Left: 21.49 seconds.\n",
      "Processed document 13/105. Elapsed Time: 0.13 seconds. Estimated Time Left: 12.21 seconds.\n",
      "Processed document 14/105. Elapsed Time: 0.24 seconds. Estimated Time Left: 21.54 seconds.\n",
      "Processed document 15/105. Elapsed Time: 0.31 seconds. Estimated Time Left: 28.09 seconds.\n",
      "Processed document 16/105. Elapsed Time: 0.21 seconds. Estimated Time Left: 18.81 seconds.\n",
      "Processed document 17/105. Elapsed Time: 0.20 seconds. Estimated Time Left: 18.03 seconds.\n",
      "Processed document 18/105. Elapsed Time: 0.04 seconds. Estimated Time Left: 3.67 seconds.\n",
      "Processed document 19/105. Elapsed Time: 0.25 seconds. Estimated Time Left: 21.86 seconds.\n",
      "Processed document 20/105. Elapsed Time: 0.19 seconds. Estimated Time Left: 16.41 seconds.\n",
      "Processed document 21/105. Elapsed Time: 0.21 seconds. Estimated Time Left: 17.25 seconds.\n",
      "Processed document 22/105. Elapsed Time: 0.22 seconds. Estimated Time Left: 18.07 seconds.\n",
      "Processed document 23/105. Elapsed Time: 0.14 seconds. Estimated Time Left: 11.38 seconds.\n",
      "Processed document 24/105. Elapsed Time: 0.21 seconds. Estimated Time Left: 16.63 seconds.\n",
      "Processed document 25/105. Elapsed Time: 0.18 seconds. Estimated Time Left: 14.26 seconds.\n",
      "Processed document 26/105. Elapsed Time: 0.12 seconds. Estimated Time Left: 9.13 seconds.\n",
      "Processed document 27/105. Elapsed Time: 0.11 seconds. Estimated Time Left: 8.29 seconds.\n",
      "Processed document 28/105. Elapsed Time: 0.04 seconds. Estimated Time Left: 3.37 seconds.\n",
      "Processed document 29/105. Elapsed Time: 0.12 seconds. Estimated Time Left: 9.11 seconds.\n",
      "Processed document 30/105. Elapsed Time: 0.19 seconds. Estimated Time Left: 14.35 seconds.\n",
      "Processed document 31/105. Elapsed Time: 0.23 seconds. Estimated Time Left: 16.72 seconds.\n",
      "Processed document 32/105. Elapsed Time: 0.05 seconds. Estimated Time Left: 3.38 seconds.\n",
      "Processed document 33/105. Elapsed Time: 0.06 seconds. Estimated Time Left: 4.11 seconds.\n",
      "Processed document 34/105. Elapsed Time: 0.27 seconds. Estimated Time Left: 19.30 seconds.\n",
      "Processed document 35/105. Elapsed Time: 0.08 seconds. Estimated Time Left: 5.62 seconds.\n",
      "Processed document 36/105. Elapsed Time: 0.08 seconds. Estimated Time Left: 5.33 seconds.\n",
      "Processed document 37/105. Elapsed Time: 0.20 seconds. Estimated Time Left: 13.73 seconds.\n",
      "Processed document 38/105. Elapsed Time: 0.24 seconds. Estimated Time Left: 16.07 seconds.\n",
      "Processed document 39/105. Elapsed Time: 0.12 seconds. Estimated Time Left: 7.72 seconds.\n",
      "Processed document 40/105. Elapsed Time: 0.20 seconds. Estimated Time Left: 13.18 seconds.\n",
      "Processed document 41/105. Elapsed Time: 0.04 seconds. Estimated Time Left: 2.53 seconds.\n",
      "Processed document 42/105. Elapsed Time: 0.23 seconds. Estimated Time Left: 14.58 seconds.\n",
      "Processed document 43/105. Elapsed Time: 0.07 seconds. Estimated Time Left: 4.46 seconds.\n",
      "Processed document 44/105. Elapsed Time: 0.03 seconds. Estimated Time Left: 2.13 seconds.\n",
      "Processed document 45/105. Elapsed Time: 0.03 seconds. Estimated Time Left: 2.06 seconds.\n",
      "Processed document 46/105. Elapsed Time: 0.10 seconds. Estimated Time Left: 5.65 seconds.\n",
      "Processed document 47/105. Elapsed Time: 0.08 seconds. Estimated Time Left: 4.50 seconds.\n",
      "Processed document 48/105. Elapsed Time: 0.04 seconds. Estimated Time Left: 2.46 seconds.\n",
      "Processed document 49/105. Elapsed Time: 0.24 seconds. Estimated Time Left: 13.37 seconds.\n",
      "Processed document 50/105. Elapsed Time: 0.28 seconds. Estimated Time Left: 15.30 seconds.\n",
      "Processed document 51/105. Elapsed Time: 0.27 seconds. Estimated Time Left: 14.72 seconds.\n",
      "Processed document 52/105. Elapsed Time: 0.19 seconds. Estimated Time Left: 10.07 seconds.\n",
      "Processed document 53/105. Elapsed Time: 0.22 seconds. Estimated Time Left: 11.60 seconds.\n",
      "Processed document 54/105. Elapsed Time: 0.08 seconds. Estimated Time Left: 4.00 seconds.\n",
      "Processed document 55/105. Elapsed Time: 0.18 seconds. Estimated Time Left: 8.89 seconds.\n",
      "Processed document 56/105. Elapsed Time: 0.13 seconds. Estimated Time Left: 6.50 seconds.\n",
      "Processed document 57/105. Elapsed Time: 0.21 seconds. Estimated Time Left: 9.87 seconds.\n",
      "Processed document 58/105. Elapsed Time: 0.07 seconds. Estimated Time Left: 3.14 seconds.\n",
      "Processed document 59/105. Elapsed Time: 0.04 seconds. Estimated Time Left: 2.00 seconds.\n",
      "Processed document 60/105. Elapsed Time: 0.05 seconds. Estimated Time Left: 2.05 seconds.\n",
      "Processed document 61/105. Elapsed Time: 0.22 seconds. Estimated Time Left: 9.77 seconds.\n",
      "Processed document 62/105. Elapsed Time: 0.18 seconds. Estimated Time Left: 7.59 seconds.\n",
      "Processed document 63/105. Elapsed Time: 0.04 seconds. Estimated Time Left: 1.78 seconds.\n",
      "Processed document 64/105. Elapsed Time: 0.18 seconds. Estimated Time Left: 7.18 seconds.\n",
      "Processed document 65/105. Elapsed Time: 0.19 seconds. Estimated Time Left: 7.78 seconds.\n",
      "Processed document 66/105. Elapsed Time: 0.09 seconds. Estimated Time Left: 3.37 seconds.\n",
      "Processed document 67/105. Elapsed Time: 0.03 seconds. Estimated Time Left: 1.33 seconds.\n",
      "Processed document 68/105. Elapsed Time: 0.23 seconds. Estimated Time Left: 8.63 seconds.\n",
      "Processed document 69/105. Elapsed Time: 0.23 seconds. Estimated Time Left: 8.13 seconds.\n",
      "Processed document 70/105. Elapsed Time: 0.04 seconds. Estimated Time Left: 1.36 seconds.\n",
      "Processed document 71/105. Elapsed Time: 0.15 seconds. Estimated Time Left: 5.17 seconds.\n",
      "Processed document 72/105. Elapsed Time: 0.21 seconds. Estimated Time Left: 6.99 seconds.\n",
      "Processed document 73/105. Elapsed Time: 0.04 seconds. Estimated Time Left: 1.34 seconds.\n",
      "Processed document 74/105. Elapsed Time: 0.22 seconds. Estimated Time Left: 6.73 seconds.\n",
      "Processed document 75/105. Elapsed Time: 0.10 seconds. Estimated Time Left: 3.10 seconds.\n",
      "Processed document 76/105. Elapsed Time: 0.20 seconds. Estimated Time Left: 5.84 seconds.\n",
      "Processed document 77/105. Elapsed Time: 0.16 seconds. Estimated Time Left: 4.39 seconds.\n",
      "Processed document 78/105. Elapsed Time: 0.21 seconds. Estimated Time Left: 5.69 seconds.\n",
      "Processed document 79/105. Elapsed Time: 0.14 seconds. Estimated Time Left: 3.73 seconds.\n",
      "Processed document 80/105. Elapsed Time: 0.04 seconds. Estimated Time Left: 0.93 seconds.\n",
      "Processed document 81/105. Elapsed Time: 0.21 seconds. Estimated Time Left: 5.09 seconds.\n",
      "Processed document 82/105. Elapsed Time: 0.07 seconds. Estimated Time Left: 1.61 seconds.\n",
      "Processed document 83/105. Elapsed Time: 0.06 seconds. Estimated Time Left: 1.33 seconds.\n",
      "Processed document 84/105. Elapsed Time: 0.21 seconds. Estimated Time Left: 4.45 seconds.\n",
      "Processed document 85/105. Elapsed Time: 0.10 seconds. Estimated Time Left: 2.00 seconds.\n",
      "Processed document 86/105. Elapsed Time: 0.21 seconds. Estimated Time Left: 4.05 seconds.\n",
      "Processed document 87/105. Elapsed Time: 0.04 seconds. Estimated Time Left: 0.65 seconds.\n",
      "Processed document 88/105. Elapsed Time: 0.19 seconds. Estimated Time Left: 3.15 seconds.\n",
      "Processed document 89/105. Elapsed Time: 0.04 seconds. Estimated Time Left: 0.62 seconds.\n",
      "Processed document 90/105. Elapsed Time: 0.22 seconds. Estimated Time Left: 3.30 seconds.\n",
      "Processed document 91/105. Elapsed Time: 0.04 seconds. Estimated Time Left: 0.62 seconds.\n",
      "Processed document 92/105. Elapsed Time: 0.05 seconds. Estimated Time Left: 0.65 seconds.\n",
      "Processed document 93/105. Elapsed Time: 0.09 seconds. Estimated Time Left: 1.04 seconds.\n",
      "Processed document 94/105. Elapsed Time: 0.23 seconds. Estimated Time Left: 2.54 seconds.\n",
      "Processed document 95/105. Elapsed Time: 0.16 seconds. Estimated Time Left: 1.64 seconds.\n",
      "Processed document 96/105. Elapsed Time: 0.04 seconds. Estimated Time Left: 0.32 seconds.\n",
      "Processed document 97/105. Elapsed Time: 0.21 seconds. Estimated Time Left: 1.71 seconds.\n",
      "Processed document 98/105. Elapsed Time: 0.08 seconds. Estimated Time Left: 0.56 seconds.\n",
      "Processed document 99/105. Elapsed Time: 0.20 seconds. Estimated Time Left: 1.18 seconds.\n",
      "Processed document 100/105. Elapsed Time: 0.14 seconds. Estimated Time Left: 0.68 seconds.\n",
      "Processed document 101/105. Elapsed Time: 0.03 seconds. Estimated Time Left: 0.14 seconds.\n",
      "Processed document 102/105. Elapsed Time: 0.03 seconds. Estimated Time Left: 0.10 seconds.\n",
      "Processed document 103/105. Elapsed Time: 0.04 seconds. Estimated Time Left: 0.07 seconds.\n",
      "Processed document 104/105. Elapsed Time: 0.04 seconds. Estimated Time Left: 0.04 seconds.\n",
      "Processed document 105/105. Elapsed Time: 0.04 seconds. Estimated Time Left: 0.00 seconds.\n",
      "Documents embedded and stored in local Chroma database '/home/tagore/repos/ai/data/processed/embeddings/BioBERT'.\n"
     ]
    }
   ],
   "source": [
    "ge.create_embeddings_Biobert_in_chroma(documents_dir, collection_name, database_path=database_path)"
   ]
  },
  {
   "cell_type": "code",
   "execution_count": 23,
   "metadata": {},
   "outputs": [],
   "source": [
    "client33 = chromadb.PersistentClient('/home/tagore/repos/ai/data/processed/embeddings/BioBERT')\n",
    "collection3 = client33.get_collection(name=collection_name)\n"
   ]
  }
 ],
 "metadata": {
  "kernelspec": {
   "display_name": "ml",
   "language": "python",
   "name": "python3"
  },
  "language_info": {
   "codemirror_mode": {
    "name": "ipython",
    "version": 3
   },
   "file_extension": ".py",
   "mimetype": "text/x-python",
   "name": "python",
   "nbconvert_exporter": "python",
   "pygments_lexer": "ipython3",
   "version": "3.10.12"
  }
 },
 "nbformat": 4,
 "nbformat_minor": 2
}

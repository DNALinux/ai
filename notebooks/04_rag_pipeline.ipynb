{
 "cells": [
  {
   "cell_type": "code",
   "execution_count": 1,
   "metadata": {},
   "outputs": [],
   "source": [
    "import sys\n",
    "sys.path.append(\"/home/tagore/repos/ai/scripts\")\n",
    "import os\n",
    "import time\n",
    "import ollama\n",
    "import chromadb\n",
    "import torch\n",
    "import h5py\n",
    "from transformers import AutoTokenizer, AutoModel\n",
    "import generate_embeddings as ge"
   ]
  },
  {
   "cell_type": "code",
   "execution_count": 2,
   "metadata": {},
   "outputs": [],
   "source": [
    "documents_directory = '/home/tagore/repos/ai/data/processed/processed_texts/Bookshelf_NBK279690.txt'\n",
    "collection_name = \"blast_db\"\n",
    "database_file = '/home/tagore/repos/ai/data/processed/embeddings/chrome_db'\n",
    "documents_directory2 = '/home/tagore/repos/ai/data/processed/texts/Bookshelf_NBK279690.pdf'\n",
    "collection_name2 = \"blast_db_unprocessed\"\n",
    "database_file2 = '/home/tagore/repos/ai/data/processed/embeddings/chrome_db_unprocessed'\n",
    "collection_name3 = \"BioBERT\"\n",
    "database_path3 = '/home/tagore/repos/ai/data/processed/embeddings/chroma_db_withBioBERT'"
   ]
  },
  {
   "cell_type": "code",
   "execution_count": 4,
   "metadata": {},
   "outputs": [],
   "source": [
    "client = chromadb.PersistentClient(path=database_file)\n",
    "collection = client.get_collection(name=collection_name)\n",
    "client2 = chromadb.PersistentClient(path=database_file2)\n",
    "collection2 = client2.get_collection(name=collection_name2)\n",
    "client33 = chromadb.PersistentClient('/home/tagore/repos/ai/data/processed/embeddings/BioBERT')\n",
    "collection3 = client33.get_collection(name=collection_name3)"
   ]
  },
  {
   "cell_type": "code",
   "execution_count": 5,
   "metadata": {},
   "outputs": [],
   "source": [
    "blast_dna_questions = [\"What is the word size parameter in BLAST?\",\n",
    "\"How to get the results of BLASTP in XML format?\",\n",
    "\"How to perform a BLAST on a specific taxonomic group?\",\n",
    "\"What parameters do I use to perform BLAST with epitopes smaller than 10 amino acids?\",\n",
    "\"Which kind of databases can be searched with BLASTX?\"]"
   ]
  },
  {
   "cell_type": "code",
   "execution_count": 15,
   "metadata": {},
   "outputs": [
    {
     "data": {
      "text/plain": [
       "{'ids': [['page_25.txt', 'page_82.txt', 'page_54.txt']],\n",
       " 'distances': [[161.27996826171875, 189.7296905517578, 195.74293518066406]],\n",
       " 'metadatas': [[None, None, None]],\n",
       " 'embeddings': None,\n",
       " 'documents': [['blast feature tom madden1 christiam camacho2 created june 23 2008 updated march 14 2021 task blastn blastp application task option option set parameter eg wordsize gap value typical value specific type search example megablast task optimized intraspecies comparison us large wordsize whereas blastn better suited interspecies comparison shorter wordsize task resemble program selection section blast web page preclude user setting option override specified task see appendix option commandline application documentation parameter value different task following task currently available program task name description blastp blastp traditional blastp compare protein query protein database blastpshort blastp optimized query shorter 30 residue blastn blastn traditional blastn requiring exact match 11 blastnshort blastn program optimized sequence shorter 50 base megablast traditional megablast used find similar eg intraspecies closely related specie sequence dcmegablast discontiguous megablast used find distant eg interspecies sequence megablast indexed search indexing provides alternative way search initial match nucleotidenucleotide search blastn megablast preindexing nmer location special data structure called database index using index improve search time significantly certain condition beneficial query much shorter database work best query 1 mba long advantage come fact whole database scanned search index capture masking information thereby enabling search database masked repeat low complexity etc however limitation using indexed search blast index file four time larger blast database index fit computer operating memory advantage using eliminated word size must set 16 order use indexed search discontiguous search supported reference morgulis coulouris g raytselis madden tl agarwala r schffer aa database indexing production megablast search bioinformatics 2008 2416175764 pmid18567917 author affiliation 1 email maddenncbinlmnihgov 2 email camachoncbinlmnihgov17',\n",
       "   '74 blast command line application user manual',\n",
       "   '46 blast command line application user manual']],\n",
       " 'uris': None,\n",
       " 'data': None,\n",
       " 'included': ['metadatas', 'documents', 'distances']}"
      ]
     },
     "execution_count": 15,
     "metadata": {},
     "output_type": "execute_result"
    }
   ],
   "source": [
    "# an example prompt\n",
    "prompt = blast_dna_questions[0]\n",
    "\n",
    "# generate an embedding for the prompt and retrieve the most relevant doc\n",
    "response = ollama.embeddings(\n",
    "  prompt=prompt,\n",
    "  model=\"mxbai-embed-large\"\n",
    ")\n",
    "results = collection.query(\n",
    "  query_embeddings=[response[\"embedding\"]],\n",
    "  n_results=3\n",
    ")\n",
    "data = results['documents'][0][0]\n",
    "results"
   ]
  },
  {
   "cell_type": "code",
   "execution_count": 12,
   "metadata": {},
   "outputs": [
    {
     "data": {
      "text/plain": [
       "{'ids': [['page_68.txt', 'page_48.txt', 'page_38.txt']],\n",
       " 'distances': [[185.29751586914062, 186.61318969726562, 186.95620727539062]],\n",
       " 'metadatas': [[None, None, None]],\n",
       " 'embeddings': None,\n",
       " 'documents': [['60 blast command line application user manual',\n",
       "   '40 blast command line application user manual',\n",
       "   '30 blast command line application user manual']],\n",
       " 'uris': None,\n",
       " 'data': None,\n",
       " 'included': ['metadatas', 'documents', 'distances']}"
      ]
     },
     "execution_count": 12,
     "metadata": {},
     "output_type": "execute_result"
    }
   ],
   "source": [
    "model_name=\"dmis-lab/biobert-base-cased-v1.2\"\n",
    "# Initialize BioBERT model and tokenizer\n",
    "tokenizer = AutoTokenizer.from_pretrained(model_name)\n",
    "model = AutoModel.from_pretrained(model_name)\n",
    "em = ge.get_embeddings(prompt[4], model, tokenizer)\n",
    "results = collection3.query(\n",
    "  query_embeddings=em.tolist(),\n",
    "  n_results=3\n",
    ")\n",
    "results"
   ]
  }
 ],
 "metadata": {
  "kernelspec": {
   "display_name": "toyokoserver",
   "language": "python",
   "name": "python3"
  },
  "language_info": {
   "codemirror_mode": {
    "name": "ipython",
    "version": 3
   },
   "file_extension": ".py",
   "mimetype": "text/x-python",
   "name": "python",
   "nbconvert_exporter": "python",
   "pygments_lexer": "ipython3",
   "version": "3.10.12"
  }
 },
 "nbformat": 4,
 "nbformat_minor": 2
}

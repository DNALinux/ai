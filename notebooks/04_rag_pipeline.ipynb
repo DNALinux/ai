{
 "cells": [
  {
   "cell_type": "code",
   "execution_count": 1,
   "metadata": {},
   "outputs": [],
   "source": [
    "import sys\n",
    "sys.path.append(\"/home/tagore/repos/ai/scripts\")\n",
    "import os\n",
    "import time\n",
    "import ollama\n",
    "import chromadb\n",
    "import torch\n",
    "import h5py\n",
    "from torch  import cuda\n",
    "from transformers import AutoTokenizer, AutoModel\n",
    "import generate_embeddings as ge"
   ]
  },
  {
   "cell_type": "code",
   "execution_count": 2,
   "metadata": {},
   "outputs": [],
   "source": [
    "documents_directory = '/home/tagore/repos/ai/data/processed/texts/Bookshelf_NBK279690.pdf'\n",
    "collection_name = \"blast_db_unprocessed\"\n",
    "database_file = '/home/tagore/repos/ai/data/processed/embeddings/chrome_db_unprocessed'"
   ]
  },
  {
   "cell_type": "code",
   "execution_count": 3,
   "metadata": {},
   "outputs": [],
   "source": [
    "client = chromadb.PersistentClient(path=database_file)\n",
    "collection = client.get_collection(name=collection_name)"
   ]
  },
  {
   "cell_type": "code",
   "execution_count": 16,
   "metadata": {},
   "outputs": [],
   "source": [
    "blast_dna_questions = [\"What is word size parameter in BLAST?\",\n",
    "\"How to get the results of BLASTP in XML format?\",\n",
    "\"How to perform a BLAST on a specific taxonomic group?\",\n",
    "\"What parameters do I use to perform BLAST with epitopes smaller than 10 amino acids?\",\n",
    "\"Which kind of databases can be searched with BLASTX?\"]"
   ]
  },
  {
   "cell_type": "code",
   "execution_count": 19,
   "metadata": {},
   "outputs": [],
   "source": [
    "# an example prompt\n",
    "prompt = blast_dna_questions[4]\n",
    "\n",
    "# generate an embedding for the prompt and retrieve the most relevant doc\n",
    "response = ollama.embeddings(\n",
    "  prompt=prompt,\n",
    "  model=\"mxbai-embed-large\"\n",
    ")\n",
    "results = collection.query(\n",
    "  query_embeddings=[response[\"embedding\"]],\n",
    "  n_results=3\n",
    ")\n",
    "data = results['documents'][0]"
   ]
  },
  {
   "cell_type": "code",
   "execution_count": 20,
   "metadata": {},
   "outputs": [
    {
     "name": "stdout",
     "output_type": "stream",
     "text": [
      "Protein databases can be searched with BLASTX.\n"
     ]
    }
   ],
   "source": [
    "# generate a response combining the prompt and data we retrieved in step 2\n",
    "output = ollama.generate(\n",
    "  model=\"llama3\",\n",
    "  prompt=generate_prompt(prompt, data)\n",
    ")\n",
    "\n",
    "print(output['response'])"
   ]
  },
  {
   "cell_type": "markdown",
   "metadata": {},
   "source": [
    "## Record the answer after we have add URL data into the database\n",
    "\n",
    "#### Q: What is word size parameter in BLAST?\n",
    "\n",
    "A: \n",
    "The word size parameter in BLAST is an integer that represents the length of initial exact match. Its default value varies depending on the task:\n",
    "\n",
    "* megablast: 28\n",
    "* dc-megablast: 11\n",
    "* blastn: 11\n",
    "* blastn-short: 7\n",
    "\n",
    "#### Q:How to get the results of BLASTP in XML format?\n",
    "\n",
    "A:\n",
    "To get the results of BLASTP in XML format, use:\n",
    "\n",
    "$ blast_formatter –rid X3R7GAUS014 –out test.xml –outfmt \"XML\"\n",
    "\n",
    "\n",
    "#### Q: How to perform a BLAST on a specific taxonomic group?\n",
    "\n",
    "A:\n",
    "To perform a BLAST on a specific taxonomic group, you can use the following command:\n",
    "\n",
    "`blastn –db nt –query QUERY –taxids 9606 –outfmt 7 –out OUTPUT.tab`\n",
    "\n",
    "Replace `QUERY` with your query sequence file, `OUTPUT.tab` with your desired output file name, and `9606` with the taxonomy ID(s) of the specific taxonomic group you want to search.\n",
    "\n",
    "#### Q:What parameters do I use to perform BLAST with epitopes smaller than 10 amino acids?\n",
    "\n",
    "A:\n",
    "To perform BLAST with epitopes smaller than 10 amino acids, you can use the \"word_size\" parameter and set it to a value between 2-7. The default value is 3 for standard protein-protein comparisons. \n",
    "\n",
    "For shorter query sequences, you may want to consider using the \"blastp-short\" task or increasing the word size to capture smaller epitopes.\n",
    "\n",
    "#### Q:Which kind of databases can be searched with BLASTX?\n",
    "\n",
    "A:\n",
    "Protein databases can be searched with BLASTX."
   ]
  },
  {
   "cell_type": "code",
   "execution_count": 26,
   "metadata": {},
   "outputs": [
    {
     "ename": "NameError",
     "evalue": "name 'collection3' is not defined",
     "output_type": "error",
     "traceback": [
      "\u001b[0;31m---------------------------------------------------------------------------\u001b[0m",
      "\u001b[0;31mNameError\u001b[0m                                 Traceback (most recent call last)",
      "Cell \u001b[0;32mIn[26], line 6\u001b[0m\n\u001b[1;32m      4\u001b[0m model \u001b[38;5;241m=\u001b[39m AutoModel\u001b[38;5;241m.\u001b[39mfrom_pretrained(model_name)\n\u001b[1;32m      5\u001b[0m em \u001b[38;5;241m=\u001b[39m ge\u001b[38;5;241m.\u001b[39mget_embeddings(prompt[\u001b[38;5;241m4\u001b[39m], model, tokenizer)\n\u001b[0;32m----> 6\u001b[0m results \u001b[38;5;241m=\u001b[39m \u001b[43mcollection3\u001b[49m\u001b[38;5;241m.\u001b[39mquery(\n\u001b[1;32m      7\u001b[0m   query_embeddings\u001b[38;5;241m=\u001b[39mem\u001b[38;5;241m.\u001b[39mtolist(),\n\u001b[1;32m      8\u001b[0m   n_results\u001b[38;5;241m=\u001b[39m\u001b[38;5;241m3\u001b[39m\n\u001b[1;32m      9\u001b[0m )\n",
      "\u001b[0;31mNameError\u001b[0m: name 'collection3' is not defined"
     ]
    }
   ],
   "source": [
    "model_name=\"dmis-lab/biobert-base-cased-v1.2\"\n",
    "# Initialize BioBERT model and tokenizer\n",
    "tokenizer = AutoTokenizer.from_pretrained(model_name)\n",
    "model = AutoModel.from_pretrained(model_name)\n",
    "em = ge.get_embeddings(prompt[4], model, tokenizer)\n",
    "results = collection3.query(\n",
    "  query_embeddings=em.tolist(),\n",
    "  n_results=3\n",
    ")"
   ]
  }
 ],
 "metadata": {
  "kernelspec": {
   "display_name": "toyokoserver",
   "language": "python",
   "name": "python3"
  },
  "language_info": {
   "codemirror_mode": {
    "name": "ipython",
    "version": 3
   },
   "file_extension": ".py",
   "mimetype": "text/x-python",
   "name": "python",
   "nbconvert_exporter": "python",
   "pygments_lexer": "ipython3",
   "version": "3.10.12"
  }
 },
 "nbformat": 4,
 "nbformat_minor": 2
}

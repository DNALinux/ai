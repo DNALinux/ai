{
 "cells": [
  {
   "cell_type": "markdown",
   "metadata": {},
   "source": [
    "## Data Extraction & Data Base Embeddings Integration"
   ]
  },
  {
   "cell_type": "code",
   "execution_count": 1,
   "metadata": {},
   "outputs": [],
   "source": [
    "import sys\n",
    "sys.path.append(\"/home/tagore/repos/ai/scripts\")\n",
    "import TextExtractor as te\n",
    "import VectorDB as vdb"
   ]
  },
  {
   "cell_type": "markdown",
   "metadata": {},
   "source": [
    "### Text Extractor: Class Definition\n",
    "\n",
    "/scripts/TextExtractor.py"
   ]
  },
  {
   "cell_type": "markdown",
   "metadata": {},
   "source": [
    "### Text Extractor: test"
   ]
  },
  {
   "cell_type": "code",
   "execution_count": 13,
   "metadata": {},
   "outputs": [
    {
     "data": {
      "text/plain": [
       "['Enter a title, displayed at the top of the window. Enter the main heading, usually the same as the title. Be bold in stating your key points. Put them in a list: The first item in your list The second item; italicize key words Improve your image by including an image. Add a link to your favorite Web site. Break up your page with a horizontal rule or two. Finally, link to another page in your own Web site. © Wiley Publishing, 2011']"
      ]
     },
     "execution_count": 13,
     "metadata": {},
     "output_type": "execute_result"
    }
   ],
   "source": [
    "output = '/home/tagore/repos/ai/data/exampe_debug_folder'\n",
    "input = '/home/tagore/repos/ai/data/example_data'\n",
    "chroma_db = '/home/tagore/repos/ai/data/example_database'\n",
    "urls_path = '/home/tagore/repos/ai/data/example_data/urls.txt'\n",
    "test_extractor = te.TextExtractor(input, output,urls_path)\n",
    "htmls = test_extractor.get_html()\n",
    "test_extractor.extract_html_text(htmls[0])"
   ]
  },
  {
   "cell_type": "code",
   "execution_count": 3,
   "metadata": {},
   "outputs": [
    {
     "data": {
      "text/plain": [
       "['s://github.com/enormandeau/ncbi_blast_tutorial.\\n\\nAbout\\nCrash course for NCBI blast tools\\n\\nTopics\\n\\nResources\\n\\nStars\\n\\nWatchers\\n\\nForks\\n\\nReleases\\n\\nFooter\\n\\nFooter navigation',\n",
       " \"archive. For example:\\n\\nAdd the bin folder from the extracted archive to your path. For example, add\\nthe following line to your ~/.bashrc file:\\n\\nAnd change the /PATH/TO part to the path where you have put the extracted\\narchive.\\n\\nExample sequences to use with the tutorial\\nIn order to test blast, you need a test fasta file. Use the following files\\nthat come with the tutorial:\\n\\nCreate blast database\\nThe different blast tools require a formatted database to search against. In\\norder to create the database, we use the makeblastdb tool:\\n\\nThis will create a list of files in the databases folder. These are all part\\nof the blast database.\\n\\nBlast\\nWe can now blast our sequences against the database. In this case, both our\\nquery sequences and database sequences are DNA sequences, so we use the\\nblastn tool:\\n\\nYou can use different output formats with the outmft option:\\n\\nBlast with parallel\\nIf you need to run your blasts faster (and who doesn't?), you can maximise\\nCPU usage with gnu parallel. You will\",\n",
       " 'can maximise\\nCPU usage with gnu parallel. You will find it at this\\nlink.\\n\\nDownload the archive, extract it (with tar xvfB parallel-latest.tar.bz2) and\\ninstall it with the following commands:\\n\\nWe can now use parallel to speed up blast:\\n\\nMore options and getting help\\nIf you need help to know the options and parameters you can pass blastn and\\nthe other blast+ utilities, use the --help option and pipe the output into\\nless, for example:\\n\\nNCBI blast tools cover more cases than DNA against DNA searches. For example,\\nyou can search a protein database with either DNA or protein sequences. Here is\\nan exhaustive list of the programs that come with the blast+ distribution:\\n\\nReferences\\nO. Tange (2011): GNU Parallel - The Command-Line Power Tool, ;login: The USENIX Magazine, February 2011:42-47.\\n\\nLicence\\nNCBI blast tutorial by Eric Normandeau is licensed under a Creative Commons Attribution-ShareAlike 4.0 International License.Based on a work at https://github.com/enormandeau/ncbi_blast_tutorial.\\n\\nA',\n",
       " 'Navigation Menu\\n\\nSearch code, repositories, users, issues, pull requests...\\n\\nProvide feedback\\nWe read every piece of feedback, and take your input very seriously.\\n\\nSaved searches\\n\\nUse saved searches to filter your results more quickly\\nTo see all available qualifiers, see our documentation.\\n\\nCrash course for NCBI blast tools\\n\\nenormandeau/ncbi_blast_tutorial\\n\\nFolders and files\\n\\nLatest commit\\n\\nHistory\\n\\nRepository files navigation\\n\\nNCBI blast tutorial\\nShort introduction to using NCBI blast tools from the command line\\n\\nUsing Blast from the command line\\nSometimes, you may have to use blast on your own computer to query thousands of\\nsequences against a custom database of hundreds of thousands of sequences. To\\ndo that, you will need to install Blast on your computer, format the database,\\nand then blast the sequences.\\n\\nHere is a short tutorial on how to do this.\\n\\nInstalling Blast+ tools\\nGet the compiled executables from this URL:\\n\\nDecompress the archive. For example:\\n\\nAdd the bin folder from th']"
      ]
     },
     "execution_count": 3,
     "metadata": {},
     "output_type": "execute_result"
    }
   ],
   "source": [
    "urltext"
   ]
  },
  {
   "cell_type": "markdown",
   "metadata": {},
   "source": [
    "### Vector Database: Class Definition\n",
    "\n",
    "/home/tagore/repos/ai/scripts/VectorDB.py"
   ]
  },
  {
   "cell_type": "markdown",
   "metadata": {},
   "source": [
    "### Text Extractor: test"
   ]
  },
  {
   "cell_type": "code",
   "execution_count": 45,
   "metadata": {},
   "outputs": [],
   "source": [
    "import sys\n",
    "sys.path.append(\"/home/tagore/repos/ai/scripts\")\n",
    "import TextExtractor as te\n",
    "import VectorDB as vdb\n",
    "\n",
    "\n",
    "input = '/home/tagore/repos/ai/data/example_data/'\n",
    "output = '/home/tagore/repos/ai/data/exampe_debug_folder'\n",
    "chroma_db = '/home/tagore/repos/ai/data/example_db/'\n",
    "collection_name = 'test'\n",
    "\n",
    "test_vector_db = vdb.VectorDB(input, output, chroma_db, collection_name)\n"
   ]
  },
  {
   "cell_type": "code",
   "execution_count": null,
   "metadata": {},
   "outputs": [],
   "source": [
    "test_vector_db.load_data()"
   ]
  },
  {
   "cell_type": "code",
   "execution_count": 47,
   "metadata": {},
   "outputs": [
    {
     "data": {
      "text/plain": [
       "{'BBTools',\n",
       " 'BRAKER',\n",
       " 'Bookshelf_NBK279690',\n",
       " 'EDTA',\n",
       " 'GeMoMa-manual',\n",
       " 'MMseqs2',\n",
       " 'OrthoFinder',\n",
       " 'eggNOG',\n",
       " 'http://quinlanlab.org/tutorials/bedtools.html',\n",
       " 'https://bioinf.shenwei.me/seqkit/tutorial/',\n",
       " 'https://ccb.jhu.edu/software/stringtie/index.shtml?t=manual',\n",
       " 'https://daehwankimlab.github.io/hisat2/manual/',\n",
       " 'https://en.wikipedia.org/wiki/BLAST_(biotechnology)',\n",
       " 'https://github.com/FelixKrueger/TrimGalore/blob/master/Docs/Trim_Galore_User_Guide.md',\n",
       " 'https://github.com/TransDecoder/TransDecoder/wiki',\n",
       " 'https://github.com/enormandeau/ncbi_blast_tutorial',\n",
       " 'https://github.com/sanger-pathogens/assembly-stats/blob/master/README.md#installation',\n",
       " 'https://github.com/tseemann/barrnap/blob/master/README.md',\n",
       " 'https://github.com/tseemann/prokka/blob/master/README.md',\n",
       " 'https://manpages.ubuntu.com/manpages/oracular/en/man1/seqtk.1.html#commands',\n",
       " 'https://open.oregonstate.education/computationalbiology/chapter/command-line-blast/',\n",
       " 'https://vicfero.github.io/trimal/index.html',\n",
       " 'https://www.bioinformatics.babraham.ac.uk/projects/fastqc/',\n",
       " 'https://www.repeatmasker.org/RepeatModeler/',\n",
       " 'https://www.repeatmasker.org/webrepeatmaskerhelp.html',\n",
       " 'nwutils',\n",
       " 'phylonet'}"
      ]
     },
     "execution_count": 47,
     "metadata": {},
     "output_type": "execute_result"
    }
   ],
   "source": [
    "test_vector_db.show_sources()"
   ]
  },
  {
   "cell_type": "code",
   "execution_count": null,
   "metadata": {},
   "outputs": [],
   "source": [
    "test_vector_db.query('')"
   ]
  },
  {
   "cell_type": "code",
   "execution_count": 41,
   "metadata": {},
   "outputs": [],
   "source": [
    "import argparse\n",
    "import logging\n",
    "import ollama  # Ensure the Ollama library is imported\n",
    "import TextExtractor as te\n",
    "import VectorDB as vdb\n",
    "import RAG as rag"
   ]
  },
  {
   "cell_type": "code",
   "execution_count": 42,
   "metadata": {},
   "outputs": [],
   "source": [
    "input = '/home/tagore/repos/ai/data/example_data/'\n",
    "output = '/home/tagore/repos/ai/data/exampe_debug_folder'\n",
    "chroma_db = '/home/tagore/repos/ai/data/example_db/'\n",
    "collection_name = 'test'\n",
    "\n",
    "testRAG = rag.RAG(input, output, chroma_db, collection_name)"
   ]
  },
  {
   "cell_type": "code",
   "execution_count": 36,
   "metadata": {},
   "outputs": [
    {
     "name": "stdout",
     "output_type": "stream",
     "text": [
      "The word size parameter in BLAST refers to the size of words that can score at least T when compared with words from the query, and is valid for values between 2-7.\n"
     ]
    }
   ],
   "source": [
    "print(testRAG.generate_answer(\"What does word size parameter mean in BLAST?\"))"
   ]
  },
  {
   "cell_type": "code",
   "execution_count": 33,
   "metadata": {},
   "outputs": [
    {
     "name": "stdout",
     "output_type": "stream",
     "text": [
      "To get the results of BLASTP in XML format, you can use the `blast_formatter` command with the `-outfmt 5` option, as shown in the example: `$ blast_formatter –rid X3R7GAUS014 –out test.xml –outfmt 5`\n"
     ]
    }
   ],
   "source": [
    "print(testRAG.generate_answer(\"How to get the results of BLASTP in XML format?\"))"
   ]
  },
  {
   "cell_type": "code",
   "execution_count": 35,
   "metadata": {},
   "outputs": [
    {
     "name": "stdout",
     "output_type": "stream",
     "text": [
      "To perform a BLAST on a specific taxonomic group, you can use the `-taxids` option and specify the NCBI taxonomy ID(s) for the given organism(s). For example: `$ blastn –db nt –query QUERY –taxids 9606 –outfmt 7 –out OUTPUT.tab`.\n"
     ]
    }
   ],
   "source": [
    "print(testRAG.generate_answer(\"How to perform a BLAST on a specific taxonomic group?\"))"
   ]
  },
  {
   "cell_type": "code",
   "execution_count": 40,
   "metadata": {},
   "outputs": [
    {
     "name": "stdout",
     "output_type": "stream",
     "text": [
      "To perform BLAST with epitopes smaller than 10 amino acids, you can use the word size parameter and set it to a value less than or equal to 7 (e.g., 3-5).\n"
     ]
    }
   ],
   "source": [
    "print(testRAG.generate_answer(\"What parameters do I use to perform BLAST with epitopes smaller than 10 amino acids?\"))"
   ]
  },
  {
   "cell_type": "code",
   "execution_count": 39,
   "metadata": {},
   "outputs": [
    {
     "name": "stdout",
     "output_type": "stream",
     "text": [
      "Protein databases (e.g., PDB, GenBank) and nucleotide databases (e.g., nt, nr).\n"
     ]
    }
   ],
   "source": [
    "print(testRAG.generate_answer(\"Which kind of databases can be searched with BLASTX?\"))"
   ]
  },
  {
   "cell_type": "code",
   "execution_count": 1,
   "metadata": {},
   "outputs": [],
   "source": []
  }
 ],
 "metadata": {
  "kernelspec": {
   "display_name": "ml",
   "language": "python",
   "name": "python3"
  },
  "language_info": {
   "codemirror_mode": {
    "name": "ipython",
    "version": 3
   },
   "file_extension": ".py",
   "mimetype": "text/x-python",
   "name": "python",
   "nbconvert_exporter": "python",
   "pygments_lexer": "ipython3",
   "version": "3.10.12"
  }
 },
 "nbformat": 4,
 "nbformat_minor": 2
}

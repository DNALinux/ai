{
 "cells": [
  {
   "cell_type": "markdown",
   "metadata": {},
   "source": [
    "## Data Extraction & Data Base Embeddings Integration"
   ]
  },
  {
   "cell_type": "code",
   "execution_count": 39,
   "metadata": {},
   "outputs": [],
   "source": [
    "import sys\n",
    "sys.path.append(\"/home/tagore/repos/ai/scripts\")\n",
    "import TextExtractor as te\n",
    "import VectorDB as vdb"
   ]
  },
  {
   "cell_type": "markdown",
   "metadata": {},
   "source": [
    "### Text Extractor: Class Definition\n",
    "\n",
    "/scripts/TextExtractor.py"
   ]
  },
  {
   "cell_type": "markdown",
   "metadata": {},
   "source": [
    "### Text Extractor: test"
   ]
  },
  {
   "cell_type": "code",
   "execution_count": 61,
   "metadata": {},
   "outputs": [
    {
     "data": {
      "text/plain": [
       "\"BBMap/BBTools\\nusage\\nguide.\\nLast\\nupdated\\nDecember\\n11,\\n2015\\nTable\\nof\\nContents\\nSystem\\nRequirements\\nInstallation\\nTerminology\\nNotes\\nUsage\\nStandard\\nSyntax\\nPaired\\nReads\\nMultiple\\nOutput\\nand\\n%\\nSymbol\\nFile\\nFormats\\nPiping\\nMemory\\nand\\nJava\\nFlags\\nThreads\\nSubprocesses\\nAdditional\\nHelp\\nStandard\\nflags\\nHelp\\nFlags\\nConfig\\nFlags\\nInput\\nFlags\\nOutput\\nFlags\\nSampling\\nFlags\\nCompression\\nFlags\\nQuality-Related\\nFlags\\nLength-Related\\nFlags\\nHistogram\\nFlags\\nAdvanced\\nFlags\\nBuffer\\nFlags\\nMPI\\nand\\nJNI\\nFlags\\nSystem\\nRequirements\\nBBTools\\nis\\nwritten\\nin\\nJava\\nand\\nrequires\\nJava\\n7\\nor\\nhigher\\nfor\\nfull\\nfunctionality.\\nIt\\nis\\ntested\\non\\nOracle's\\nJDK,\\nnot\\nOpenJDK.\\nMost\\ntools\\nwill\\nwork\\nwith\\nJava\\n6\\n(if\\nnot,\\nthey\\nwill\\nthrow\\na\\nClassNotFound\\nexception),\\nand\\nmost\\ntools\\nwill\\nwork\\nwith\\nOpenJDK,\\nbut\\nif\\nyou\\nexperience\\na\\nproblem\\nwith\\nJava\\n6\\nor\\nOpenJDK\\nit\\nis\\nrecommended\\nthat\\nyou\\ninstall\\nOracle's\\nlatest\\nJDK.\\nAll\\noperating\\nsystems\\nthat\\nsupport\\nJava\\nare\\nsupported.\\nNote\\nthat\\nmany\\nof\\nthe\\ntools\\nrequire\\na\\nsubstantial\\namount\\nof\\nmemory,\\nso\\nthe\\n64-bit\\nJDK\\nshould\\nbe\\ninstalled\\nif\\nyou\\nare\\nusing\\na\\n64-bit\\noperating\\nsystem.\\nYou\\ncan\\ndetermine\\nyour\\ncurrent\\nJava\\nversion\\nlike\\nthis:\\njava\\n-Xmx90m\\n-version\""
      ]
     },
     "execution_count": 61,
     "metadata": {},
     "output_type": "execute_result"
    }
   ],
   "source": [
    "output = '/home/tagore/repos/ai/data/exampe_debug_folder'\n",
    "input = '/home/tagore/repos/ai/data/example_data'\n",
    "chroma_db = '/home/tagore/repos/ai/data/example_database'\n",
    "test_extractor = te.TextExtractor(output, input)\n",
    "pdfs = test_extractor.get_pdf()\n",
    "test_extractor.extract_pdf_texts(pdfs[0])[0]"
   ]
  },
  {
   "cell_type": "code",
   "execution_count": 3,
   "metadata": {},
   "outputs": [
    {
     "data": {
      "text/plain": [
       "['s://github.com/enormandeau/ncbi_blast_tutorial.\\n\\nAbout\\nCrash course for NCBI blast tools\\n\\nTopics\\n\\nResources\\n\\nStars\\n\\nWatchers\\n\\nForks\\n\\nReleases\\n\\nFooter\\n\\nFooter navigation',\n",
       " \"archive. For example:\\n\\nAdd the bin folder from the extracted archive to your path. For example, add\\nthe following line to your ~/.bashrc file:\\n\\nAnd change the /PATH/TO part to the path where you have put the extracted\\narchive.\\n\\nExample sequences to use with the tutorial\\nIn order to test blast, you need a test fasta file. Use the following files\\nthat come with the tutorial:\\n\\nCreate blast database\\nThe different blast tools require a formatted database to search against. In\\norder to create the database, we use the makeblastdb tool:\\n\\nThis will create a list of files in the databases folder. These are all part\\nof the blast database.\\n\\nBlast\\nWe can now blast our sequences against the database. In this case, both our\\nquery sequences and database sequences are DNA sequences, so we use the\\nblastn tool:\\n\\nYou can use different output formats with the outmft option:\\n\\nBlast with parallel\\nIf you need to run your blasts faster (and who doesn't?), you can maximise\\nCPU usage with gnu parallel. You will\",\n",
       " 'can maximise\\nCPU usage with gnu parallel. You will find it at this\\nlink.\\n\\nDownload the archive, extract it (with tar xvfB parallel-latest.tar.bz2) and\\ninstall it with the following commands:\\n\\nWe can now use parallel to speed up blast:\\n\\nMore options and getting help\\nIf you need help to know the options and parameters you can pass blastn and\\nthe other blast+ utilities, use the --help option and pipe the output into\\nless, for example:\\n\\nNCBI blast tools cover more cases than DNA against DNA searches. For example,\\nyou can search a protein database with either DNA or protein sequences. Here is\\nan exhaustive list of the programs that come with the blast+ distribution:\\n\\nReferences\\nO. Tange (2011): GNU Parallel - The Command-Line Power Tool, ;login: The USENIX Magazine, February 2011:42-47.\\n\\nLicence\\nNCBI blast tutorial by Eric Normandeau is licensed under a Creative Commons Attribution-ShareAlike 4.0 International License.Based on a work at https://github.com/enormandeau/ncbi_blast_tutorial.\\n\\nA',\n",
       " 'Navigation Menu\\n\\nSearch code, repositories, users, issues, pull requests...\\n\\nProvide feedback\\nWe read every piece of feedback, and take your input very seriously.\\n\\nSaved searches\\n\\nUse saved searches to filter your results more quickly\\nTo see all available qualifiers, see our documentation.\\n\\nCrash course for NCBI blast tools\\n\\nenormandeau/ncbi_blast_tutorial\\n\\nFolders and files\\n\\nLatest commit\\n\\nHistory\\n\\nRepository files navigation\\n\\nNCBI blast tutorial\\nShort introduction to using NCBI blast tools from the command line\\n\\nUsing Blast from the command line\\nSometimes, you may have to use blast on your own computer to query thousands of\\nsequences against a custom database of hundreds of thousands of sequences. To\\ndo that, you will need to install Blast on your computer, format the database,\\nand then blast the sequences.\\n\\nHere is a short tutorial on how to do this.\\n\\nInstalling Blast+ tools\\nGet the compiled executables from this URL:\\n\\nDecompress the archive. For example:\\n\\nAdd the bin folder from th']"
      ]
     },
     "execution_count": 3,
     "metadata": {},
     "output_type": "execute_result"
    }
   ],
   "source": [
    "urltext"
   ]
  },
  {
   "cell_type": "markdown",
   "metadata": {},
   "source": [
    "### Vector Database: Class Definition\n",
    "\n",
    "/home/tagore/repos/ai/scripts/VectorDB.py"
   ]
  },
  {
   "cell_type": "markdown",
   "metadata": {},
   "source": [
    "### Text Extractor: test"
   ]
  },
  {
   "cell_type": "code",
   "execution_count": 45,
   "metadata": {},
   "outputs": [
    {
     "name": "stderr",
     "output_type": "stream",
     "text": [
      "INFO:chromadb.telemetry.product.posthog:Anonymized telemetry enabled. See                     https://docs.trychroma.com/telemetry for more information.\n"
     ]
    }
   ],
   "source": [
    "input = '/home/tagore/repos/ai/data/example_data/'\n",
    "output = '/home/tagore/repos/ai/data/exampe_debug_folder'\n",
    "chroma_db = '/home/tagore/repos/ai/data/example_db/'\n",
    "collection_name = 'test'\n",
    "\n",
    "test_vector_db = VectorDB(input, output, chroma_db, collection_name)\n"
   ]
  },
  {
   "cell_type": "code",
   "execution_count": 46,
   "metadata": {},
   "outputs": [
    {
     "name": "stderr",
     "output_type": "stream",
     "text": [
      "INFO:httpx:HTTP Request: POST http://127.0.0.1:11434/api/embeddings \"HTTP/1.1 200 OK\"\n",
      "INFO:httpx:HTTP Request: POST http://127.0.0.1:11434/api/embeddings \"HTTP/1.1 200 OK\"\n",
      "INFO:httpx:HTTP Request: POST http://127.0.0.1:11434/api/embeddings \"HTTP/1.1 200 OK\"\n",
      "INFO:httpx:HTTP Request: POST http://127.0.0.1:11434/api/embeddings \"HTTP/1.1 200 OK\"\n",
      "INFO:root:Added 4 documents to the vector database.\n"
     ]
    }
   ],
   "source": [
    "test_vector_db.load_url()"
   ]
  },
  {
   "cell_type": "code",
   "execution_count": 51,
   "metadata": {},
   "outputs": [
    {
     "name": "stderr",
     "output_type": "stream",
     "text": [
      "INFO:root:Retrieved 7 documents from the vector database.\n"
     ]
    },
    {
     "data": {
      "text/plain": [
       "{'ids': [],\n",
       " 'embeddings': [],\n",
       " 'metadatas': [],\n",
       " 'documents': [],\n",
       " 'uris': None,\n",
       " 'data': None,\n",
       " 'included': ['embeddings', 'metadatas', 'documents']}"
      ]
     },
     "execution_count": 51,
     "metadata": {},
     "output_type": "execute_result"
    }
   ],
   "source": [
    "test_vector_db.peek()"
   ]
  },
  {
   "cell_type": "code",
   "execution_count": 50,
   "metadata": {},
   "outputs": [
    {
     "name": "stderr",
     "output_type": "stream",
     "text": [
      "INFO:root:Deleted documents from source: https://github.com/enormandeau/ncbi_blast_tutorial\n"
     ]
    }
   ],
   "source": [
    "test_vector_db.delete_source('https://github.com/enormandeau/ncbi_blast_tutorial')"
   ]
  },
  {
   "cell_type": "code",
   "execution_count": 24,
   "metadata": {},
   "outputs": [
    {
     "data": {
      "text/plain": [
       "['ok', 'ok', 'ok']"
      ]
     },
     "execution_count": 24,
     "metadata": {},
     "output_type": "execute_result"
    }
   ],
   "source": []
  }
 ],
 "metadata": {
  "kernelspec": {
   "display_name": "ml",
   "language": "python",
   "name": "python3"
  },
  "language_info": {
   "codemirror_mode": {
    "name": "ipython",
    "version": 3
   },
   "file_extension": ".py",
   "mimetype": "text/x-python",
   "name": "python",
   "nbconvert_exporter": "python",
   "pygments_lexer": "ipython3",
   "version": "3.10.12"
  }
 },
 "nbformat": 4,
 "nbformat_minor": 2
}

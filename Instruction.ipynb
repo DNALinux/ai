{
 "cells": [
  {
   "cell_type": "code",
   "execution_count": 2,
   "metadata": {},
   "outputs": [],
   "source": [
    "from rag_llama3 import RAG as rag\n",
    "from rag_llama3 import TextExtractor as te\n",
    "from rag_llama3 import VectorDB as vdb"
   ]
  },
  {
   "cell_type": "markdown",
   "metadata": {},
   "source": [
    "#### Load Configuration"
   ]
  },
  {
   "cell_type": "code",
   "execution_count": 4,
   "metadata": {},
   "outputs": [],
   "source": [
    "# Load configuration, please insert the path to your configuration file. Edit your path before you load it.\n",
    "config = rag.load_config('/home/tagore/repos/ai/rag_llama3/config.yaml')\n",
    "\n",
    "# Extract configuration values\n",
    "vector_db_config = config.get('vector_db')\n",
    "input_dir = vector_db_config.get('input_dir')\n",
    "output_dir = vector_db_config.get('output_dir')\n",
    "urls_path = vector_db_config.get('urls_path')\n",
    "chroma_db_dir = vector_db_config.get('chroma_db_dir')\n",
    "chroma_db_name = vector_db_config.get('chroma_db_name')\n",
    "model = vector_db_config.get('model')"
   ]
  },
  {
   "cell_type": "markdown",
   "metadata": {},
   "source": [
    "#### Directory Setup and Initiate Database\n",
    "\n",
    "If you have previously run this step, you can still do this step to access your existing database."
   ]
  },
  {
   "cell_type": "code",
   "execution_count": 6,
   "metadata": {},
   "outputs": [],
   "source": [
    "test_vector_db = vdb(input_dir, output_dir,urls_path, chroma_db_dir, chroma_db_name)"
   ]
  },
  {
   "cell_type": "markdown",
   "metadata": {},
   "source": [
    "#### Load Data\n",
    "\n",
    "if you reload existing data, it will not overwrite. The best practice of updating is to first delete, then run this step again. Be careful that this will load everything that you put in the directory."
   ]
  },
  {
   "cell_type": "code",
   "execution_count": 8,
   "metadata": {},
   "outputs": [
    {
     "name": "stdout",
     "output_type": "stream",
     "text": [
      "Loading data from PDFs...\n",
      "Processing PDF: /home/tagore/repos/ai/data/example_data/nwutils.pdf\n"
     ]
    },
    {
     "name": "stderr",
     "output_type": "stream",
     "text": [
      "WARNING:chromadb.segment.impl.vector.local_persistent_hnsw:Add of existing embedding ID: dc8d309289288f7bd49fdf291fcb8061\n",
      "WARNING:chromadb.segment.impl.vector.local_persistent_hnsw:Add of existing embedding ID: 42835f45f2042b7648ef9c46ce296c99\n",
      "WARNING:chromadb.segment.impl.vector.local_persistent_hnsw:Add of existing embedding ID: d4e285b0f059604087adc1c9b9132420\n",
      "WARNING:chromadb.segment.impl.vector.local_persistent_hnsw:Add of existing embedding ID: 9ab703da5fa63feb670729650f584c7e\n",
      "WARNING:chromadb.segment.impl.vector.local_persistent_hnsw:Add of existing embedding ID: 5d89bc8ca2bfb9f0dc064fd2d6bc01de\n",
      "WARNING:chromadb.segment.impl.vector.local_persistent_hnsw:Add of existing embedding ID: 751c018e257390c9b2d54cd1e5a9a334\n",
      "WARNING:chromadb.segment.impl.vector.local_persistent_hnsw:Add of existing embedding ID: a17cf579c13fa94f79abbbb96fbcbbcb\n",
      "WARNING:chromadb.segment.impl.vector.local_persistent_hnsw:Add of existing embedding ID: 62fccbdb1a4cdf88109747136fda1a1f\n",
      "WARNING:chromadb.segment.impl.vector.local_persistent_hnsw:Add of existing embedding ID: 8b0f33fb455912cf18a3f9b8f45715bb\n",
      "WARNING:chromadb.segment.impl.vector.local_persistent_hnsw:Add of existing embedding ID: a7baf1aa2230ff7b6de232f2ecdaf27a\n",
      "WARNING:chromadb.segment.impl.vector.local_persistent_hnsw:Add of existing embedding ID: 4bf9f5d586469b39304755611ecca1eb\n",
      "WARNING:chromadb.segment.impl.vector.local_persistent_hnsw:Add of existing embedding ID: fa34abd1f56c564af77e2e1bd3359b68\n",
      "WARNING:chromadb.segment.impl.vector.local_persistent_hnsw:Add of existing embedding ID: 50e17141b25ba39892e74cefcf902040\n",
      "WARNING:chromadb.segment.impl.vector.local_persistent_hnsw:Add of existing embedding ID: 39db86788fa0c0ccc75ac941353c2f77\n",
      "WARNING:chromadb.segment.impl.vector.local_persistent_hnsw:Add of existing embedding ID: a1a7dd52b6978f75507bfa9932c5658e\n",
      "WARNING:chromadb.segment.impl.vector.local_persistent_hnsw:Add of existing embedding ID: a6f9559692b8c528155f2479fb6f4ff5\n",
      "WARNING:chromadb.segment.impl.vector.local_persistent_hnsw:Add of existing embedding ID: ae431775372abb5b1dc01f28df47af6b\n",
      "WARNING:chromadb.segment.impl.vector.local_persistent_hnsw:Add of existing embedding ID: dc28c88b7ffc1a59e71080ca47b97a7d\n",
      "WARNING:chromadb.segment.impl.vector.local_persistent_hnsw:Add of existing embedding ID: 6deeecfefc71bb5e984f52ac41a60b0d\n",
      "WARNING:chromadb.segment.impl.vector.local_persistent_hnsw:Add of existing embedding ID: 344974d6c26b9146e887897607969a9f\n",
      "WARNING:chromadb.segment.impl.vector.local_persistent_hnsw:Add of existing embedding ID: 3801953ff7c750443940bcec68501498\n",
      "WARNING:chromadb.segment.impl.vector.local_persistent_hnsw:Add of existing embedding ID: 7934d4d96d894830981b5b16f5504945\n",
      "WARNING:chromadb.segment.impl.vector.local_persistent_hnsw:Add of existing embedding ID: 9226a3ed42594570a4c05234840b81bf\n",
      "WARNING:chromadb.segment.impl.vector.local_persistent_hnsw:Add of existing embedding ID: 50287d014afe4dfbe840c07d586de0c0\n",
      "WARNING:chromadb.segment.impl.vector.local_persistent_hnsw:Add of existing embedding ID: 8e0a08fe35562f3843086580f7050e10\n",
      "WARNING:chromadb.segment.impl.vector.local_persistent_hnsw:Add of existing embedding ID: d60f341c5f6d1cca8cc20751daab5e15\n",
      "WARNING:chromadb.segment.impl.vector.local_persistent_hnsw:Add of existing embedding ID: 91d69d41517d09d7b8aeb1a16869a18c\n",
      "WARNING:chromadb.segment.impl.vector.local_persistent_hnsw:Add of existing embedding ID: 87a9ec8f50c1f355c7ce72404dbcff91\n",
      "WARNING:chromadb.segment.impl.vector.local_persistent_hnsw:Add of existing embedding ID: 9274f25c67f9db18b31da1a5a9275f27\n",
      "WARNING:chromadb.segment.impl.vector.local_persistent_hnsw:Add of existing embedding ID: 94e20b4f46dfa546c9379496e18e8428\n",
      "WARNING:chromadb.segment.impl.vector.local_persistent_hnsw:Add of existing embedding ID: b9f85d4bd124d81a6257ac7b817d0757\n",
      "WARNING:chromadb.segment.impl.vector.local_persistent_hnsw:Add of existing embedding ID: 40997ce6afc1585d40b3012b35a7af51\n",
      "WARNING:chromadb.segment.impl.vector.local_persistent_hnsw:Add of existing embedding ID: b569296d8ac6839c68a95bd3d78bb81b\n",
      "WARNING:chromadb.segment.impl.vector.local_persistent_hnsw:Add of existing embedding ID: a52f69df66d74bab1d33a5a008c6c6d4\n",
      "WARNING:chromadb.segment.impl.vector.local_persistent_hnsw:Add of existing embedding ID: aa385ba225caad5cf7012e37a522c714\n",
      "WARNING:chromadb.segment.impl.vector.local_persistent_hnsw:Add of existing embedding ID: 54963d9c8e2ea493a3977be80fc12bd2\n",
      "WARNING:chromadb.segment.impl.vector.local_persistent_hnsw:Add of existing embedding ID: cd1d5f0fff2194b36fe1e43ba3c50fcd\n",
      "WARNING:chromadb.segment.impl.vector.local_persistent_hnsw:Add of existing embedding ID: f288e4ea59d8aee088834f14315fc636\n",
      "WARNING:chromadb.segment.impl.vector.local_persistent_hnsw:Add of existing embedding ID: d55164d7aeddd4cf49d55a8d19b9a5fb\n",
      "WARNING:chromadb.segment.impl.vector.local_persistent_hnsw:Add of existing embedding ID: a17c1e1652ca80af9cd44d37a2e2c330\n",
      "WARNING:chromadb.segment.impl.vector.local_persistent_hnsw:Add of existing embedding ID: 9fa0d7e1f0c468ee1109935106974788\n",
      "WARNING:chromadb.segment.impl.vector.local_persistent_hnsw:Add of existing embedding ID: f59e35bc2b2f9854b32d2fd2c11aef34\n",
      "WARNING:chromadb.segment.impl.vector.local_persistent_hnsw:Add of existing embedding ID: 478558745d632899608df0641a99ad3f\n",
      "WARNING:chromadb.segment.impl.vector.local_persistent_hnsw:Add of existing embedding ID: af8bc842748383e480969afbf57ef1af\n",
      "WARNING:chromadb.segment.impl.vector.local_persistent_hnsw:Add of existing embedding ID: 985153ec11b84de17258e5e9ccf64dc6\n",
      "WARNING:chromadb.segment.impl.vector.local_persistent_hnsw:Add of existing embedding ID: b51f233a66f07553fca6154408be8538\n",
      "WARNING:chromadb.segment.impl.vector.local_persistent_hnsw:Add of existing embedding ID: fe4d20c24e514a1ea646ce4b7a3f5e2e\n",
      "WARNING:chromadb.segment.impl.vector.local_persistent_hnsw:Add of existing embedding ID: 44a31395076b1cd57bb7bde434e46611\n",
      "WARNING:chromadb.segment.impl.vector.local_persistent_hnsw:Add of existing embedding ID: 6dead76b5e651bb509328ca80e24f3ca\n"
     ]
    },
    {
     "name": "stdout",
     "output_type": "stream",
     "text": [
      "Processing PDF: /home/tagore/repos/ai/data/example_data/GeMoMa-manual.pdf\n"
     ]
    },
    {
     "name": "stderr",
     "output_type": "stream",
     "text": [
      "WARNING:chromadb.segment.impl.vector.local_persistent_hnsw:Add of existing embedding ID: 4e29cea4fc62824e580601e53f87d4a9\n",
      "WARNING:chromadb.segment.impl.vector.local_persistent_hnsw:Add of existing embedding ID: 94132b9b77aef218f70f88abc2ec9447\n",
      "WARNING:chromadb.segment.impl.vector.local_persistent_hnsw:Add of existing embedding ID: 66cc91a31165b6fb45ca5a7e9f8c5331\n",
      "WARNING:chromadb.segment.impl.vector.local_persistent_hnsw:Add of existing embedding ID: 5d7db1ca6cda491cac2d2717ef32a821\n",
      "WARNING:chromadb.segment.impl.vector.local_persistent_hnsw:Add of existing embedding ID: 98d94f1a3486fb4c26aa440f5f77f822\n",
      "WARNING:chromadb.segment.impl.vector.local_persistent_hnsw:Add of existing embedding ID: 16173a32cd38d18e0b8af1a4b9f9c8c7\n",
      "WARNING:chromadb.segment.impl.vector.local_persistent_hnsw:Add of existing embedding ID: 44c6aa4290bb96790eae919b077e3782\n",
      "WARNING:chromadb.segment.impl.vector.local_persistent_hnsw:Add of existing embedding ID: 32b77ebd1b0e8dfbbd92c6525ec76648\n",
      "WARNING:chromadb.segment.impl.vector.local_persistent_hnsw:Add of existing embedding ID: ea24f9ff7880337ca32d23044c4e0e24\n",
      "WARNING:chromadb.segment.impl.vector.local_persistent_hnsw:Add of existing embedding ID: 5412e18b2d466ebd3e2fff378179a4fe\n",
      "WARNING:chromadb.segment.impl.vector.local_persistent_hnsw:Add of existing embedding ID: 83690d57ef7cfff9c0184bc2274e0893\n",
      "WARNING:chromadb.segment.impl.vector.local_persistent_hnsw:Add of existing embedding ID: 4269fc55a45153cd8917bbbc74cf2956\n",
      "WARNING:chromadb.segment.impl.vector.local_persistent_hnsw:Add of existing embedding ID: a9473d8df5ccd2978db69fda32b26099\n",
      "WARNING:chromadb.segment.impl.vector.local_persistent_hnsw:Add of existing embedding ID: 34c28388204a377972070d005287ac32\n",
      "WARNING:chromadb.segment.impl.vector.local_persistent_hnsw:Add of existing embedding ID: 7d00d3c66b9cea938840dcfc3bb73247\n",
      "WARNING:chromadb.segment.impl.vector.local_persistent_hnsw:Add of existing embedding ID: 85b499d39f77bd8a8c7f4722dac9511e\n",
      "WARNING:chromadb.segment.impl.vector.local_persistent_hnsw:Add of existing embedding ID: 571d9e4d38b7b25d620bf43c0fdd75c7\n",
      "WARNING:chromadb.segment.impl.vector.local_persistent_hnsw:Add of existing embedding ID: e1df2289c7aafbab5b433586ad0ce6c8\n",
      "WARNING:chromadb.segment.impl.vector.local_persistent_hnsw:Add of existing embedding ID: 2c69beb02d7f286730c57f7a0d6ccc9a\n",
      "WARNING:chromadb.segment.impl.vector.local_persistent_hnsw:Add of existing embedding ID: 7926fc1a1f8cf2dbd8bb242fc7f88571\n",
      "WARNING:pypdf._reader:Ignoring wrong pointing object 10 0 (offset 0)\n",
      "WARNING:pypdf._reader:Ignoring wrong pointing object 12 0 (offset 0)\n",
      "WARNING:pypdf._reader:Ignoring wrong pointing object 14 0 (offset 0)\n",
      "WARNING:pypdf._reader:Ignoring wrong pointing object 24 0 (offset 0)\n",
      "ERROR:root:Error adding data to vector database: Expected IDs to be a non-empty list, got 0 IDs\n"
     ]
    },
    {
     "name": "stdout",
     "output_type": "stream",
     "text": [
      "Processing PDF: /home/tagore/repos/ai/data/example_data/DeepTE.pdf\n",
      "Processing PDF: /home/tagore/repos/ai/data/example_data/EDTA.pdf\n"
     ]
    },
    {
     "name": "stderr",
     "output_type": "stream",
     "text": [
      "WARNING:chromadb.segment.impl.vector.local_persistent_hnsw:Add of existing embedding ID: 8657921d4759591cbeb1866383e40d7d\n",
      "WARNING:chromadb.segment.impl.vector.local_persistent_hnsw:Add of existing embedding ID: e407a9015eb768df297d8a14eea1418f\n",
      "WARNING:chromadb.segment.impl.vector.local_persistent_hnsw:Add of existing embedding ID: c1f20bddd84e89c48d3e53c518d71fe4\n",
      "WARNING:chromadb.segment.impl.vector.local_persistent_hnsw:Add of existing embedding ID: dea5a51ac3e471ec83edf586f755c1dc\n",
      "WARNING:chromadb.segment.impl.vector.local_persistent_hnsw:Add of existing embedding ID: 606bef296db80d7dac748dc73ec4a1f5\n",
      "WARNING:chromadb.segment.impl.vector.local_persistent_hnsw:Add of existing embedding ID: 55673df8e447021e8c41355c09cc147a\n",
      "WARNING:chromadb.segment.impl.vector.local_persistent_hnsw:Add of existing embedding ID: 5e9854617cd88aeb25c552a6ad1a1b7f\n",
      "WARNING:chromadb.segment.impl.vector.local_persistent_hnsw:Add of existing embedding ID: 77926f2e8cf37b3613165ff203c7f746\n",
      "WARNING:chromadb.segment.impl.vector.local_persistent_hnsw:Add of existing embedding ID: d467fe7023d9be7c8dc88cffc25144a7\n",
      "WARNING:chromadb.segment.impl.vector.local_persistent_hnsw:Add of existing embedding ID: 88ccc7e38826317ae693d6672145097e\n",
      "WARNING:chromadb.segment.impl.vector.local_persistent_hnsw:Add of existing embedding ID: 3be32cc5f943975217e529517ad958f3\n",
      "WARNING:chromadb.segment.impl.vector.local_persistent_hnsw:Add of existing embedding ID: 10d9f2ea17d6d1881d933bc8e809d10c\n",
      "WARNING:chromadb.segment.impl.vector.local_persistent_hnsw:Add of existing embedding ID: e225f46efb84445e7551ab705c804ac8\n"
     ]
    },
    {
     "name": "stdout",
     "output_type": "stream",
     "text": [
      "Processing PDF: /home/tagore/repos/ai/data/example_data/BRAKER.pdf\n"
     ]
    },
    {
     "name": "stderr",
     "output_type": "stream",
     "text": [
      "WARNING:chromadb.segment.impl.vector.local_persistent_hnsw:Add of existing embedding ID: 8c1fda1f3e9a2d0fd4d4c861fe3fb138\n",
      "WARNING:chromadb.segment.impl.vector.local_persistent_hnsw:Add of existing embedding ID: a5fface09c9cd6ec0dfa4771bc92facd\n",
      "WARNING:chromadb.segment.impl.vector.local_persistent_hnsw:Add of existing embedding ID: ae5ee4ec57f48f39cee8070cc0b2a59b\n",
      "WARNING:chromadb.segment.impl.vector.local_persistent_hnsw:Add of existing embedding ID: afb22b14a48309cee34ee72901222faa\n",
      "WARNING:chromadb.segment.impl.vector.local_persistent_hnsw:Add of existing embedding ID: b05aaf8b6c679497e9195f198b28da1d\n",
      "WARNING:chromadb.segment.impl.vector.local_persistent_hnsw:Add of existing embedding ID: df9c1dafe614d1b307828a57cb09ef19\n",
      "WARNING:chromadb.segment.impl.vector.local_persistent_hnsw:Add of existing embedding ID: a41ba32d5a58bcd3322c20b99980583b\n",
      "WARNING:chromadb.segment.impl.vector.local_persistent_hnsw:Add of existing embedding ID: 689d2b5153bf97a7fb4e8bbd97b375a5\n",
      "WARNING:chromadb.segment.impl.vector.local_persistent_hnsw:Add of existing embedding ID: b1c4f59ef7ba25a767f2b84fe22ffc84\n",
      "WARNING:chromadb.segment.impl.vector.local_persistent_hnsw:Add of existing embedding ID: 866a96f05efb27ee53850131d8822a03\n",
      "WARNING:chromadb.segment.impl.vector.local_persistent_hnsw:Add of existing embedding ID: ea1dd8ef294309f963ad8955616496b9\n",
      "WARNING:chromadb.segment.impl.vector.local_persistent_hnsw:Add of existing embedding ID: c330f30b66a30a24977b95be62966726\n",
      "WARNING:chromadb.segment.impl.vector.local_persistent_hnsw:Add of existing embedding ID: f43be75f17d3d4cafaf7693c5ee87dee\n",
      "WARNING:chromadb.segment.impl.vector.local_persistent_hnsw:Add of existing embedding ID: ee804d446b51a5163731e5bca07e2603\n",
      "WARNING:chromadb.segment.impl.vector.local_persistent_hnsw:Add of existing embedding ID: 72aca9c1b0c8dc0ac99e465a50479830\n",
      "WARNING:chromadb.segment.impl.vector.local_persistent_hnsw:Add of existing embedding ID: e0eca152bc9ac392ca3ef2038dc501ff\n",
      "WARNING:chromadb.segment.impl.vector.local_persistent_hnsw:Add of existing embedding ID: e1ac44759eb9ddc3f654d06380f78008\n",
      "WARNING:chromadb.segment.impl.vector.local_persistent_hnsw:Add of existing embedding ID: c2d5107941be08999df2967f7dbb7066\n",
      "WARNING:chromadb.segment.impl.vector.local_persistent_hnsw:Add of existing embedding ID: bd2a439d5ab2bba4bc5947a54ac8e2f3\n",
      "WARNING:chromadb.segment.impl.vector.local_persistent_hnsw:Add of existing embedding ID: f89c01499825524aec2b795c35cdd28c\n",
      "WARNING:chromadb.segment.impl.vector.local_persistent_hnsw:Add of existing embedding ID: 6a99459622fdd1fc828aa36d2b5c1a31\n",
      "WARNING:chromadb.segment.impl.vector.local_persistent_hnsw:Add of existing embedding ID: 969c4a6cf629117a61934dcdd2039a31\n",
      "WARNING:chromadb.segment.impl.vector.local_persistent_hnsw:Add of existing embedding ID: 8328b3a9b05ec5f0ec86e928a97d8f6f\n",
      "WARNING:chromadb.segment.impl.vector.local_persistent_hnsw:Add of existing embedding ID: d1db6081685a06dc34d3a54c5bd883ff\n",
      "WARNING:chromadb.segment.impl.vector.local_persistent_hnsw:Add of existing embedding ID: caf06f57e067aee6d16186be1c1c36ce\n",
      "WARNING:chromadb.segment.impl.vector.local_persistent_hnsw:Add of existing embedding ID: 80a58f1be36fb7eba15f7b87bc262b1a\n",
      "WARNING:chromadb.segment.impl.vector.local_persistent_hnsw:Add of existing embedding ID: e35a6842564bd2a84d261a230a1e7b65\n",
      "WARNING:chromadb.segment.impl.vector.local_persistent_hnsw:Add of existing embedding ID: 694a5ec5dc3f5d0ca150b8a9f88ef620\n",
      "WARNING:chromadb.segment.impl.vector.local_persistent_hnsw:Add of existing embedding ID: 98c6a4e3f4e43647334c1be19e9f87d6\n",
      "WARNING:chromadb.segment.impl.vector.local_persistent_hnsw:Add of existing embedding ID: f8331a19351332d1b7d6042d16d63c49\n"
     ]
    },
    {
     "name": "stdout",
     "output_type": "stream",
     "text": [
      "Processing PDF: /home/tagore/repos/ai/data/example_data/MMseqs2.pdf\n"
     ]
    },
    {
     "name": "stderr",
     "output_type": "stream",
     "text": [
      "WARNING:chromadb.segment.impl.vector.local_persistent_hnsw:Add of existing embedding ID: a7d42ed879e880a95451f21a5e6a9006\n",
      "WARNING:chromadb.segment.impl.vector.local_persistent_hnsw:Add of existing embedding ID: f41857feb6a292ff0d15d2d2b6a963e0\n",
      "WARNING:chromadb.segment.impl.vector.local_persistent_hnsw:Add of existing embedding ID: b59fc76d9b47fdbc39a98a17ce7356d1\n",
      "WARNING:chromadb.segment.impl.vector.local_persistent_hnsw:Add of existing embedding ID: db9611a1c1215b49d102d6736294fbb9\n",
      "WARNING:chromadb.segment.impl.vector.local_persistent_hnsw:Add of existing embedding ID: 9dad45eace28f87ba0374b21f0eb50ff\n",
      "WARNING:chromadb.segment.impl.vector.local_persistent_hnsw:Add of existing embedding ID: a781dfcd326a5cccdaa5e80ab5db758a\n",
      "WARNING:chromadb.segment.impl.vector.local_persistent_hnsw:Add of existing embedding ID: b0f434c560e1f2f77ccd5cbb86589cd1\n",
      "WARNING:chromadb.segment.impl.vector.local_persistent_hnsw:Add of existing embedding ID: fb0f9a1f5b2e17327f5e89e56193033f\n",
      "WARNING:chromadb.segment.impl.vector.local_persistent_hnsw:Add of existing embedding ID: ca24b05c990cfe0635befdb006b8af1b\n",
      "WARNING:chromadb.segment.impl.vector.local_persistent_hnsw:Add of existing embedding ID: 9cfcc921a8fdae50e1585270af14aa91\n",
      "WARNING:chromadb.segment.impl.vector.local_persistent_hnsw:Add of existing embedding ID: a219bd7947a9f9b5f72fbfa85e2c9887\n",
      "WARNING:chromadb.segment.impl.vector.local_persistent_hnsw:Add of existing embedding ID: cfe32996c93ea8440c1b95399661ec72\n",
      "WARNING:chromadb.segment.impl.vector.local_persistent_hnsw:Add of existing embedding ID: d55688ed5a84b1c235c76bee1c4d2a72\n",
      "WARNING:chromadb.segment.impl.vector.local_persistent_hnsw:Add of existing embedding ID: e0e74c63472b52d07b31f9cbbe647287\n",
      "WARNING:chromadb.segment.impl.vector.local_persistent_hnsw:Add of existing embedding ID: fdc20ac29a9624767e6e621aa5b32797\n",
      "WARNING:chromadb.segment.impl.vector.local_persistent_hnsw:Add of existing embedding ID: e6f663c456c7535de797ec17ad9b73d8\n",
      "WARNING:chromadb.segment.impl.vector.local_persistent_hnsw:Add of existing embedding ID: 9f6b87cd27bbb3be21c9b127efc122b4\n",
      "WARNING:chromadb.segment.impl.vector.local_persistent_hnsw:Add of existing embedding ID: 99c97ec8ae23206b45bd8c4783bce058\n",
      "WARNING:chromadb.segment.impl.vector.local_persistent_hnsw:Add of existing embedding ID: d611948b78d543950fff1611ec22ed5f\n",
      "WARNING:chromadb.segment.impl.vector.local_persistent_hnsw:Add of existing embedding ID: e6323b63dd4b3efbcf79de7b06b91fbf\n",
      "WARNING:chromadb.segment.impl.vector.local_persistent_hnsw:Add of existing embedding ID: f515a8def33714798662a3a0f24fed17\n",
      "WARNING:chromadb.segment.impl.vector.local_persistent_hnsw:Add of existing embedding ID: ae2598fc3eb554224b0be3b403abf1b8\n",
      "WARNING:chromadb.segment.impl.vector.local_persistent_hnsw:Add of existing embedding ID: 9ebb36c83eec59259f6127df9178585e\n",
      "WARNING:chromadb.segment.impl.vector.local_persistent_hnsw:Add of existing embedding ID: c36159f28172d57147e1a73e6cb8c2c3\n",
      "WARNING:chromadb.segment.impl.vector.local_persistent_hnsw:Add of existing embedding ID: b8a6a49bd31e457f4aaca30ed96cfd2a\n",
      "WARNING:chromadb.segment.impl.vector.local_persistent_hnsw:Add of existing embedding ID: e1293439f56fb31f218bdae4f89401a5\n",
      "WARNING:chromadb.segment.impl.vector.local_persistent_hnsw:Add of existing embedding ID: e8b9f452e3d5f1e9671d987e64dccb14\n",
      "WARNING:chromadb.segment.impl.vector.local_persistent_hnsw:Add of existing embedding ID: f146e92d51d9fce9224cfe53f2ea5408\n",
      "WARNING:chromadb.segment.impl.vector.local_persistent_hnsw:Add of existing embedding ID: fd0b7713b6612ef4c6343f660a5d660d\n",
      "WARNING:chromadb.segment.impl.vector.local_persistent_hnsw:Add of existing embedding ID: a8247a0685b60c57879e52fade02a8f0\n",
      "WARNING:chromadb.segment.impl.vector.local_persistent_hnsw:Add of existing embedding ID: 9c498314ee2cd56d0786997ebf568d21\n"
     ]
    },
    {
     "name": "stdout",
     "output_type": "stream",
     "text": [
      "Processing PDF: /home/tagore/repos/ai/data/example_data/BBTools.pdf\n"
     ]
    },
    {
     "name": "stderr",
     "output_type": "stream",
     "text": [
      "WARNING:chromadb.segment.impl.vector.local_persistent_hnsw:Add of existing embedding ID: cfaf2624530693bf425bd8cfdaab9c1a\n",
      "WARNING:chromadb.segment.impl.vector.local_persistent_hnsw:Add of existing embedding ID: 8722d2009ed550adb2065519e48ecd60\n",
      "WARNING:chromadb.segment.impl.vector.local_persistent_hnsw:Add of existing embedding ID: ff8317715346a6547043f23bb350dee5\n",
      "WARNING:chromadb.segment.impl.vector.local_persistent_hnsw:Add of existing embedding ID: a074a19eabca2479764b4a75a4244eb0\n",
      "WARNING:chromadb.segment.impl.vector.local_persistent_hnsw:Add of existing embedding ID: dfb569ec95eb2466797fd404fd96f3a8\n",
      "WARNING:chromadb.segment.impl.vector.local_persistent_hnsw:Add of existing embedding ID: 582aa33a3a28f7ceb114ef748ae5ad65\n",
      "WARNING:chromadb.segment.impl.vector.local_persistent_hnsw:Add of existing embedding ID: f4326ffe156e91a1aa3d98cd9f10d3dd\n",
      "WARNING:chromadb.segment.impl.vector.local_persistent_hnsw:Add of existing embedding ID: c22be87212d999e7f9486949ef716b72\n",
      "WARNING:chromadb.segment.impl.vector.local_persistent_hnsw:Add of existing embedding ID: 839b17de1376b5a939e773c83ca88bbf\n",
      "WARNING:chromadb.segment.impl.vector.local_persistent_hnsw:Add of existing embedding ID: c2e76f28483402be1c93291f2799bc94\n",
      "WARNING:chromadb.segment.impl.vector.local_persistent_hnsw:Add of existing embedding ID: 6e57c8fe1676f4295ca4ad0c8e15adea\n",
      "WARNING:chromadb.segment.impl.vector.local_persistent_hnsw:Add of existing embedding ID: 9161caf242ee2f18ba4caf5a66e0a7c5\n",
      "WARNING:chromadb.segment.impl.vector.local_persistent_hnsw:Add of existing embedding ID: d9d40f75591267d7f1fb1aea89d1348f\n",
      "WARNING:chromadb.segment.impl.vector.local_persistent_hnsw:Add of existing embedding ID: fc38f46112d80d027512fd871c685b34\n",
      "WARNING:chromadb.segment.impl.vector.local_persistent_hnsw:Add of existing embedding ID: 872df14f04ed4570d4d3341f90f7f41f\n",
      "WARNING:chromadb.segment.impl.vector.local_persistent_hnsw:Add of existing embedding ID: 7e1d7c191298ad951c96883feecc4a9c\n",
      "WARNING:chromadb.segment.impl.vector.local_persistent_hnsw:Add of existing embedding ID: cc6301cc30c36c0c0c5d0086319884a7\n",
      "WARNING:chromadb.segment.impl.vector.local_persistent_hnsw:Add of existing embedding ID: 4fede078a4b4c45d3b56ec4f2783584a\n",
      "WARNING:chromadb.segment.impl.vector.local_persistent_hnsw:Add of existing embedding ID: 7ba30bc5d6e383f6dc1cff6d52f76e49\n",
      "WARNING:chromadb.segment.impl.vector.local_persistent_hnsw:Add of existing embedding ID: 911bd806c9171ff4c94c9e866699a544\n",
      "WARNING:chromadb.segment.impl.vector.local_persistent_hnsw:Add of existing embedding ID: e5151e9fcde62439323989e6931dfac3\n",
      "WARNING:chromadb.segment.impl.vector.local_persistent_hnsw:Add of existing embedding ID: 78609f44e17c7f6f4e927e9138d71408\n",
      "WARNING:chromadb.segment.impl.vector.local_persistent_hnsw:Add of existing embedding ID: e4c851b0a18aa5697a8de746347e5711\n"
     ]
    },
    {
     "name": "stdout",
     "output_type": "stream",
     "text": [
      "Processing PDF: /home/tagore/repos/ai/data/example_data/OrthoFinder.pdf\n"
     ]
    },
    {
     "name": "stderr",
     "output_type": "stream",
     "text": [
      "WARNING:chromadb.segment.impl.vector.local_persistent_hnsw:Add of existing embedding ID: e2c20ede130e341e7aa7fc4edaf4ea81\n",
      "WARNING:chromadb.segment.impl.vector.local_persistent_hnsw:Add of existing embedding ID: 3ee75d128d31dd4c3fe48358af457d6d\n",
      "WARNING:chromadb.segment.impl.vector.local_persistent_hnsw:Add of existing embedding ID: e55cd206ccc8fc5b77aa3ad71e22ecb0\n",
      "WARNING:chromadb.segment.impl.vector.local_persistent_hnsw:Add of existing embedding ID: e25fad30f981971bae7151af7ffaad88\n",
      "WARNING:chromadb.segment.impl.vector.local_persistent_hnsw:Add of existing embedding ID: ebbfc2abbf22d6947d6edc0c3bd0446e\n",
      "WARNING:chromadb.segment.impl.vector.local_persistent_hnsw:Add of existing embedding ID: 1b01c200cb8277e9ddaf9477987e4fe2\n",
      "WARNING:chromadb.segment.impl.vector.local_persistent_hnsw:Add of existing embedding ID: 05f3ccfb1e996efd9656bacd52014388\n",
      "WARNING:chromadb.segment.impl.vector.local_persistent_hnsw:Add of existing embedding ID: 94058a01b1f96cc9614ae5da853fc554\n",
      "WARNING:chromadb.segment.impl.vector.local_persistent_hnsw:Add of existing embedding ID: d4741d9db6a6a2b2e36ea6ab2ff591a0\n",
      "WARNING:chromadb.segment.impl.vector.local_persistent_hnsw:Add of existing embedding ID: e672f558c091fa011225bbada8be6549\n",
      "WARNING:chromadb.segment.impl.vector.local_persistent_hnsw:Add of existing embedding ID: 36e50ae8a7bd02e678f82cff8d9ab5d8\n",
      "WARNING:chromadb.segment.impl.vector.local_persistent_hnsw:Add of existing embedding ID: f3bfc7f706586fa484b5f013c2bfa4d7\n",
      "WARNING:chromadb.segment.impl.vector.local_persistent_hnsw:Add of existing embedding ID: 1831519a7e449381b2456254510c98a0\n",
      "WARNING:chromadb.segment.impl.vector.local_persistent_hnsw:Add of existing embedding ID: 5c4dd4763d4843a220e60d16ca244b04\n",
      "WARNING:chromadb.segment.impl.vector.local_persistent_hnsw:Add of existing embedding ID: 671980d78f83f6b2d244d983bfbdb818\n",
      "WARNING:chromadb.segment.impl.vector.local_persistent_hnsw:Add of existing embedding ID: be7c25276f28a141190ccaea401dabb9\n",
      "WARNING:chromadb.segment.impl.vector.local_persistent_hnsw:Add of existing embedding ID: 21004e7ed116374bf849043225f2236d\n"
     ]
    },
    {
     "name": "stdout",
     "output_type": "stream",
     "text": [
      "Processing PDF: /home/tagore/repos/ai/data/example_data/phylonet.pdf\n"
     ]
    },
    {
     "name": "stderr",
     "output_type": "stream",
     "text": [
      "WARNING:chromadb.segment.impl.vector.local_persistent_hnsw:Add of existing embedding ID: 57cef4138b0c5aa85f09dfa2ccd7e363\n",
      "WARNING:chromadb.segment.impl.vector.local_persistent_hnsw:Add of existing embedding ID: 8e689b43dec5e4032b33c85b4eef39a6\n",
      "WARNING:chromadb.segment.impl.vector.local_persistent_hnsw:Add of existing embedding ID: 0565a7bca4351a841f5a3faf7886f4cb\n",
      "WARNING:chromadb.segment.impl.vector.local_persistent_hnsw:Add of existing embedding ID: 734395aaaf23598df1d47a812c82d949\n",
      "WARNING:chromadb.segment.impl.vector.local_persistent_hnsw:Add of existing embedding ID: 92f4f92a83c4e267830fdf704dcaa599\n",
      "WARNING:chromadb.segment.impl.vector.local_persistent_hnsw:Add of existing embedding ID: 7227687d35b5010f9628d3236dbadabe\n",
      "WARNING:chromadb.segment.impl.vector.local_persistent_hnsw:Add of existing embedding ID: 18aa9924cf150ea0b0fead1ae920ee03\n",
      "WARNING:chromadb.segment.impl.vector.local_persistent_hnsw:Add of existing embedding ID: 207f49f6e44ed23b35b572ae5ab8adb2\n",
      "WARNING:chromadb.segment.impl.vector.local_persistent_hnsw:Add of existing embedding ID: 3c969d3a58779b1cf91c9d05c69f54f9\n",
      "WARNING:chromadb.segment.impl.vector.local_persistent_hnsw:Add of existing embedding ID: 9d71077f948a7ea8af8ab6348d506637\n",
      "WARNING:chromadb.segment.impl.vector.local_persistent_hnsw:Add of existing embedding ID: 1721d95df91512095f1b16377c3cc5f8\n",
      "WARNING:chromadb.segment.impl.vector.local_persistent_hnsw:Add of existing embedding ID: f82485d4b20ad5305890a653f84c9d27\n",
      "WARNING:chromadb.segment.impl.vector.local_persistent_hnsw:Add of existing embedding ID: 5b005b83cdd6c83473ca5b8bca10f18f\n",
      "WARNING:chromadb.segment.impl.vector.local_persistent_hnsw:Add of existing embedding ID: b796d8184f7ac39eaac51ef34353d961\n",
      "WARNING:chromadb.segment.impl.vector.local_persistent_hnsw:Add of existing embedding ID: ba2c3489c8e1ac97ab5a41e30fe6a2b0\n",
      "WARNING:chromadb.segment.impl.vector.local_persistent_hnsw:Add of existing embedding ID: 02fbcab1646d8fa7fc98018e4e1c1a38\n",
      "WARNING:chromadb.segment.impl.vector.local_persistent_hnsw:Add of existing embedding ID: 4719c130dfcd8afcd7c9c48521a96664\n",
      "WARNING:chromadb.segment.impl.vector.local_persistent_hnsw:Add of existing embedding ID: 1416fe0e34999f90bd0f1fc7763eddf9\n",
      "WARNING:chromadb.segment.impl.vector.local_persistent_hnsw:Add of existing embedding ID: 10095b3d5904f459cdab857659190378\n",
      "WARNING:chromadb.segment.impl.vector.local_persistent_hnsw:Add of existing embedding ID: b79915dca601ffab3b7cfa89845faaa9\n",
      "WARNING:chromadb.segment.impl.vector.local_persistent_hnsw:Add of existing embedding ID: 1927531e9773e2d8d7f00e703f6a697a\n",
      "WARNING:chromadb.segment.impl.vector.local_persistent_hnsw:Add of existing embedding ID: c4885bc194167c6d874fe36c061ff324\n",
      "WARNING:chromadb.segment.impl.vector.local_persistent_hnsw:Add of existing embedding ID: c7b53a7e75c3fa5e78b88f7b3a130e5e\n",
      "WARNING:chromadb.segment.impl.vector.local_persistent_hnsw:Add of existing embedding ID: 4b34747ef2cba3f94b93938f1eea4c2b\n",
      "WARNING:chromadb.segment.impl.vector.local_persistent_hnsw:Add of existing embedding ID: bfcf55c3bc598692e9a841a9abd0a8cc\n",
      "WARNING:chromadb.segment.impl.vector.local_persistent_hnsw:Add of existing embedding ID: ef84a4ce0884f65ac6d7193cc2fab032\n",
      "WARNING:chromadb.segment.impl.vector.local_persistent_hnsw:Add of existing embedding ID: 82758ff622418540c5f32a56ec041cec\n",
      "WARNING:chromadb.segment.impl.vector.local_persistent_hnsw:Add of existing embedding ID: de21e5ec0b01ea909f758c0a67856b90\n",
      "WARNING:chromadb.segment.impl.vector.local_persistent_hnsw:Add of existing embedding ID: 1d9baacc1ff63a80a503c230dc405195\n",
      "WARNING:chromadb.segment.impl.vector.local_persistent_hnsw:Add of existing embedding ID: 48c1ff9383d0412e0c0203d39d3902f1\n",
      "WARNING:chromadb.segment.impl.vector.local_persistent_hnsw:Add of existing embedding ID: e347916a4b3b2327557a18f37713d654\n",
      "WARNING:chromadb.segment.impl.vector.local_persistent_hnsw:Add of existing embedding ID: b550c179093cc59d26d37bcb1cb74aab\n",
      "WARNING:chromadb.segment.impl.vector.local_persistent_hnsw:Add of existing embedding ID: 7391b4d728c261208d6bd90c21192c52\n",
      "WARNING:chromadb.segment.impl.vector.local_persistent_hnsw:Add of existing embedding ID: 87805c419218c1a97a65582113e315fa\n",
      "WARNING:chromadb.segment.impl.vector.local_persistent_hnsw:Add of existing embedding ID: d4d71eab61f6e5f32b3f2a01d73a4540\n",
      "WARNING:chromadb.segment.impl.vector.local_persistent_hnsw:Add of existing embedding ID: 8d178743c13d63c650a4235ceec86d7c\n",
      "WARNING:chromadb.segment.impl.vector.local_persistent_hnsw:Add of existing embedding ID: bfebb6c1f9e390517e9cdb251c070e75\n",
      "WARNING:chromadb.segment.impl.vector.local_persistent_hnsw:Add of existing embedding ID: 523a2953c43728de31aac955e29ca2de\n",
      "WARNING:chromadb.segment.impl.vector.local_persistent_hnsw:Add of existing embedding ID: 825eecc53755374b076f211f3f221e0b\n",
      "WARNING:chromadb.segment.impl.vector.local_persistent_hnsw:Add of existing embedding ID: 1fecd5501d1380742b035309721ce03e\n",
      "WARNING:chromadb.segment.impl.vector.local_persistent_hnsw:Add of existing embedding ID: b613a6fb09d87b27ab88faffe29ac8e7\n"
     ]
    },
    {
     "name": "stdout",
     "output_type": "stream",
     "text": [
      "Processing PDF: /home/tagore/repos/ai/data/example_data/eggNOG.pdf\n"
     ]
    },
    {
     "name": "stderr",
     "output_type": "stream",
     "text": [
      "WARNING:chromadb.segment.impl.vector.local_persistent_hnsw:Add of existing embedding ID: c1a1afd046a6a7ad2cd49a996a5144f5\n",
      "WARNING:chromadb.segment.impl.vector.local_persistent_hnsw:Add of existing embedding ID: c21b6afcda45900328673b47c7279ea9\n",
      "WARNING:chromadb.segment.impl.vector.local_persistent_hnsw:Add of existing embedding ID: eefcfced287da6341f306db930dc06ec\n",
      "WARNING:chromadb.segment.impl.vector.local_persistent_hnsw:Add of existing embedding ID: 62ff1bb5ce0fd9f06f0ff0a9eaca55ed\n",
      "WARNING:chromadb.segment.impl.vector.local_persistent_hnsw:Add of existing embedding ID: f1740e9893b747a6c7a9bc8505199d5d\n",
      "WARNING:chromadb.segment.impl.vector.local_persistent_hnsw:Add of existing embedding ID: a600b0b71f5ef9fc7c5cb7c5c7ecc2e6\n",
      "WARNING:chromadb.segment.impl.vector.local_persistent_hnsw:Add of existing embedding ID: e4217fa0254db1e27d3ee0820f1bc105\n",
      "WARNING:chromadb.segment.impl.vector.local_persistent_hnsw:Add of existing embedding ID: a77e8a673fec66acb8e173326604e8e0\n",
      "WARNING:chromadb.segment.impl.vector.local_persistent_hnsw:Add of existing embedding ID: 50405bdd550e49aa23c5c62fd1f01d40\n",
      "WARNING:chromadb.segment.impl.vector.local_persistent_hnsw:Add of existing embedding ID: 8868946c97d1051e117e133d4c54ae3f\n",
      "WARNING:chromadb.segment.impl.vector.local_persistent_hnsw:Add of existing embedding ID: b7b551496ada1eefa10c6d5fbcc19f1c\n",
      "WARNING:chromadb.segment.impl.vector.local_persistent_hnsw:Add of existing embedding ID: 6fc248483edfbd4c86a051b0e558b997\n",
      "WARNING:chromadb.segment.impl.vector.local_persistent_hnsw:Add of existing embedding ID: c754864a5039b0f1501f3fc0f29b4794\n",
      "WARNING:chromadb.segment.impl.vector.local_persistent_hnsw:Add of existing embedding ID: a29c0e876267684e2bccdc4b7e2601d2\n",
      "WARNING:chromadb.segment.impl.vector.local_persistent_hnsw:Add of existing embedding ID: 98b04f40ad76906ba627280749f0a463\n",
      "WARNING:chromadb.segment.impl.vector.local_persistent_hnsw:Add of existing embedding ID: a2e27726a4315047fd2742b4efdd5b54\n",
      "WARNING:chromadb.segment.impl.vector.local_persistent_hnsw:Add of existing embedding ID: f231360b042e22def777682cfb96c8d2\n",
      "WARNING:chromadb.segment.impl.vector.local_persistent_hnsw:Add of existing embedding ID: def650d6cf24335699e0d44b4edc9251\n",
      "WARNING:chromadb.segment.impl.vector.local_persistent_hnsw:Add of existing embedding ID: a60e98a1cb9e5d2592097b52c574790c\n",
      "WARNING:chromadb.segment.impl.vector.local_persistent_hnsw:Add of existing embedding ID: 80fd9396d831af0f5f3f8e4c6142cdad\n",
      "WARNING:chromadb.segment.impl.vector.local_persistent_hnsw:Add of existing embedding ID: ba0952a321a1977603f1f14ffa023cea\n"
     ]
    },
    {
     "name": "stdout",
     "output_type": "stream",
     "text": [
      "Processing PDF: /home/tagore/repos/ai/data/example_data/Bookshelf_NBK279690.pdf\n"
     ]
    },
    {
     "name": "stderr",
     "output_type": "stream",
     "text": [
      "WARNING:chromadb.segment.impl.vector.local_persistent_hnsw:Add of existing embedding ID: ffbb1878a7f6315c2651c61349c043b0\n",
      "WARNING:chromadb.segment.impl.vector.local_persistent_hnsw:Add of existing embedding ID: f9bd857742467acd09fb4fff57e6b9a3\n",
      "WARNING:chromadb.segment.impl.vector.local_persistent_hnsw:Add of existing embedding ID: e3845a78223c9fd99c6ce104d3398714\n",
      "WARNING:chromadb.segment.impl.vector.local_persistent_hnsw:Add of existing embedding ID: e8cc5bda9098bdbb2e2040e1c440bd6f\n",
      "WARNING:chromadb.segment.impl.vector.local_persistent_hnsw:Add of existing embedding ID: ff53f22f47109437029b4e61833d7425\n",
      "WARNING:chromadb.segment.impl.vector.local_persistent_hnsw:Add of existing embedding ID: e924b8fea073ba097d55a18135116699\n",
      "WARNING:chromadb.segment.impl.vector.local_persistent_hnsw:Add of existing embedding ID: edd100072eda8c3ef2b788920a1e1559\n",
      "WARNING:chromadb.segment.impl.vector.local_persistent_hnsw:Add of existing embedding ID: fbc0132459aa6251384baa6c5fd6a749\n"
     ]
    },
    {
     "name": "stdout",
     "output_type": "stream",
     "text": [
      "Finished loading data from PDFs.\n",
      "Loading data from HTML files...\n",
      "Finished loading data from HTML files.\n",
      "Loading data from URLs...\n",
      "Processing URL: https://open.oregonstate.education/computationalbiology/chapter/command-line-blast/\n",
      "Processing URL: https://en.wikipedia.org/wiki/BLAST_(biotechnology)\n",
      "Processing URL: https://github.com/enormandeau/ncbi_blast_tutorial\n",
      "Processing URL: https://chanzuckerberg.zendesk.com/hc/en-us/articles/360050963352-A-Guide-to-BLAST\n"
     ]
    },
    {
     "name": "stderr",
     "output_type": "stream",
     "text": [
      "ERROR:root:Error adding data to vector database: Expected IDs to be a non-empty list, got 0 IDs\n"
     ]
    },
    {
     "name": "stdout",
     "output_type": "stream",
     "text": [
      "Processing URL: https://github.com/sanger-pathogens/assembly-stats/blob/master/README.md#installation\n",
      "Processing URL: http://quinlanlab.org/tutorials/bedtools.html\n",
      "Processing URL: https://daehwankimlab.github.io/hisat2/manual/\n",
      "Processing URL: https://www.repeatmasker.org/webrepeatmaskerhelp.html\n",
      "Processing URL: https://www.repeatmasker.org/RepeatModeler/\n",
      "Processing URL: https://manpages.ubuntu.com/manpages/oracular/en/man1/seqtk.1.html#commands\n",
      "Processing URL: https://ccb.jhu.edu/software/stringtie/index.shtml?t=manual\n",
      "Processing URL: https://github.com/FelixKrueger/TrimGalore/blob/master/Docs/Trim_Galore_User_Guide.md\n",
      "Processing URL: https://www.bioinformatics.babraham.ac.uk/projects/fastqc/\n",
      "Processing URL: https://github.com/TransDecoder/TransDecoder/wiki\n",
      "Processing URL: https://bioinf.shenwei.me/seqkit/tutorial/\n",
      "Processing URL: https://github.com/tseemann/barrnap/blob/master/README.md\n",
      "Processing URL: https://bitbucket.org/berkeleylab/checkv/src/master/README.md\n"
     ]
    },
    {
     "name": "stderr",
     "output_type": "stream",
     "text": [
      "ERROR:root:Error adding data to vector database: Expected IDs to be a non-empty list, got 0 IDs\n"
     ]
    },
    {
     "name": "stdout",
     "output_type": "stream",
     "text": [
      "Processing URL: https://github.com/tseemann/prokka/blob/master/README.md\n",
      "Processing URL: https://vicfero.github.io/trimal/index.html\n",
      "Finished loading data from URLs.\n"
     ]
    }
   ],
   "source": [
    "test_vector_db.load_data()"
   ]
  },
  {
   "cell_type": "markdown",
   "metadata": {},
   "source": [
    "Loading might take some time. After loading, check if the vector database has been populated successfully:"
   ]
  },
  {
   "cell_type": "code",
   "execution_count": 7,
   "metadata": {},
   "outputs": [
    {
     "data": {
      "text/plain": [
       "{'BBTools',\n",
       " 'BRAKER',\n",
       " 'Bookshelf_NBK279690',\n",
       " 'EDTA',\n",
       " 'GeMoMa-manual',\n",
       " 'MMseqs2',\n",
       " 'OrthoFinder',\n",
       " 'eggNOG',\n",
       " 'http://quinlanlab.org/tutorials/bedtools.html',\n",
       " 'https://bioinf.shenwei.me/seqkit/tutorial/',\n",
       " 'https://ccb.jhu.edu/software/stringtie/index.shtml?t=manual',\n",
       " 'https://daehwankimlab.github.io/hisat2/manual/',\n",
       " 'https://en.wikipedia.org/wiki/BLAST_(biotechnology)',\n",
       " 'https://github.com/FelixKrueger/TrimGalore/blob/master/Docs/Trim_Galore_User_Guide.md',\n",
       " 'https://github.com/TransDecoder/TransDecoder/wiki',\n",
       " 'https://github.com/enormandeau/ncbi_blast_tutorial',\n",
       " 'https://github.com/sanger-pathogens/assembly-stats/blob/master/README.md#installation',\n",
       " 'https://github.com/tseemann/barrnap/blob/master/README.md',\n",
       " 'https://github.com/tseemann/prokka/blob/master/README.md',\n",
       " 'https://manpages.ubuntu.com/manpages/oracular/en/man1/seqtk.1.html#commands',\n",
       " 'https://open.oregonstate.education/computationalbiology/chapter/command-line-blast/',\n",
       " 'https://vicfero.github.io/trimal/index.html',\n",
       " 'https://www.bioinformatics.babraham.ac.uk/projects/fastqc/',\n",
       " 'https://www.repeatmasker.org/RepeatModeler/',\n",
       " 'https://www.repeatmasker.org/webrepeatmaskerhelp.html',\n",
       " 'nwutils',\n",
       " 'phylonet',\n",
       " 'sample2'}"
      ]
     },
     "execution_count": 7,
     "metadata": {},
     "output_type": "execute_result"
    }
   ],
   "source": [
    "test_vector_db.peek()\n",
    "test_vector_db.show_sources()"
   ]
  },
  {
   "cell_type": "markdown",
   "metadata": {},
   "source": [
    "#### Generate Answers on Jupyer notebook:"
   ]
  },
  {
   "cell_type": "code",
   "execution_count": 11,
   "metadata": {},
   "outputs": [
    {
     "name": "stdout",
     "output_type": "stream",
     "text": [
      "To get the results of BLASTP in XML format, use `blast_formatter` with the `-outfmt 5` option.\n"
     ]
    }
   ],
   "source": [
    "testRAG = rag(input_dir, output_dir, urls_path, chroma_db_dir, chroma_db_name, model)\n",
    "print(testRAG.generate_answer(\"How to get the results of BLASTP in XML format?\"))"
   ]
  }
 ],
 "metadata": {
  "kernelspec": {
   "display_name": "ml",
   "language": "python",
   "name": "python3"
  },
  "language_info": {
   "codemirror_mode": {
    "name": "ipython",
    "version": 3
   },
   "file_extension": ".py",
   "mimetype": "text/x-python",
   "name": "python",
   "nbconvert_exporter": "python",
   "pygments_lexer": "ipython3",
   "version": "3.10.12"
  }
 },
 "nbformat": 4,
 "nbformat_minor": 2
}

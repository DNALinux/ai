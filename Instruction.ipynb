{
 "cells": [
  {
   "cell_type": "code",
   "execution_count": 5,
   "metadata": {},
   "outputs": [],
   "source": [
    "import sys\n",
    "sys.path.append('/home/tagore/repos/ai/src')\n",
    "from src import RAG as rag\n",
    "from src import TextExtractor as te\n",
    "from src import VectorDB as vdb"
   ]
  },
  {
   "cell_type": "markdown",
   "metadata": {},
   "source": [
    "#### Load Configuration"
   ]
  },
  {
   "cell_type": "code",
   "execution_count": 6,
   "metadata": {},
   "outputs": [],
   "source": [
    "# Load configuration, please insert the path to your configuration file.\n",
    "config = rag.load_config('/home/tagore/repos/ai/src/config_template.yaml')\n",
    "\n",
    "# Extract configuration values\n",
    "vector_db_config = config.get('vector_db')\n",
    "input_dir = vector_db_config.get('input_dir')\n",
    "output_dir = vector_db_config.get('output_dir')\n",
    "urls_path = vector_db_config.get('urls_path')\n",
    "chroma_db_dir = vector_db_config.get('chroma_db_dir')\n",
    "chroma_db_name = vector_db_config.get('chroma_db_name')\n",
    "model = vector_db_config.get('model')"
   ]
  },
  {
   "cell_type": "markdown",
   "metadata": {},
   "source": [
    "#### Directory Setup and Initiate Database\n",
    "\n",
    "If you have previously run this step, you can still do this step to access your existing database."
   ]
  },
  {
   "cell_type": "code",
   "execution_count": 7,
   "metadata": {},
   "outputs": [],
   "source": [
    "test_vector_db = vdb.VectorDB(input_dir, output_dir,urls_path, chroma_db_dir, chroma_db_name)"
   ]
  },
  {
   "cell_type": "markdown",
   "metadata": {},
   "source": [
    "#### Load Data\n",
    "\n",
    "if you reload existing data, it will not overwrite. The best practice of updating is to first delete, then run this step again. Be careful that this will load everything that you put in the directory."
   ]
  },
  {
   "cell_type": "code",
   "execution_count": 5,
   "metadata": {},
   "outputs": [
    {
     "name": "stdout",
     "output_type": "stream",
     "text": [
      "Loading data from HTML files...\n",
      "Processing HTML: /home/tagore/repos/ai/data/example_data/sample2.html\n",
      "Finished loading data from HTML files.\n"
     ]
    }
   ],
   "source": [
    "test_vector_db.load_data()"
   ]
  },
  {
   "cell_type": "markdown",
   "metadata": {},
   "source": [
    "Loading might take some time. After loading, check if the vector database has been populated successfully:"
   ]
  },
  {
   "cell_type": "code",
   "execution_count": 6,
   "metadata": {},
   "outputs": [
    {
     "data": {
      "text/plain": [
       "{'BBTools',\n",
       " 'BRAKER',\n",
       " 'Bookshelf_NBK279690',\n",
       " 'EDTA',\n",
       " 'GeMoMa-manual',\n",
       " 'MMseqs2',\n",
       " 'OrthoFinder',\n",
       " 'eggNOG',\n",
       " 'nwutils',\n",
       " 'phylonet',\n",
       " 'sample2'}"
      ]
     },
     "execution_count": 6,
     "metadata": {},
     "output_type": "execute_result"
    }
   ],
   "source": [
    "test_vector_db.peek()\n",
    "test_vector_db.show_sources()"
   ]
  },
  {
   "cell_type": "markdown",
   "metadata": {},
   "source": [
    "#### Generate Answers on Jupyer notebook:"
   ]
  },
  {
   "cell_type": "code",
   "execution_count": 10,
   "metadata": {},
   "outputs": [
    {
     "name": "stdout",
     "output_type": "stream",
     "text": [
      "To get the results of BLASTP in XML format, you can use the `blast_formatter` command with the `-outfmt 5` option and specify the RID from the blastn search result. For example:\n",
      "\n",
      "$ blast_formatter –rid X3R7GAUS014 –out test.xml –outfmt 5\n"
     ]
    }
   ],
   "source": [
    "testRAG = rag.RAG(input_dir, output_dir, chroma_db_dir, chroma_db_name)\n",
    "print(testRAG.generate_answer(\"How to get the results of BLASTP in XML format?\"))"
   ]
  }
 ],
 "metadata": {
  "kernelspec": {
   "display_name": "ml",
   "language": "python",
   "name": "python3"
  },
  "language_info": {
   "codemirror_mode": {
    "name": "ipython",
    "version": 3
   },
   "file_extension": ".py",
   "mimetype": "text/x-python",
   "name": "python",
   "nbconvert_exporter": "python",
   "pygments_lexer": "ipython3",
   "version": "3.10.12"
  }
 },
 "nbformat": 4,
 "nbformat_minor": 2
}

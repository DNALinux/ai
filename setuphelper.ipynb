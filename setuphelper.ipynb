{
 "cells": [
  {
   "cell_type": "code",
   "execution_count": 23,
   "metadata": {},
   "outputs": [],
   "source": [
    "import re\n",
    "\n",
    "def convert_conda_to_pip(conda_file='conda-packages.txt', pip_file='requirements.txt'):\n",
    "    with open(conda_file, 'r') as file:\n",
    "        lines = file.readlines()\n",
    "    \n",
    "    with open(pip_file, 'w') as file:\n",
    "        for line in lines:\n",
    "            # Skip lines that do not represent Python packages\n",
    "            if not re.match(r'^#', line) and re.match(r'^[a-zA-Z]', line):\n",
    "                # Extract package name and version number\n",
    "                match = re.match(r'^([a-zA-Z0-9_\\-]+)=([0-9a-zA-Z\\.\\-]+)=', line)\n",
    "                if match:\n",
    "                    package = match.group(1)\n",
    "                    version = match.group(2)\n",
    "                    file.write(f\"{package}=={version}\\n\")"
   ]
  },
  {
   "cell_type": "code",
   "execution_count": 1,
   "metadata": {},
   "outputs": [
    {
     "ename": "ModuleNotFoundError",
     "evalue": "No module named 'Toyoko'",
     "output_type": "error",
     "traceback": [
      "\u001b[0;31m---------------------------------------------------------------------------\u001b[0m",
      "\u001b[0;31mModuleNotFoundError\u001b[0m                       Traceback (most recent call last)",
      "Cell \u001b[0;32mIn[1], line 1\u001b[0m\n\u001b[0;32m----> 1\u001b[0m \u001b[38;5;28;01mimport\u001b[39;00m \u001b[38;5;21;01mToyoko\u001b[39;00m\n",
      "\u001b[0;31mModuleNotFoundError\u001b[0m: No module named 'Toyoko'"
     ]
    }
   ],
   "source": []
  }
 ],
 "metadata": {
  "kernelspec": {
   "display_name": "ml",
   "language": "python",
   "name": "python3"
  },
  "language_info": {
   "codemirror_mode": {
    "name": "ipython",
    "version": 3
   },
   "file_extension": ".py",
   "mimetype": "text/x-python",
   "name": "python",
   "nbconvert_exporter": "python",
   "pygments_lexer": "ipython3",
   "version": "3.10.12"
  }
 },
 "nbformat": 4,
 "nbformat_minor": 2
}

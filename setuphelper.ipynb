{
 "cells": [
  {
   "cell_type": "code",
   "execution_count": 1,
   "metadata": {},
   "outputs": [],
   "source": [
    "import re\n",
    "\n",
    "def convert_conda_to_pip(conda_file='conda-packages.txt', pip_file='requirements.txt'):\n",
    "    with open(conda_file, 'r') as file:\n",
    "        lines = file.readlines()\n",
    "    \n",
    "    with open(pip_file, 'w') as file:\n",
    "        for line in lines:\n",
    "            # Skip lines that do not represent Python packages\n",
    "            if not re.match(r'^#', line) and re.match(r'^[a-zA-Z]', line):\n",
    "                # Extract package name and version number\n",
    "                match = re.match(r'^([a-zA-Z0-9_\\-]+)=([0-9a-zA-Z\\.\\-]+)=', line)\n",
    "                if match:\n",
    "                    package = match.group(1)\n",
    "                    version = match.group(2)\n",
    "                    file.write(f\"{package}=={version}\\n\")"
   ]
  },
  {
   "cell_type": "code",
   "execution_count": 3,
   "metadata": {},
   "outputs": [],
   "source": []
  }
 ],
 "metadata": {
  "kernelspec": {
   "display_name": "ml",
   "language": "python",
   "name": "python3"
  },
  "language_info": {
   "codemirror_mode": {
    "name": "ipython",
    "version": 3
   },
   "file_extension": ".py",
   "mimetype": "text/x-python",
   "name": "python",
   "nbconvert_exporter": "python",
   "pygments_lexer": "ipython3",
   "version": "3.10.12"
  }
 },
 "nbformat": 4,
 "nbformat_minor": 2
}
